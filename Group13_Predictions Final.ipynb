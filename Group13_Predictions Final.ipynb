{
 "cells": [
  {
   "cell_type": "markdown",
   "id": "f17927aa",
   "metadata": {},
   "source": [
    "# DSC Donor Prediction"
   ]
  },
  {
   "cell_type": "code",
   "execution_count": 470,
   "id": "334033e9",
   "metadata": {},
   "outputs": [],
   "source": [
    "# Importing libraries\n",
    "import sys\n",
    "import pandas               as pd\n",
    "import numpy                as np\n",
    "import seaborn              as sns\n",
    "import matplotlib.pyplot    as plt\n",
    "from pandas                 import DataFrame\n",
    "from pandas                 import read_csv\n",
    "from pandas                 import Series\n",
    "from numpy                  import array\n",
    "from numpy                  import random\n",
    "from matplotlib             import pyplot\n",
    "import warnings\n",
    "warnings.filterwarnings(\"ignore\")\n",
    "\n",
    "import os\n",
    "import datetime\n",
    "from sklearn.metrics import roc_auc_score\n",
    "from ieseg import partition\n",
    "from ieseg import roc\n",
    "from ieseg import lift\n",
    "from ieseg import cumulativeResponse\n",
    "from ieseg import cumulativeGains"
   ]
  },
  {
   "cell_type": "markdown",
   "id": "28bd8167",
   "metadata": {},
   "source": [
    "# DATA PROCESSING"
   ]
  },
  {
   "cell_type": "markdown",
   "id": "b7d42d29",
   "metadata": {},
   "source": [
    "## CAMPAIGNS"
   ]
  },
  {
   "cell_type": "code",
   "execution_count": 471,
   "id": "854841cf",
   "metadata": {},
   "outputs": [
    {
     "data": {
      "text/html": [
       "<div>\n",
       "<style scoped>\n",
       "    .dataframe tbody tr th:only-of-type {\n",
       "        vertical-align: middle;\n",
       "    }\n",
       "\n",
       "    .dataframe tbody tr th {\n",
       "        vertical-align: top;\n",
       "    }\n",
       "\n",
       "    .dataframe thead th {\n",
       "        text-align: right;\n",
       "    }\n",
       "</style>\n",
       "<table border=\"1\" class=\"dataframe\">\n",
       "  <thead>\n",
       "    <tr style=\"text-align: right;\">\n",
       "      <th></th>\n",
       "      <th>campaignID</th>\n",
       "      <th>date</th>\n",
       "      <th>lettersSent</th>\n",
       "      <th>CostUnit</th>\n",
       "    </tr>\n",
       "  </thead>\n",
       "  <tbody>\n",
       "    <tr>\n",
       "      <th>0</th>\n",
       "      <td>153</td>\n",
       "      <td>13/12/2004</td>\n",
       "      <td>6 873</td>\n",
       "      <td>0,17 €</td>\n",
       "    </tr>\n",
       "    <tr>\n",
       "      <th>1</th>\n",
       "      <td>154</td>\n",
       "      <td>01/01/2005</td>\n",
       "      <td>7 656</td>\n",
       "      <td>0,30 €</td>\n",
       "    </tr>\n",
       "    <tr>\n",
       "      <th>2</th>\n",
       "      <td>180</td>\n",
       "      <td>18/01/2005</td>\n",
       "      <td>9 933</td>\n",
       "      <td>0,20 €</td>\n",
       "    </tr>\n",
       "    <tr>\n",
       "      <th>3</th>\n",
       "      <td>433</td>\n",
       "      <td>29/01/2005</td>\n",
       "      <td>7 448</td>\n",
       "      <td>0,59 €</td>\n",
       "    </tr>\n",
       "    <tr>\n",
       "      <th>4</th>\n",
       "      <td>476</td>\n",
       "      <td>12/02/2005</td>\n",
       "      <td>6 605</td>\n",
       "      <td>0,51 €</td>\n",
       "    </tr>\n",
       "  </tbody>\n",
       "</table>\n",
       "</div>"
      ],
      "text/plain": [
       "   campaignID        date lettersSent CostUnit\n",
       "0         153  13/12/2004       6 873   0,17 €\n",
       "1         154  01/01/2005       7 656   0,30 €\n",
       "2         180  18/01/2005       9 933   0,20 €\n",
       "3         433  29/01/2005       7 448   0,59 €\n",
       "4         476  12/02/2005       6 605   0,51 €"
      ]
     },
     "execution_count": 471,
     "metadata": {},
     "output_type": "execute_result"
    }
   ],
   "source": [
    "#read in data\n",
    "campaigns = pd.read_csv('../dsc_data/campaigns.csv', sep=\";\")\n",
    "campaigns.head()"
   ]
  },
  {
   "cell_type": "code",
   "execution_count": 472,
   "id": "6631add7",
   "metadata": {},
   "outputs": [
    {
     "name": "stdout",
     "output_type": "stream",
     "text": [
      "<class 'pandas.core.frame.DataFrame'>\n",
      "RangeIndex: 367 entries, 0 to 366\n",
      "Data columns (total 4 columns):\n",
      " #   Column       Non-Null Count  Dtype \n",
      "---  ------       --------------  ----- \n",
      " 0   campaignID   367 non-null    int64 \n",
      " 1   date         367 non-null    object\n",
      " 2   lettersSent  367 non-null    object\n",
      " 3   CostUnit     367 non-null    object\n",
      "dtypes: int64(1), object(3)\n",
      "memory usage: 11.6+ KB\n"
     ]
    }
   ],
   "source": [
    "campaigns.info()"
   ]
  },
  {
   "cell_type": "code",
   "execution_count": 473,
   "id": "fc0ab6b6",
   "metadata": {},
   "outputs": [],
   "source": [
    "# Converting the date column to the datetime format\n",
    "campaigns['CampaignDate'] = pd.to_datetime(campaigns['date'])"
   ]
  },
  {
   "cell_type": "code",
   "execution_count": 474,
   "id": "7ee0ad53",
   "metadata": {},
   "outputs": [],
   "source": [
    "# Extracting the number from the CostUnit column and then converting to float\n",
    "campaigns['CostUnitEuro'] = campaigns.CostUnit.str.extract('(\\d+,\\d+)')\n",
    "campaigns['CostUnitEuro'] = campaigns['CostUnitEuro'].str.replace(',', '.').astype(float)"
   ]
  },
  {
   "cell_type": "code",
   "execution_count": 475,
   "id": "de7ec0b5",
   "metadata": {},
   "outputs": [],
   "source": [
    "# Converting the lettersSent column to int type\n",
    "campaigns['lettersSent'] = campaigns['lettersSent'].str.replace('\\u202f', '').astype(int)"
   ]
  },
  {
   "cell_type": "code",
   "execution_count": 476,
   "id": "e2267962",
   "metadata": {},
   "outputs": [],
   "source": [
    "# drop unwanted columns\n",
    "campaigns.drop(columns=['date', 'CostUnit'], inplace=True)"
   ]
  },
  {
   "cell_type": "code",
   "execution_count": 477,
   "id": "4c410f31",
   "metadata": {},
   "outputs": [],
   "source": [
    "#extract Campaign year month and day from Campaigndate\n",
    "campaigns['camp_year'] = pd.DatetimeIndex(campaigns['CampaignDate']).year\n",
    "campaigns['camp_month'] = pd.DatetimeIndex(campaigns['CampaignDate']).month\n",
    "campaigns['camp_day'] = pd.DatetimeIndex(campaigns['CampaignDate']).day"
   ]
  },
  {
   "cell_type": "code",
   "execution_count": 478,
   "id": "1e0817f3",
   "metadata": {},
   "outputs": [],
   "source": [
    "# cost per campaign calculation\n",
    "campaigns['cost_per_campaign'] = campaigns['lettersSent']*campaigns['CostUnitEuro']"
   ]
  },
  {
   "cell_type": "code",
   "execution_count": 479,
   "id": "9a5f4c5e",
   "metadata": {},
   "outputs": [
    {
     "data": {
      "text/html": [
       "<div>\n",
       "<style scoped>\n",
       "    .dataframe tbody tr th:only-of-type {\n",
       "        vertical-align: middle;\n",
       "    }\n",
       "\n",
       "    .dataframe tbody tr th {\n",
       "        vertical-align: top;\n",
       "    }\n",
       "\n",
       "    .dataframe thead th {\n",
       "        text-align: right;\n",
       "    }\n",
       "</style>\n",
       "<table border=\"1\" class=\"dataframe\">\n",
       "  <thead>\n",
       "    <tr style=\"text-align: right;\">\n",
       "      <th></th>\n",
       "      <th>campaignID</th>\n",
       "      <th>lettersSent</th>\n",
       "      <th>CampaignDate</th>\n",
       "      <th>CostUnitEuro</th>\n",
       "      <th>camp_year</th>\n",
       "      <th>camp_month</th>\n",
       "      <th>camp_day</th>\n",
       "      <th>cost_per_campaign</th>\n",
       "    </tr>\n",
       "  </thead>\n",
       "  <tbody>\n",
       "    <tr>\n",
       "      <th>335</th>\n",
       "      <td>6169</td>\n",
       "      <td>34888</td>\n",
       "      <td>2018-04-09</td>\n",
       "      <td>0.87</td>\n",
       "      <td>2018</td>\n",
       "      <td>4</td>\n",
       "      <td>9</td>\n",
       "      <td>30352.56</td>\n",
       "    </tr>\n",
       "  </tbody>\n",
       "</table>\n",
       "</div>"
      ],
      "text/plain": [
       "     campaignID  lettersSent CampaignDate  CostUnitEuro  camp_year  \\\n",
       "335        6169        34888   2018-04-09          0.87       2018   \n",
       "\n",
       "     camp_month  camp_day  cost_per_campaign  \n",
       "335           4         9           30352.56  "
      ]
     },
     "execution_count": 479,
     "metadata": {},
     "output_type": "execute_result"
    }
   ],
   "source": [
    "#checking for campaign 6169\n",
    "campaigns[campaigns['campaignID']==6169]"
   ]
  },
  {
   "cell_type": "code",
   "execution_count": 480,
   "id": "e1614661",
   "metadata": {},
   "outputs": [
    {
     "data": {
      "text/html": [
       "<div>\n",
       "<style scoped>\n",
       "    .dataframe tbody tr th:only-of-type {\n",
       "        vertical-align: middle;\n",
       "    }\n",
       "\n",
       "    .dataframe tbody tr th {\n",
       "        vertical-align: top;\n",
       "    }\n",
       "\n",
       "    .dataframe thead th {\n",
       "        text-align: right;\n",
       "    }\n",
       "</style>\n",
       "<table border=\"1\" class=\"dataframe\">\n",
       "  <thead>\n",
       "    <tr style=\"text-align: right;\">\n",
       "      <th></th>\n",
       "      <th>campaignID</th>\n",
       "      <th>lettersSent</th>\n",
       "      <th>CampaignDate</th>\n",
       "      <th>CostUnitEuro</th>\n",
       "      <th>camp_year</th>\n",
       "      <th>camp_month</th>\n",
       "      <th>camp_day</th>\n",
       "      <th>cost_per_campaign</th>\n",
       "    </tr>\n",
       "  </thead>\n",
       "  <tbody>\n",
       "    <tr>\n",
       "      <th>354</th>\n",
       "      <td>7244</td>\n",
       "      <td>25645</td>\n",
       "      <td>2019-06-18</td>\n",
       "      <td>0.55</td>\n",
       "      <td>2019</td>\n",
       "      <td>6</td>\n",
       "      <td>18</td>\n",
       "      <td>14104.75</td>\n",
       "    </tr>\n",
       "  </tbody>\n",
       "</table>\n",
       "</div>"
      ],
      "text/plain": [
       "     campaignID  lettersSent CampaignDate  CostUnitEuro  camp_year  \\\n",
       "354        7244        25645   2019-06-18          0.55       2019   \n",
       "\n",
       "     camp_month  camp_day  cost_per_campaign  \n",
       "354           6        18           14104.75  "
      ]
     },
     "execution_count": 480,
     "metadata": {},
     "output_type": "execute_result"
    }
   ],
   "source": [
    "#checking for campaign 7244\n",
    "campaigns[campaigns['campaignID']==7244]"
   ]
  },
  {
   "cell_type": "code",
   "execution_count": 481,
   "id": "cbda19e0",
   "metadata": {},
   "outputs": [
    {
     "data": {
      "text/plain": [
       "array([ 153,  154,  180,  433,  476,  498,  536,  574,  584,  606,  627,\n",
       "        663,  669,  711,  723,  767,  768,  796,  804,  816,  850,  858,\n",
       "        899,  901,  930,  954,  968,  979,  980, 1000, 1026, 1028, 1034,\n",
       "       1058, 1074, 1101, 1148, 1149, 1153, 1181, 1185, 1207, 1212, 1218,\n",
       "       1235, 1245, 1248, 1280, 1316, 1317, 1331, 1338, 1343, 1374, 1377,\n",
       "       1397, 1400, 1424, 1428, 1465, 1489, 1490, 1513, 1529, 1544, 1556,\n",
       "       1568, 1577, 1601, 1615, 1626, 1634, 1636, 1663, 1664, 1678, 1698,\n",
       "       1699, 1736, 1739, 1755, 1775, 1778, 1790, 1808, 1843, 1844, 1851,\n",
       "       1861, 1875, 1878, 1903, 1904, 1917, 1929, 1933, 1949, 1962, 1966,\n",
       "       1991, 1992, 2021, 2029, 2035, 2040, 2059, 2090, 2094, 2105, 2123,\n",
       "       2129, 2133, 2144, 2163, 2193, 2194, 2224, 2225, 2231, 2232, 2233,\n",
       "       2256, 2263, 2285, 2296, 2319, 2335, 2351, 2360, 2389, 2390, 2414,\n",
       "       2415, 2416, 2417, 2451, 2470, 2485, 2498, 2534, 2550, 2553, 2566,\n",
       "       2577, 2579, 2580, 2632, 2633, 2646, 2653, 2654, 2677, 2695, 2710,\n",
       "       2711, 2712, 2713, 2714, 2802, 2838, 2871, 2872, 2905, 2908, 2916,\n",
       "       2945, 2963, 2964, 2994, 3016, 3033, 3049, 3064, 3079, 3083, 3108,\n",
       "       3125, 3129, 3183, 3184, 3186, 3187, 3188, 3189, 3236, 3249, 3254,\n",
       "       3277, 3300, 3318, 3330, 3346, 3348, 3356, 3357, 3360, 3361, 3440,\n",
       "       3441, 3443, 3444, 3445, 3448, 3449, 3505, 3506, 3527, 3528, 3537,\n",
       "       3542, 3545, 3546, 3550, 3565, 3566, 3603, 3614, 3642, 3663, 3664,\n",
       "       3669, 3670, 3675, 3780, 3781, 3782, 3783, 3784, 3785, 3786, 3787,\n",
       "       3788, 3808, 3809, 3810, 3811, 3812, 3814, 3815, 3816, 3895, 3896,\n",
       "       3916, 3918, 3930, 3941, 4133, 4134, 4135, 4136, 4137, 4138, 4139,\n",
       "       4140, 4141, 4142, 4143, 4144, 4145, 4146, 4147, 4148, 4149, 4150,\n",
       "       4151, 4210, 4211, 4212, 4213, 4214, 4215, 4216, 4217, 4218, 4219,\n",
       "       4220, 4221, 4222, 4223, 4263, 4272, 4273, 4301, 4306, 4320, 4383,\n",
       "       4384, 4409, 4410, 4431, 4460, 4500, 4502, 4506, 4672, 4674, 4676,\n",
       "       4677, 4678, 4679, 4680, 4681, 4682, 4683, 4684, 4685, 4686, 4687,\n",
       "       4801, 4828, 4830, 4966, 4990, 4991, 5002, 5016, 5062, 5080, 5102,\n",
       "       5103, 5104, 5175, 5186, 5213, 5232, 5267, 5270, 5296, 5316, 5326,\n",
       "       5359, 5397, 5434, 5449, 6168, 6169, 6170, 6174, 6922, 6924, 6958,\n",
       "       6959, 7002, 7005, 7037, 7059, 7064, 7074, 7090, 7108, 7199, 7212,\n",
       "       7229, 7243, 7244, 7276, 7330, 7335, 7346, 7356, 7395, 7408, 7494,\n",
       "       7503, 7505, 7519, 7536], dtype=int64)"
      ]
     },
     "execution_count": 481,
     "metadata": {},
     "output_type": "execute_result"
    }
   ],
   "source": [
    "#checking for campaign values\n",
    "campaigns.campaignID.unique()"
   ]
  },
  {
   "cell_type": "code",
   "execution_count": 482,
   "id": "add4bbe1",
   "metadata": {},
   "outputs": [
    {
     "data": {
      "image/png": "[encoded data removed]",
      "text/plain": [
       "<Figure size 1440x576 with 1 Axes>"
      ]
     },
     "metadata": {
      "needs_background": "light"
     },
     "output_type": "display_data"
    }
   ],
   "source": [
    "#visualization\n",
    "cols_num = ['campaignID','lettersSent','CampaignDate','camp_year','camp_month','camp_day','cost_per_campaign']\n",
    "fig, ax = plt.subplots()\n",
    "fig.set_size_inches(20, 8)\n",
    "sns.countplot(x = 'camp_month', data =  campaigns[cols_num])\n",
    "ax.set_xlabel('MONTH', fontsize=15)\n",
    "ax.set_ylabel('COUNT', fontsize=15)\n",
    "ax.set_title('MONTH COUNT DISTRIBUTION', fontsize=15)\n",
    "sns.despine()"
   ]
  },
  {
   "cell_type": "code",
   "execution_count": 483,
   "id": "91637288",
   "metadata": {},
   "outputs": [
    {
     "data": {
      "text/plain": [
       "(367, 8)"
      ]
     },
     "execution_count": 483,
     "metadata": {},
     "output_type": "execute_result"
    }
   ],
   "source": [
    "#checking the shape of the data\n",
    "campaigns.shape"
   ]
  },
  {
   "cell_type": "code",
   "execution_count": 484,
   "id": "003045f8",
   "metadata": {},
   "outputs": [
    {
     "name": "stdout",
     "output_type": "stream",
     "text": [
      "<class 'pandas.core.frame.DataFrame'>\n",
      "RangeIndex: 367 entries, 0 to 366\n",
      "Data columns (total 8 columns):\n",
      " #   Column             Non-Null Count  Dtype         \n",
      "---  ------             --------------  -----         \n",
      " 0   campaignID         367 non-null    int64         \n",
      " 1   lettersSent        367 non-null    int32         \n",
      " 2   CampaignDate       367 non-null    datetime64[ns]\n",
      " 3   CostUnitEuro       367 non-null    float64       \n",
      " 4   camp_year          367 non-null    int64         \n",
      " 5   camp_month         367 non-null    int64         \n",
      " 6   camp_day           367 non-null    int64         \n",
      " 7   cost_per_campaign  367 non-null    float64       \n",
      "dtypes: datetime64[ns](1), float64(2), int32(1), int64(4)\n",
      "memory usage: 21.6 KB\n"
     ]
    }
   ],
   "source": [
    "campaigns.info()"
   ]
  },
  {
   "cell_type": "markdown",
   "id": "569cfee3",
   "metadata": {},
   "source": [
    "## DONORS"
   ]
  },
  {
   "cell_type": "code",
   "execution_count": 485,
   "id": "3e1022b0",
   "metadata": {},
   "outputs": [],
   "source": [
    "#read donor data\n",
    "donors = pd.read_csv('../dsc_data/donors.csv', sep=',')"
   ]
  },
  {
   "cell_type": "code",
   "execution_count": 486,
   "id": "a2f35030",
   "metadata": {},
   "outputs": [
    {
     "name": "stdout",
     "output_type": "stream",
     "text": [
      "<class 'pandas.core.frame.DataFrame'>\n",
      "RangeIndex: 44691 entries, 0 to 44690\n",
      "Data columns (total 8 columns):\n",
      " #   Column       Non-Null Count  Dtype  \n",
      "---  ------       --------------  -----  \n",
      " 0   Unnamed: 0   44691 non-null  int64  \n",
      " 1   donorID      44691 non-null  int64  \n",
      " 2   zipcode      44689 non-null  float64\n",
      " 3   province     44691 non-null  object \n",
      " 4   region       44691 non-null  object \n",
      " 5   gender       44659 non-null  object \n",
      " 6   language     44691 non-null  object \n",
      " 7   dateOfBirth  44691 non-null  object \n",
      "dtypes: float64(1), int64(2), object(5)\n",
      "memory usage: 2.7+ MB\n"
     ]
    }
   ],
   "source": [
    "#checking the data\n",
    "donors.info()"
   ]
  },
  {
   "cell_type": "code",
   "execution_count": 487,
   "id": "662a4ef9",
   "metadata": {},
   "outputs": [
    {
     "data": {
      "text/plain": [
       "Unnamed: 0      0\n",
       "donorID         0\n",
       "zipcode         2\n",
       "province        0\n",
       "region          0\n",
       "gender         32\n",
       "language        0\n",
       "dateOfBirth     0\n",
       "dtype: int64"
      ]
     },
     "execution_count": 487,
     "metadata": {},
     "output_type": "execute_result"
    }
   ],
   "source": [
    "#Check missing values\n",
    "donors.isna().sum()"
   ]
  },
  {
   "cell_type": "code",
   "execution_count": 488,
   "id": "82e74358",
   "metadata": {},
   "outputs": [],
   "source": [
    "#Dropping Unwanted unnamed column\n",
    "donors.drop(columns=['Unnamed: 0'], inplace=True)"
   ]
  },
  {
   "cell_type": "code",
   "execution_count": 489,
   "id": "ffac794f",
   "metadata": {},
   "outputs": [
    {
     "data": {
      "text/plain": [
       "array(['Flemish Brabant', 'Antwerp', 'Brussels', 'Walloon Brabant',\n",
       "       'West Flanders', 'East Flanders', 'Liege', 'Luxembourg', 'Namur',\n",
       "       'Hainaut', 'Limburg', 'ANTWERP', 'Missing'], dtype=object)"
      ]
     },
     "execution_count": 489,
     "metadata": {},
     "output_type": "execute_result"
    }
   ],
   "source": [
    "#checking for unique values in province \n",
    "donors.province.unique()"
   ]
  },
  {
   "cell_type": "code",
   "execution_count": 490,
   "id": "95d62fc7",
   "metadata": {},
   "outputs": [
    {
     "data": {
      "text/html": [
       "<div>\n",
       "<style scoped>\n",
       "    .dataframe tbody tr th:only-of-type {\n",
       "        vertical-align: middle;\n",
       "    }\n",
       "\n",
       "    .dataframe tbody tr th {\n",
       "        vertical-align: top;\n",
       "    }\n",
       "\n",
       "    .dataframe thead th {\n",
       "        text-align: right;\n",
       "    }\n",
       "</style>\n",
       "<table border=\"1\" class=\"dataframe\">\n",
       "  <thead>\n",
       "    <tr style=\"text-align: right;\">\n",
       "      <th></th>\n",
       "      <th>donorID</th>\n",
       "      <th>zipcode</th>\n",
       "      <th>province</th>\n",
       "      <th>region</th>\n",
       "      <th>gender</th>\n",
       "      <th>language</th>\n",
       "      <th>dateOfBirth</th>\n",
       "    </tr>\n",
       "  </thead>\n",
       "  <tbody>\n",
       "    <tr>\n",
       "      <th>5019</th>\n",
       "      <td>105020</td>\n",
       "      <td>NaN</td>\n",
       "      <td>Missing</td>\n",
       "      <td>Missing</td>\n",
       "      <td>M</td>\n",
       "      <td>EN</td>\n",
       "      <td>11/09/1966</td>\n",
       "    </tr>\n",
       "    <tr>\n",
       "      <th>22100</th>\n",
       "      <td>122101</td>\n",
       "      <td>NaN</td>\n",
       "      <td>Missing</td>\n",
       "      <td>Missing</td>\n",
       "      <td>F</td>\n",
       "      <td>EN</td>\n",
       "      <td>10/31/1975</td>\n",
       "    </tr>\n",
       "  </tbody>\n",
       "</table>\n",
       "</div>"
      ],
      "text/plain": [
       "       donorID  zipcode province   region gender language dateOfBirth\n",
       "5019    105020      NaN  Missing  Missing      M       EN  11/09/1966\n",
       "22100   122101      NaN  Missing  Missing      F       EN  10/31/1975"
      ]
     },
     "execution_count": 490,
     "metadata": {},
     "output_type": "execute_result"
    }
   ],
   "source": [
    "# Check rows where donor zipcode value is missing\n",
    "donors[donors['zipcode'].isna()]"
   ]
  },
  {
   "cell_type": "code",
   "execution_count": 491,
   "id": "e5aff76d",
   "metadata": {},
   "outputs": [],
   "source": [
    "#Dropping rows with some missing values \n",
    "donors = donors.drop([5019, 22100])"
   ]
  },
  {
   "cell_type": "code",
   "execution_count": 492,
   "id": "a451571b",
   "metadata": {},
   "outputs": [
    {
     "data": {
      "text/html": [
       "<div>\n",
       "<style scoped>\n",
       "    .dataframe tbody tr th:only-of-type {\n",
       "        vertical-align: middle;\n",
       "    }\n",
       "\n",
       "    .dataframe tbody tr th {\n",
       "        vertical-align: top;\n",
       "    }\n",
       "\n",
       "    .dataframe thead th {\n",
       "        text-align: right;\n",
       "    }\n",
       "</style>\n",
       "<table border=\"1\" class=\"dataframe\">\n",
       "  <thead>\n",
       "    <tr style=\"text-align: right;\">\n",
       "      <th></th>\n",
       "      <th>donorID</th>\n",
       "      <th>zipcode</th>\n",
       "      <th>province</th>\n",
       "      <th>region</th>\n",
       "      <th>gender</th>\n",
       "      <th>language</th>\n",
       "      <th>dateOfBirth</th>\n",
       "    </tr>\n",
       "  </thead>\n",
       "  <tbody>\n",
       "    <tr>\n",
       "      <th>15231</th>\n",
       "      <td>115232</td>\n",
       "      <td>0.0</td>\n",
       "      <td>Walloon Brabant</td>\n",
       "      <td>Wallonia</td>\n",
       "      <td>M</td>\n",
       "      <td>FR</td>\n",
       "      <td>02/06/1932</td>\n",
       "    </tr>\n",
       "  </tbody>\n",
       "</table>\n",
       "</div>"
      ],
      "text/plain": [
       "       donorID  zipcode         province    region gender language dateOfBirth\n",
       "15231   115232      0.0  Walloon Brabant  Wallonia      M       FR  02/06/1932"
      ]
     },
     "execution_count": 492,
     "metadata": {},
     "output_type": "execute_result"
    }
   ],
   "source": [
    "#checking for zip code equal to 0 value\n",
    "donors[donors['zipcode']==0]"
   ]
  },
  {
   "cell_type": "code",
   "execution_count": 493,
   "id": "d82525df",
   "metadata": {},
   "outputs": [
    {
     "data": {
      "text/html": [
       "<div>\n",
       "<style scoped>\n",
       "    .dataframe tbody tr th:only-of-type {\n",
       "        vertical-align: middle;\n",
       "    }\n",
       "\n",
       "    .dataframe tbody tr th {\n",
       "        vertical-align: top;\n",
       "    }\n",
       "\n",
       "    .dataframe thead th {\n",
       "        text-align: right;\n",
       "    }\n",
       "</style>\n",
       "<table border=\"1\" class=\"dataframe\">\n",
       "  <thead>\n",
       "    <tr style=\"text-align: right;\">\n",
       "      <th></th>\n",
       "      <th>donorID</th>\n",
       "      <th>zipcode</th>\n",
       "      <th>province</th>\n",
       "      <th>region</th>\n",
       "      <th>gender</th>\n",
       "      <th>language</th>\n",
       "      <th>dateOfBirth</th>\n",
       "    </tr>\n",
       "  </thead>\n",
       "  <tbody>\n",
       "    <tr>\n",
       "      <th>49</th>\n",
       "      <td>100050</td>\n",
       "      <td>1331.0</td>\n",
       "      <td>Walloon Brabant</td>\n",
       "      <td>Wallonia</td>\n",
       "      <td>F</td>\n",
       "      <td>FR</td>\n",
       "      <td>01/26/1956</td>\n",
       "    </tr>\n",
       "    <tr>\n",
       "      <th>92</th>\n",
       "      <td>100093</td>\n",
       "      <td>4800.0</td>\n",
       "      <td>Liege</td>\n",
       "      <td>Wallonia</td>\n",
       "      <td>F</td>\n",
       "      <td>FR</td>\n",
       "      <td>12/13/1988</td>\n",
       "    </tr>\n",
       "    <tr>\n",
       "      <th>105</th>\n",
       "      <td>100106</td>\n",
       "      <td>1420.0</td>\n",
       "      <td>Walloon Brabant</td>\n",
       "      <td>Wallonia</td>\n",
       "      <td>F</td>\n",
       "      <td>FR</td>\n",
       "      <td>01/29/1960</td>\n",
       "    </tr>\n",
       "    <tr>\n",
       "      <th>116</th>\n",
       "      <td>100117</td>\n",
       "      <td>6821.0</td>\n",
       "      <td>Luxembourg</td>\n",
       "      <td>Wallonia</td>\n",
       "      <td>M</td>\n",
       "      <td>FR</td>\n",
       "      <td>01/17/1979</td>\n",
       "    </tr>\n",
       "    <tr>\n",
       "      <th>117</th>\n",
       "      <td>100118</td>\n",
       "      <td>4000.0</td>\n",
       "      <td>Liege</td>\n",
       "      <td>Wallonia</td>\n",
       "      <td>M</td>\n",
       "      <td>FR</td>\n",
       "      <td>11/04/1973</td>\n",
       "    </tr>\n",
       "    <tr>\n",
       "      <th>...</th>\n",
       "      <td>...</td>\n",
       "      <td>...</td>\n",
       "      <td>...</td>\n",
       "      <td>...</td>\n",
       "      <td>...</td>\n",
       "      <td>...</td>\n",
       "      <td>...</td>\n",
       "    </tr>\n",
       "    <tr>\n",
       "      <th>44670</th>\n",
       "      <td>144671</td>\n",
       "      <td>6850.0</td>\n",
       "      <td>Luxembourg</td>\n",
       "      <td>Wallonia</td>\n",
       "      <td>F</td>\n",
       "      <td>FR</td>\n",
       "      <td>10/09/1966</td>\n",
       "    </tr>\n",
       "    <tr>\n",
       "      <th>44671</th>\n",
       "      <td>144672</td>\n",
       "      <td>6790.0</td>\n",
       "      <td>Luxembourg</td>\n",
       "      <td>Wallonia</td>\n",
       "      <td>M</td>\n",
       "      <td>FR</td>\n",
       "      <td>11/22/1984</td>\n",
       "    </tr>\n",
       "    <tr>\n",
       "      <th>44675</th>\n",
       "      <td>144676</td>\n",
       "      <td>4180.0</td>\n",
       "      <td>Liege</td>\n",
       "      <td>Wallonia</td>\n",
       "      <td>M</td>\n",
       "      <td>FR</td>\n",
       "      <td>04/23/1976</td>\n",
       "    </tr>\n",
       "    <tr>\n",
       "      <th>44680</th>\n",
       "      <td>144681</td>\n",
       "      <td>6110.0</td>\n",
       "      <td>Hainaut</td>\n",
       "      <td>Wallonia</td>\n",
       "      <td>M</td>\n",
       "      <td>FR</td>\n",
       "      <td>04/25/1954</td>\n",
       "    </tr>\n",
       "    <tr>\n",
       "      <th>44686</th>\n",
       "      <td>144687</td>\n",
       "      <td>4900.0</td>\n",
       "      <td>Liege</td>\n",
       "      <td>Wallonia</td>\n",
       "      <td>M</td>\n",
       "      <td>FR</td>\n",
       "      <td>09/12/1970</td>\n",
       "    </tr>\n",
       "  </tbody>\n",
       "</table>\n",
       "<p>3051 rows × 7 columns</p>\n",
       "</div>"
      ],
      "text/plain": [
       "       donorID  zipcode         province    region gender language dateOfBirth\n",
       "49      100050   1331.0  Walloon Brabant  Wallonia      F       FR  01/26/1956\n",
       "92      100093   4800.0            Liege  Wallonia      F       FR  12/13/1988\n",
       "105     100106   1420.0  Walloon Brabant  Wallonia      F       FR  01/29/1960\n",
       "116     100117   6821.0       Luxembourg  Wallonia      M       FR  01/17/1979\n",
       "117     100118   4000.0            Liege  Wallonia      M       FR  11/04/1973\n",
       "...        ...      ...              ...       ...    ...      ...         ...\n",
       "44670   144671   6850.0       Luxembourg  Wallonia      F       FR  10/09/1966\n",
       "44671   144672   6790.0       Luxembourg  Wallonia      M       FR  11/22/1984\n",
       "44675   144676   4180.0            Liege  Wallonia      M       FR  04/23/1976\n",
       "44680   144681   6110.0          Hainaut  Wallonia      M       FR  04/25/1954\n",
       "44686   144687   4900.0            Liege  Wallonia      M       FR  09/12/1970\n",
       "\n",
       "[3051 rows x 7 columns]"
      ]
     },
     "execution_count": 493,
     "metadata": {},
     "output_type": "execute_result"
    }
   ],
   "source": [
    "# we don't have enough evidence to impute the zipcode based on other data or donors info\n",
    "donors[donors['region'] == 'Wallonia']"
   ]
  },
  {
   "cell_type": "code",
   "execution_count": 494,
   "id": "8bb76bcc",
   "metadata": {},
   "outputs": [
    {
     "data": {
      "text/plain": [
       "<AxesSubplot:ylabel='donorID'>"
      ]
     },
     "execution_count": 494,
     "metadata": {},
     "output_type": "execute_result"
    },
    {
     "data": {
      "image/png": "[encoded data removed]",
      "text/plain": [
       "<Figure size 432x288 with 1 Axes>"
      ]
     },
     "metadata": {},
     "output_type": "display_data"
    }
   ],
   "source": [
    "#create pie chart\n",
    "donors.groupby(['gender']).sum().plot(kind='pie', y='donorID', autopct='%1.0f%%')"
   ]
  },
  {
   "cell_type": "code",
   "execution_count": 495,
   "id": "02245ffe",
   "metadata": {},
   "outputs": [
    {
     "data": {
      "text/plain": [
       "<AxesSubplot:ylabel='donorID'>"
      ]
     },
     "execution_count": 495,
     "metadata": {},
     "output_type": "execute_result"
    },
    {
     "data": {
      "image/png": "[encoded data removed]",
      "text/plain": [
       "<Figure size 432x288 with 1 Axes>"
      ]
     },
     "metadata": {},
     "output_type": "display_data"
    }
   ],
   "source": [
    "#create pie chart\n",
    "donors.groupby(['language']).sum().plot(kind='pie', y='donorID', autopct='%1.0f%%')"
   ]
  },
  {
   "cell_type": "code",
   "execution_count": 496,
   "id": "1acf5ba0",
   "metadata": {},
   "outputs": [],
   "source": [
    "#Replacing the missing zipcode with 3080 as it's the most frequent value where:\n",
    "#language=EN, region=Flanders & province=Flemish Brabant\n",
    "donors['zipcode'].fillna(3080,inplace=True)\n",
    "# use missing to fill missing values\n",
    "donors['gender'].fillna('Missing',inplace=True)\n",
    "\n",
    "\n",
    "#Along with the zipcode 3080, replacing respective Province and  Region too\n",
    "donors['province'] = donors['province'].str.replace('Missing', 'Flemish Brabant')\n",
    "donors['province'] = np.where(donors['province'] == 'ANTWERP','Antwerp',donors['province'])\n",
    "donors['region'] = donors['region'].str.replace('Missing', 'Flanders')"
   ]
  },
  {
   "cell_type": "code",
   "execution_count": 497,
   "id": "7a5d6a0a",
   "metadata": {},
   "outputs": [
    {
     "data": {
      "text/plain": [
       "array(['F', 'M', 'Missing'], dtype=object)"
      ]
     },
     "execution_count": 497,
     "metadata": {},
     "output_type": "execute_result"
    }
   ],
   "source": [
    "# we see that there are null values, we shall adopt one hot encoding for this and assign a new column for missing values\n",
    "donors.gender.unique()"
   ]
  },
  {
   "cell_type": "code",
   "execution_count": 498,
   "id": "a5a0165b",
   "metadata": {},
   "outputs": [],
   "source": [
    "#Change the datatype of birthdate\n",
    "donors['dateOfBirth'] = pd.to_datetime(donors['dateOfBirth'])\n",
    "\n",
    "###Converting the zipcode to int\n",
    "donors['zipcode'] = donors['zipcode'].astype(int)"
   ]
  },
  {
   "cell_type": "code",
   "execution_count": 499,
   "id": "ffac4fbe",
   "metadata": {},
   "outputs": [],
   "source": [
    "# get age and age_group\n",
    "donors[\"age\"] = donors[\"dateOfBirth\"].apply(lambda x : (2018 - x.year))"
   ]
  },
  {
   "cell_type": "code",
   "execution_count": 500,
   "id": "98ef6a4e",
   "metadata": {
    "scrolled": true
   },
   "outputs": [
    {
     "data": {
      "text/html": [
       "<div>\n",
       "<style scoped>\n",
       "    .dataframe tbody tr th:only-of-type {\n",
       "        vertical-align: middle;\n",
       "    }\n",
       "\n",
       "    .dataframe tbody tr th {\n",
       "        vertical-align: top;\n",
       "    }\n",
       "\n",
       "    .dataframe thead th {\n",
       "        text-align: right;\n",
       "    }\n",
       "</style>\n",
       "<table border=\"1\" class=\"dataframe\">\n",
       "  <thead>\n",
       "    <tr style=\"text-align: right;\">\n",
       "      <th></th>\n",
       "      <th>donorID</th>\n",
       "      <th>zipcode</th>\n",
       "      <th>region</th>\n",
       "      <th>dateOfBirth</th>\n",
       "      <th>age</th>\n",
       "      <th>Gender_M</th>\n",
       "      <th>Gender_F</th>\n",
       "      <th>Gender_Missing</th>\n",
       "      <th>EN</th>\n",
       "      <th>FR</th>\n",
       "      <th>...</th>\n",
       "      <th>Antwerp</th>\n",
       "      <th>Brussels</th>\n",
       "      <th>Walloon Brabant</th>\n",
       "      <th>West Flanders</th>\n",
       "      <th>East Flanders</th>\n",
       "      <th>Liege</th>\n",
       "      <th>Luxembourg</th>\n",
       "      <th>Namur</th>\n",
       "      <th>Hainaut</th>\n",
       "      <th>Limburg</th>\n",
       "    </tr>\n",
       "  </thead>\n",
       "  <tbody>\n",
       "    <tr>\n",
       "      <th>0</th>\n",
       "      <td>100001</td>\n",
       "      <td>1861</td>\n",
       "      <td>Flanders</td>\n",
       "      <td>1967-12-24</td>\n",
       "      <td>51</td>\n",
       "      <td>1</td>\n",
       "      <td>0</td>\n",
       "      <td>0</td>\n",
       "      <td>0</td>\n",
       "      <td>0</td>\n",
       "      <td>...</td>\n",
       "      <td>0</td>\n",
       "      <td>0</td>\n",
       "      <td>1</td>\n",
       "      <td>0</td>\n",
       "      <td>0</td>\n",
       "      <td>0</td>\n",
       "      <td>0</td>\n",
       "      <td>0</td>\n",
       "      <td>0</td>\n",
       "      <td>0</td>\n",
       "    </tr>\n",
       "    <tr>\n",
       "      <th>1</th>\n",
       "      <td>100002</td>\n",
       "      <td>2260</td>\n",
       "      <td>Flanders</td>\n",
       "      <td>1952-01-14</td>\n",
       "      <td>66</td>\n",
       "      <td>0</td>\n",
       "      <td>1</td>\n",
       "      <td>0</td>\n",
       "      <td>0</td>\n",
       "      <td>0</td>\n",
       "      <td>...</td>\n",
       "      <td>0</td>\n",
       "      <td>0</td>\n",
       "      <td>0</td>\n",
       "      <td>0</td>\n",
       "      <td>0</td>\n",
       "      <td>0</td>\n",
       "      <td>0</td>\n",
       "      <td>0</td>\n",
       "      <td>0</td>\n",
       "      <td>0</td>\n",
       "    </tr>\n",
       "    <tr>\n",
       "      <th>2</th>\n",
       "      <td>100003</td>\n",
       "      <td>1780</td>\n",
       "      <td>Flanders</td>\n",
       "      <td>1986-12-23</td>\n",
       "      <td>32</td>\n",
       "      <td>0</td>\n",
       "      <td>1</td>\n",
       "      <td>0</td>\n",
       "      <td>0</td>\n",
       "      <td>0</td>\n",
       "      <td>...</td>\n",
       "      <td>0</td>\n",
       "      <td>0</td>\n",
       "      <td>1</td>\n",
       "      <td>0</td>\n",
       "      <td>0</td>\n",
       "      <td>0</td>\n",
       "      <td>0</td>\n",
       "      <td>0</td>\n",
       "      <td>0</td>\n",
       "      <td>0</td>\n",
       "    </tr>\n",
       "    <tr>\n",
       "      <th>3</th>\n",
       "      <td>100004</td>\n",
       "      <td>1020</td>\n",
       "      <td>Brussels</td>\n",
       "      <td>1952-03-29</td>\n",
       "      <td>66</td>\n",
       "      <td>1</td>\n",
       "      <td>0</td>\n",
       "      <td>0</td>\n",
       "      <td>0</td>\n",
       "      <td>1</td>\n",
       "      <td>...</td>\n",
       "      <td>1</td>\n",
       "      <td>0</td>\n",
       "      <td>0</td>\n",
       "      <td>0</td>\n",
       "      <td>0</td>\n",
       "      <td>0</td>\n",
       "      <td>0</td>\n",
       "      <td>0</td>\n",
       "      <td>0</td>\n",
       "      <td>0</td>\n",
       "    </tr>\n",
       "    <tr>\n",
       "      <th>4</th>\n",
       "      <td>100005</td>\n",
       "      <td>1020</td>\n",
       "      <td>Brussels</td>\n",
       "      <td>1986-06-25</td>\n",
       "      <td>32</td>\n",
       "      <td>1</td>\n",
       "      <td>0</td>\n",
       "      <td>0</td>\n",
       "      <td>0</td>\n",
       "      <td>1</td>\n",
       "      <td>...</td>\n",
       "      <td>1</td>\n",
       "      <td>0</td>\n",
       "      <td>0</td>\n",
       "      <td>0</td>\n",
       "      <td>0</td>\n",
       "      <td>0</td>\n",
       "      <td>0</td>\n",
       "      <td>0</td>\n",
       "      <td>0</td>\n",
       "      <td>0</td>\n",
       "    </tr>\n",
       "  </tbody>\n",
       "</table>\n",
       "<p>5 rows × 22 columns</p>\n",
       "</div>"
      ],
      "text/plain": [
       "   donorID  zipcode    region dateOfBirth  age  Gender_M  Gender_F  \\\n",
       "0   100001     1861  Flanders  1967-12-24   51         1         0   \n",
       "1   100002     2260  Flanders  1952-01-14   66         0         1   \n",
       "2   100003     1780  Flanders  1986-12-23   32         0         1   \n",
       "3   100004     1020  Brussels  1952-03-29   66         1         0   \n",
       "4   100005     1020  Brussels  1986-06-25   32         1         0   \n",
       "\n",
       "   Gender_Missing  EN  FR  ...  Antwerp  Brussels  Walloon Brabant  \\\n",
       "0               0   0   0  ...        0         0                1   \n",
       "1               0   0   0  ...        0         0                0   \n",
       "2               0   0   0  ...        0         0                1   \n",
       "3               0   0   1  ...        1         0                0   \n",
       "4               0   0   1  ...        1         0                0   \n",
       "\n",
       "   West Flanders  East Flanders  Liege  Luxembourg  Namur  Hainaut  Limburg  \n",
       "0              0              0      0           0      0        0        0  \n",
       "1              0              0      0           0      0        0        0  \n",
       "2              0              0      0           0      0        0        0  \n",
       "3              0              0      0           0      0        0        0  \n",
       "4              0              0      0           0      0        0        0  \n",
       "\n",
       "[5 rows x 22 columns]"
      ]
     },
     "execution_count": 500,
     "metadata": {},
     "output_type": "execute_result"
    }
   ],
   "source": [
    "#ONE HOT ENCODING GENDER\n",
    "genders = pd.get_dummies(donors['gender'])\n",
    "genders.columns = ['Gender_M', 'Gender_F', 'Gender_Missing']\n",
    "donors = donors.join(genders)\n",
    "donors.drop('gender', axis=1, inplace=True)\n",
    "donors.head()\n",
    "\n",
    "\n",
    "#ONE HOT ENCODING LANGUAGE \n",
    "languages = pd.get_dummies(donors['language'])\n",
    "languages.columns = ['EN', 'FR', 'NL']\n",
    "donors = donors.join(languages)\n",
    "donors.drop('language', axis=1, inplace=True)\n",
    "donors.head()\n",
    "\n",
    "\n",
    "# ONE HOT ENCODING PROVINCE\n",
    "provinces = pd.get_dummies(donors['province'])\n",
    "provinces.columns = ['Flemish Brabant', 'Antwerp', 'Brussels', 'Walloon Brabant',\n",
    "       'West Flanders', 'East Flanders', 'Liege', 'Luxembourg', 'Namur',\n",
    "       'Hainaut', 'Limburg'] #removed Missing as its replaced with Flemish Brabant\n",
    "donors = donors.join(provinces)\n",
    "donors.drop('province', axis=1, inplace=True)\n",
    "donors.head()"
   ]
  },
  {
   "cell_type": "code",
   "execution_count": 501,
   "id": "f4177425",
   "metadata": {},
   "outputs": [
    {
     "data": {
      "image/png": "[encoded data removed]",
      "text/plain": [
       "<Figure size 1440x576 with 1 Axes>"
      ]
     },
     "metadata": {
      "needs_background": "light"
     },
     "output_type": "display_data"
    }
   ],
   "source": [
    "#visualization\n",
    "cols_num = ['donorID','zipcode','region','age','Gender_M','Gender_F','Gender_Missing','EN', 'FR', 'NL',\n",
    "            'Antwerp','Brussels','Walloon Brabant','West Flanders','East Flanders','Liege','Luxembourg','Namur','Hainaut','Limburg']\n",
    "fig, ax = plt.subplots()\n",
    "fig.set_size_inches(20, 8)\n",
    "sns.countplot(x = 'region', data =  donors[cols_num])\n",
    "ax.set_xlabel('Region', fontsize=15)\n",
    "ax.set_ylabel('COUNT', fontsize=15)\n",
    "ax.set_title('REGION COUNT DISTRIBUTION', fontsize=15)\n",
    "sns.despine()"
   ]
  },
  {
   "cell_type": "code",
   "execution_count": 502,
   "id": "389e0483",
   "metadata": {},
   "outputs": [
    {
     "data": {
      "image/png": "[encoded data removed]",
      "text/plain": [
       "<Figure size 936x360 with 2 Axes>"
      ]
     },
     "metadata": {
      "needs_background": "light"
     },
     "output_type": "display_data"
    }
   ],
   "source": [
    "fig, (ax1, ax2) = plt.subplots(nrows = 1, ncols = 2, figsize = (13, 5))\n",
    "sns.boxplot(x = 'age', data = donors[cols_num], orient = 'v', ax = ax1)\n",
    "ax1.set_xlabel('AGE DEMOGRAPHICS', fontsize=15)\n",
    "ax1.set_ylabel('AGE', fontsize=15)\n",
    "ax1.set_title('AGE DISTRIBUTION', fontsize=15)\n",
    "ax1.tick_params(labelsize=15)\n",
    "\n",
    "sns.distplot(donors[cols_num]['age'], ax = ax2)\n",
    "sns.despine(ax = ax2)\n",
    "ax2.set_xlabel('AGE', fontsize=15)\n",
    "ax2.set_ylabel('DISTRIBUTION', fontsize=15)\n",
    "ax2.set_title('AGE x DISTRIBUTION', fontsize=15)\n",
    "ax2.tick_params(labelsize=15)\n",
    "\n",
    "plt.subplots_adjust(wspace=0.5)\n",
    "plt.tight_layout() "
   ]
  },
  {
   "cell_type": "code",
   "execution_count": 503,
   "id": "89835a22",
   "metadata": {},
   "outputs": [
    {
     "data": {
      "text/plain": [
       "49.305533800264044"
      ]
     },
     "execution_count": 503,
     "metadata": {},
     "output_type": "execute_result"
    }
   ],
   "source": [
    "#Checking the mean age of the donors to fix outliers\n",
    "donors['age'].mean()"
   ]
  },
  {
   "cell_type": "code",
   "execution_count": 504,
   "id": "197fc4ad",
   "metadata": {},
   "outputs": [
    {
     "data": {
      "text/html": [
       "<div>\n",
       "<style scoped>\n",
       "    .dataframe tbody tr th:only-of-type {\n",
       "        vertical-align: middle;\n",
       "    }\n",
       "\n",
       "    .dataframe tbody tr th {\n",
       "        vertical-align: top;\n",
       "    }\n",
       "\n",
       "    .dataframe thead th {\n",
       "        text-align: right;\n",
       "    }\n",
       "</style>\n",
       "<table border=\"1\" class=\"dataframe\">\n",
       "  <thead>\n",
       "    <tr style=\"text-align: right;\">\n",
       "      <th></th>\n",
       "      <th>donorID</th>\n",
       "      <th>zipcode</th>\n",
       "      <th>region</th>\n",
       "      <th>age</th>\n",
       "      <th>Gender_M</th>\n",
       "      <th>Gender_F</th>\n",
       "      <th>Gender_Missing</th>\n",
       "      <th>EN</th>\n",
       "      <th>FR</th>\n",
       "      <th>NL</th>\n",
       "      <th>...</th>\n",
       "      <th>Antwerp</th>\n",
       "      <th>Brussels</th>\n",
       "      <th>Walloon Brabant</th>\n",
       "      <th>West Flanders</th>\n",
       "      <th>East Flanders</th>\n",
       "      <th>Liege</th>\n",
       "      <th>Luxembourg</th>\n",
       "      <th>Namur</th>\n",
       "      <th>Hainaut</th>\n",
       "      <th>Limburg</th>\n",
       "    </tr>\n",
       "  </thead>\n",
       "  <tbody>\n",
       "    <tr>\n",
       "      <th>27008</th>\n",
       "      <td>127009</td>\n",
       "      <td>9000</td>\n",
       "      <td>Flanders</td>\n",
       "      <td>129</td>\n",
       "      <td>1</td>\n",
       "      <td>0</td>\n",
       "      <td>0</td>\n",
       "      <td>0</td>\n",
       "      <td>0</td>\n",
       "      <td>1</td>\n",
       "      <td>...</td>\n",
       "      <td>0</td>\n",
       "      <td>1</td>\n",
       "      <td>0</td>\n",
       "      <td>0</td>\n",
       "      <td>0</td>\n",
       "      <td>0</td>\n",
       "      <td>0</td>\n",
       "      <td>0</td>\n",
       "      <td>0</td>\n",
       "      <td>0</td>\n",
       "    </tr>\n",
       "    <tr>\n",
       "      <th>27453</th>\n",
       "      <td>127454</td>\n",
       "      <td>8820</td>\n",
       "      <td>Flanders</td>\n",
       "      <td>126</td>\n",
       "      <td>1</td>\n",
       "      <td>0</td>\n",
       "      <td>0</td>\n",
       "      <td>0</td>\n",
       "      <td>0</td>\n",
       "      <td>1</td>\n",
       "      <td>...</td>\n",
       "      <td>0</td>\n",
       "      <td>0</td>\n",
       "      <td>0</td>\n",
       "      <td>0</td>\n",
       "      <td>0</td>\n",
       "      <td>0</td>\n",
       "      <td>0</td>\n",
       "      <td>0</td>\n",
       "      <td>0</td>\n",
       "      <td>1</td>\n",
       "    </tr>\n",
       "  </tbody>\n",
       "</table>\n",
       "<p>2 rows × 21 columns</p>\n",
       "</div>"
      ],
      "text/plain": [
       "       donorID  zipcode    region  age  Gender_M  Gender_F  Gender_Missing  \\\n",
       "27008   127009     9000  Flanders  129         1         0               0   \n",
       "27453   127454     8820  Flanders  126         1         0               0   \n",
       "\n",
       "       EN  FR  NL  ...  Antwerp  Brussels  Walloon Brabant  West Flanders  \\\n",
       "27008   0   0   1  ...        0         1                0              0   \n",
       "27453   0   0   1  ...        0         0                0              0   \n",
       "\n",
       "       East Flanders  Liege  Luxembourg  Namur  Hainaut  Limburg  \n",
       "27008              0      0           0      0        0        0  \n",
       "27453              0      0           0      0        0        1  \n",
       "\n",
       "[2 rows x 21 columns]"
      ]
     },
     "execution_count": 504,
     "metadata": {},
     "output_type": "execute_result"
    }
   ],
   "source": [
    "#dropping the dateOfBirth column\n",
    "donors.drop('dateOfBirth', axis=1, inplace=True)\n",
    "\n",
    "#Checking the donors whose age is greater than 100\n",
    "donors[(donors['age'] >= 100)]"
   ]
  },
  {
   "cell_type": "code",
   "execution_count": 505,
   "id": "1770bcdd",
   "metadata": {},
   "outputs": [
    {
     "name": "stdout",
     "output_type": "stream",
     "text": [
      "<class 'pandas.core.frame.DataFrame'>\n",
      "Int64Index: 44689 entries, 0 to 44690\n",
      "Data columns (total 21 columns):\n",
      " #   Column           Non-Null Count  Dtype \n",
      "---  ------           --------------  ----- \n",
      " 0   donorID          44689 non-null  int64 \n",
      " 1   zipcode          44689 non-null  int32 \n",
      " 2   region           44689 non-null  object\n",
      " 3   age              44689 non-null  int64 \n",
      " 4   Gender_M         44689 non-null  uint8 \n",
      " 5   Gender_F         44689 non-null  uint8 \n",
      " 6   Gender_Missing   44689 non-null  uint8 \n",
      " 7   EN               44689 non-null  uint8 \n",
      " 8   FR               44689 non-null  uint8 \n",
      " 9   NL               44689 non-null  uint8 \n",
      " 10  Flemish Brabant  44689 non-null  uint8 \n",
      " 11  Antwerp          44689 non-null  uint8 \n",
      " 12  Brussels         44689 non-null  uint8 \n",
      " 13  Walloon Brabant  44689 non-null  uint8 \n",
      " 14  West Flanders    44689 non-null  uint8 \n",
      " 15  East Flanders    44689 non-null  uint8 \n",
      " 16  Liege            44689 non-null  uint8 \n",
      " 17  Luxembourg       44689 non-null  uint8 \n",
      " 18  Namur            44689 non-null  uint8 \n",
      " 19  Hainaut          44689 non-null  uint8 \n",
      " 20  Limburg          44689 non-null  uint8 \n",
      "dtypes: int32(1), int64(2), object(1), uint8(17)\n",
      "memory usage: 3.3+ MB\n"
     ]
    }
   ],
   "source": [
    "#checking the data\n",
    "donors.info()"
   ]
  },
  {
   "cell_type": "code",
   "execution_count": 506,
   "id": "fe9a12eb",
   "metadata": {},
   "outputs": [],
   "source": [
    "#Replacing the donor age 129 & 126 with correct values\n",
    "donors['age']=donors['age'].replace([129],29)\n",
    "donors['age']=donors['age'].replace([126],26)"
   ]
  },
  {
   "cell_type": "code",
   "execution_count": 507,
   "id": "a01121d8",
   "metadata": {},
   "outputs": [
    {
     "data": {
      "text/plain": [
       "44689"
      ]
     },
     "execution_count": 507,
     "metadata": {},
     "output_type": "execute_result"
    }
   ],
   "source": [
    "#checking the length of data\n",
    "population = len(donors)\n",
    "population"
   ]
  },
  {
   "cell_type": "markdown",
   "id": "49ad317e",
   "metadata": {},
   "source": [
    "## GIFTS"
   ]
  },
  {
   "cell_type": "code",
   "execution_count": 508,
   "id": "0ec96c9c",
   "metadata": {},
   "outputs": [],
   "source": [
    "# Load gifts dataset\n",
    "gifts = pd.read_csv('../dsc_data/gifts.csv', sep=',')"
   ]
  },
  {
   "cell_type": "code",
   "execution_count": 509,
   "id": "d4e851ca",
   "metadata": {},
   "outputs": [
    {
     "name": "stdout",
     "output_type": "stream",
     "text": [
      "<class 'pandas.core.frame.DataFrame'>\n",
      "RangeIndex: 216594 entries, 0 to 216593\n",
      "Data columns (total 5 columns):\n",
      " #   Column      Non-Null Count   Dtype  \n",
      "---  ------      --------------   -----  \n",
      " 0   Unnamed: 0  216594 non-null  int64  \n",
      " 1   donorID     216594 non-null  int64  \n",
      " 2   campaignID  200957 non-null  float64\n",
      " 3   amount      216594 non-null  object \n",
      " 4   date        216594 non-null  object \n",
      "dtypes: float64(1), int64(2), object(2)\n",
      "memory usage: 8.3+ MB\n"
     ]
    }
   ],
   "source": [
    "# info of the dataset\n",
    "gifts.info()"
   ]
  },
  {
   "cell_type": "code",
   "execution_count": 510,
   "id": "27fbcbb9",
   "metadata": {},
   "outputs": [
    {
     "data": {
      "text/plain": [
       "(216594, 5)"
      ]
     },
     "execution_count": 510,
     "metadata": {},
     "output_type": "execute_result"
    }
   ],
   "source": [
    "#checking the shape\n",
    "gifts.shape"
   ]
  },
  {
   "cell_type": "code",
   "execution_count": 511,
   "id": "6b8a9466",
   "metadata": {},
   "outputs": [],
   "source": [
    "#Deleting unnamed column \n",
    "gifts.drop(columns =['Unnamed: 0'],inplace = True)"
   ]
  },
  {
   "cell_type": "code",
   "execution_count": 512,
   "id": "70f3ae7e",
   "metadata": {},
   "outputs": [],
   "source": [
    "#replace comma with dot from amount before converting it to float\n",
    "gifts['amount']= gifts['amount'].str.replace(\",\",\".\").astype(float)"
   ]
  },
  {
   "cell_type": "code",
   "execution_count": 513,
   "id": "f3693a21",
   "metadata": {},
   "outputs": [],
   "source": [
    "# fill missing values in campaignID with 0\n",
    "gifts['campaignID'] = gifts['campaignID'].fillna(0)\n",
    "gifts['campaignID'] = gifts['campaignID'].astype(int)"
   ]
  },
  {
   "cell_type": "code",
   "execution_count": 514,
   "id": "64313324",
   "metadata": {},
   "outputs": [],
   "source": [
    "# changing date datatype\n",
    "gifts['date'] = pd.to_datetime(gifts['date'])\n",
    "\n",
    "# extract year month and day from date\n",
    "gifts['gift_year'] = pd.DatetimeIndex(gifts['date']).year\n",
    "gifts['gift_month'] = pd.DatetimeIndex(gifts['date']).month\n",
    "gifts['gift_day'] = pd.DatetimeIndex(gifts['date']).day\n",
    "\n",
    "end_target = datetime.datetime(year = 2018, month = 9, day = 4)"
   ]
  },
  {
   "cell_type": "code",
   "execution_count": 515,
   "id": "fec81888",
   "metadata": {},
   "outputs": [
    {
     "data": {
      "text/plain": [
       "33.390663289429206"
      ]
     },
     "execution_count": 515,
     "metadata": {},
     "output_type": "execute_result"
    }
   ],
   "source": [
    "#checking the average amount donated in year 2019\n",
    "gifts[gifts[\"gift_year\"]==2019]['amount'].mean()"
   ]
  },
  {
   "cell_type": "code",
   "execution_count": 516,
   "id": "06e87164",
   "metadata": {},
   "outputs": [
    {
     "data": {
      "text/html": [
       "<div>\n",
       "<style scoped>\n",
       "    .dataframe tbody tr th:only-of-type {\n",
       "        vertical-align: middle;\n",
       "    }\n",
       "\n",
       "    .dataframe tbody tr th {\n",
       "        vertical-align: top;\n",
       "    }\n",
       "\n",
       "    .dataframe thead th {\n",
       "        text-align: right;\n",
       "    }\n",
       "</style>\n",
       "<table border=\"1\" class=\"dataframe\">\n",
       "  <thead>\n",
       "    <tr style=\"text-align: right;\">\n",
       "      <th></th>\n",
       "      <th>donorID</th>\n",
       "      <th>campaignID</th>\n",
       "      <th>amount</th>\n",
       "      <th>date</th>\n",
       "      <th>gift_year</th>\n",
       "      <th>gift_month</th>\n",
       "      <th>gift_day</th>\n",
       "    </tr>\n",
       "  </thead>\n",
       "  <tbody>\n",
       "    <tr>\n",
       "      <th>132</th>\n",
       "      <td>100023</td>\n",
       "      <td>6169</td>\n",
       "      <td>15.0</td>\n",
       "      <td>2018-09-15</td>\n",
       "      <td>2018</td>\n",
       "      <td>9</td>\n",
       "      <td>15</td>\n",
       "    </tr>\n",
       "    <tr>\n",
       "      <th>705</th>\n",
       "      <td>100126</td>\n",
       "      <td>6169</td>\n",
       "      <td>123.0</td>\n",
       "      <td>2018-09-11</td>\n",
       "      <td>2018</td>\n",
       "      <td>9</td>\n",
       "      <td>11</td>\n",
       "    </tr>\n",
       "    <tr>\n",
       "      <th>1151</th>\n",
       "      <td>100253</td>\n",
       "      <td>6169</td>\n",
       "      <td>120.0</td>\n",
       "      <td>2018-09-18</td>\n",
       "      <td>2018</td>\n",
       "      <td>9</td>\n",
       "      <td>18</td>\n",
       "    </tr>\n",
       "    <tr>\n",
       "      <th>1362</th>\n",
       "      <td>100279</td>\n",
       "      <td>6169</td>\n",
       "      <td>75.0</td>\n",
       "      <td>2018-09-13</td>\n",
       "      <td>2018</td>\n",
       "      <td>9</td>\n",
       "      <td>13</td>\n",
       "    </tr>\n",
       "    <tr>\n",
       "      <th>1804</th>\n",
       "      <td>100320</td>\n",
       "      <td>6169</td>\n",
       "      <td>135.0</td>\n",
       "      <td>2018-09-09</td>\n",
       "      <td>2018</td>\n",
       "      <td>9</td>\n",
       "      <td>9</td>\n",
       "    </tr>\n",
       "  </tbody>\n",
       "</table>\n",
       "</div>"
      ],
      "text/plain": [
       "      donorID  campaignID  amount       date  gift_year  gift_month  gift_day\n",
       "132    100023        6169    15.0 2018-09-15       2018           9        15\n",
       "705    100126        6169   123.0 2018-09-11       2018           9        11\n",
       "1151   100253        6169   120.0 2018-09-18       2018           9        18\n",
       "1362   100279        6169    75.0 2018-09-13       2018           9        13\n",
       "1804   100320        6169   135.0 2018-09-09       2018           9         9"
      ]
     },
     "execution_count": 516,
     "metadata": {},
     "output_type": "execute_result"
    }
   ],
   "source": [
    "#selecting the donors with campaignID = 6169\n",
    "gifts_campaign69 = gifts[gifts[\"campaignID\"] == 6169]\n",
    "gifts_campaign69.head()"
   ]
  },
  {
   "cell_type": "code",
   "execution_count": 517,
   "id": "f5a4181a",
   "metadata": {},
   "outputs": [
    {
     "data": {
      "text/plain": [
       "1191"
      ]
     },
     "execution_count": 517,
     "metadata": {},
     "output_type": "execute_result"
    }
   ],
   "source": [
    "#target variable based on the campaign Id and the Amount donated\n",
    "gifts_target = gifts_campaign69.groupby([\"donorID\"])[\"amount\"].sum().reset_index()\n",
    "gifts_target.columns = [\"donorID\", \"amount\"]\n",
    "len(gifts_target)"
   ]
  },
  {
   "cell_type": "code",
   "execution_count": 518,
   "id": "fcf94187",
   "metadata": {},
   "outputs": [
    {
     "data": {
      "text/plain": [
       "208334"
      ]
     },
     "execution_count": 518,
     "metadata": {},
     "output_type": "execute_result"
    }
   ],
   "source": [
    "#select historical data before the campaign 6169 started on 04-Sep-2018\n",
    "gifts_campaign = gifts[(gifts[\"date\"] < end_target)]\n",
    "len(gifts_campaign)"
   ]
  },
  {
   "cell_type": "code",
   "execution_count": 519,
   "id": "0bc3e0cb",
   "metadata": {},
   "outputs": [
    {
     "data": {
      "text/html": [
       "<div>\n",
       "<style scoped>\n",
       "    .dataframe tbody tr th:only-of-type {\n",
       "        vertical-align: middle;\n",
       "    }\n",
       "\n",
       "    .dataframe tbody tr th {\n",
       "        vertical-align: top;\n",
       "    }\n",
       "\n",
       "    .dataframe thead th {\n",
       "        text-align: right;\n",
       "    }\n",
       "</style>\n",
       "<table border=\"1\" class=\"dataframe\">\n",
       "  <thead>\n",
       "    <tr style=\"text-align: right;\">\n",
       "      <th></th>\n",
       "      <th>donorID</th>\n",
       "      <th>campaignID</th>\n",
       "      <th>amount</th>\n",
       "      <th>date</th>\n",
       "      <th>gift_year</th>\n",
       "      <th>gift_month</th>\n",
       "      <th>gift_day</th>\n",
       "    </tr>\n",
       "  </thead>\n",
       "  <tbody>\n",
       "    <tr>\n",
       "      <th>0</th>\n",
       "      <td>100001</td>\n",
       "      <td>0</td>\n",
       "      <td>12.39</td>\n",
       "      <td>2004-03-23</td>\n",
       "      <td>2004</td>\n",
       "      <td>3</td>\n",
       "      <td>23</td>\n",
       "    </tr>\n",
       "    <tr>\n",
       "      <th>1</th>\n",
       "      <td>100001</td>\n",
       "      <td>1577</td>\n",
       "      <td>12.39</td>\n",
       "      <td>2007-10-11</td>\n",
       "      <td>2007</td>\n",
       "      <td>10</td>\n",
       "      <td>11</td>\n",
       "    </tr>\n",
       "    <tr>\n",
       "      <th>2</th>\n",
       "      <td>100001</td>\n",
       "      <td>1634</td>\n",
       "      <td>6.69</td>\n",
       "      <td>2007-12-28</td>\n",
       "      <td>2007</td>\n",
       "      <td>12</td>\n",
       "      <td>28</td>\n",
       "    </tr>\n",
       "    <tr>\n",
       "      <th>3</th>\n",
       "      <td>100001</td>\n",
       "      <td>1778</td>\n",
       "      <td>24.79</td>\n",
       "      <td>2008-06-14</td>\n",
       "      <td>2008</td>\n",
       "      <td>6</td>\n",
       "      <td>14</td>\n",
       "    </tr>\n",
       "    <tr>\n",
       "      <th>4</th>\n",
       "      <td>100001</td>\n",
       "      <td>1808</td>\n",
       "      <td>7.44</td>\n",
       "      <td>2008-07-09</td>\n",
       "      <td>2008</td>\n",
       "      <td>7</td>\n",
       "      <td>9</td>\n",
       "    </tr>\n",
       "  </tbody>\n",
       "</table>\n",
       "</div>"
      ],
      "text/plain": [
       "   donorID  campaignID  amount       date  gift_year  gift_month  gift_day\n",
       "0   100001           0   12.39 2004-03-23       2004           3        23\n",
       "1   100001        1577   12.39 2007-10-11       2007          10        11\n",
       "2   100001        1634    6.69 2007-12-28       2007          12        28\n",
       "3   100001        1778   24.79 2008-06-14       2008           6        14\n",
       "4   100001        1808    7.44 2008-07-09       2008           7         9"
      ]
     },
     "execution_count": 519,
     "metadata": {},
     "output_type": "execute_result"
    }
   ],
   "source": [
    "#checking the dataset\n",
    "gifts_campaign.head()"
   ]
  },
  {
   "cell_type": "code",
   "execution_count": 520,
   "id": "1a94ab93",
   "metadata": {},
   "outputs": [
    {
     "data": {
      "text/html": [
       "<div>\n",
       "<style scoped>\n",
       "    .dataframe tbody tr th:only-of-type {\n",
       "        vertical-align: middle;\n",
       "    }\n",
       "\n",
       "    .dataframe tbody tr th {\n",
       "        vertical-align: top;\n",
       "    }\n",
       "\n",
       "    .dataframe thead th {\n",
       "        text-align: right;\n",
       "    }\n",
       "</style>\n",
       "<table border=\"1\" class=\"dataframe\">\n",
       "  <thead>\n",
       "    <tr style=\"text-align: right;\">\n",
       "      <th></th>\n",
       "      <th>donorID</th>\n",
       "      <th>sum</th>\n",
       "      <th>count</th>\n",
       "    </tr>\n",
       "  </thead>\n",
       "  <tbody>\n",
       "    <tr>\n",
       "      <th>0</th>\n",
       "      <td>100001</td>\n",
       "      <td>178.49</td>\n",
       "      <td>12</td>\n",
       "    </tr>\n",
       "    <tr>\n",
       "      <th>1</th>\n",
       "      <td>100002</td>\n",
       "      <td>20.00</td>\n",
       "      <td>1</td>\n",
       "    </tr>\n",
       "    <tr>\n",
       "      <th>2</th>\n",
       "      <td>100003</td>\n",
       "      <td>18.00</td>\n",
       "      <td>5</td>\n",
       "    </tr>\n",
       "    <tr>\n",
       "      <th>3</th>\n",
       "      <td>100004</td>\n",
       "      <td>716.22</td>\n",
       "      <td>26</td>\n",
       "    </tr>\n",
       "    <tr>\n",
       "      <th>4</th>\n",
       "      <td>100005</td>\n",
       "      <td>14.96</td>\n",
       "      <td>4</td>\n",
       "    </tr>\n",
       "  </tbody>\n",
       "</table>\n",
       "</div>"
      ],
      "text/plain": [
       "   donorID     sum  count\n",
       "0   100001  178.49     12\n",
       "1   100002   20.00      1\n",
       "2   100003   18.00      5\n",
       "3   100004  716.22     26\n",
       "4   100005   14.96      4"
      ]
     },
     "execution_count": 520,
     "metadata": {},
     "output_type": "execute_result"
    }
   ],
   "source": [
    "#creating aggregate function for the train data\n",
    "basetable_target = gifts_campaign.groupby([\"donorID\"])[\"amount\"].agg(['sum', 'count']).reset_index()\n",
    "basetable_target.head()"
   ]
  },
  {
   "cell_type": "code",
   "execution_count": 521,
   "id": "b2f3a163",
   "metadata": {},
   "outputs": [],
   "source": [
    "#Setting the timeline for amount donated in the last one year\n",
    "end_target = datetime.datetime(year = 2018,  month = 9, day = 4)\n",
    "start_target =  datetime.datetime(year= 2017, month = 9, day = 4)\n",
    "\n",
    "#Calculating the amount donated in the last one year\n",
    "gifts_1y = gifts_campaign[(gifts_campaign['date'] <= end_target) & (gifts_campaign[\"date\"] >= start_target)] \n",
    "\n",
    "# Group and sum donations by donor\n",
    "gifts_1y_camp = gifts_1y.groupby(\"donorID\")['amount'].agg(['count', 'sum']).reset_index()\n",
    "gifts_1y_camp.columns = [\"donorID\", \"1y_camp_count\", \"1y_camp_sum\"]"
   ]
  },
  {
   "cell_type": "code",
   "execution_count": 522,
   "id": "d0129535",
   "metadata": {},
   "outputs": [
    {
     "name": "stdout",
     "output_type": "stream",
     "text": [
      "<class 'pandas.core.frame.DataFrame'>\n",
      "Int64Index: 44686 entries, 0 to 44685\n",
      "Data columns (total 5 columns):\n",
      " #   Column         Non-Null Count  Dtype  \n",
      "---  ------         --------------  -----  \n",
      " 0   donorID        44686 non-null  int64  \n",
      " 1   sum            44686 non-null  float64\n",
      " 2   count          44686 non-null  int64  \n",
      " 3   1y_camp_count  2524 non-null   float64\n",
      " 4   1y_camp_sum    2524 non-null   float64\n",
      "dtypes: float64(3), int64(2)\n",
      "memory usage: 2.0 MB\n"
     ]
    }
   ],
   "source": [
    "#Merging gifts_1y to basetable_target\n",
    "basetable_target = basetable_target.merge(gifts_1y_camp, left_on = 'donorID', right_on = 'donorID', how='left')\n",
    "basetable_target.info()"
   ]
  },
  {
   "cell_type": "code",
   "execution_count": 523,
   "id": "23bb195b",
   "metadata": {},
   "outputs": [],
   "source": [
    "#Setting the timeline for amount donated in the last two years\n",
    "end_target = datetime.datetime(year = 2017,  month = 9, day = 4)\n",
    "start_target =  datetime.datetime(year= 2015, month = 9, day = 4)\n",
    "\n",
    "#Calculating the amount donated in the last two years\n",
    "gifts_2y = gifts_campaign[(gifts_campaign['date'] <= end_target) & (gifts_campaign[\"date\"] >= start_target)] \n",
    "\n",
    "# Group and sum donations by donor\n",
    "gifts_2y_camp = gifts_2y.groupby(\"donorID\")['amount'].agg(['count', 'sum']).reset_index()\n",
    "gifts_2y_camp.columns = [\"donorID\", \"2y_camp_count\", \"2y_camp_sum\"]"
   ]
  },
  {
   "cell_type": "code",
   "execution_count": 524,
   "id": "39fad123",
   "metadata": {},
   "outputs": [
    {
     "name": "stdout",
     "output_type": "stream",
     "text": [
      "<class 'pandas.core.frame.DataFrame'>\n",
      "Int64Index: 44686 entries, 0 to 44685\n",
      "Data columns (total 7 columns):\n",
      " #   Column         Non-Null Count  Dtype  \n",
      "---  ------         --------------  -----  \n",
      " 0   donorID        44686 non-null  int64  \n",
      " 1   sum            44686 non-null  float64\n",
      " 2   count          44686 non-null  int64  \n",
      " 3   1y_camp_count  2524 non-null   float64\n",
      " 4   1y_camp_sum    2524 non-null   float64\n",
      " 5   2y_camp_count  9163 non-null   float64\n",
      " 6   2y_camp_sum    9163 non-null   float64\n",
      "dtypes: float64(5), int64(2)\n",
      "memory usage: 2.7 MB\n"
     ]
    }
   ],
   "source": [
    "#Merging gifts_2y to basetable_target\n",
    "basetable_target = basetable_target.merge(gifts_2y_camp, left_on = 'donorID', right_on = 'donorID', how='left')\n",
    "basetable_target.info()"
   ]
  },
  {
   "cell_type": "code",
   "execution_count": 525,
   "id": "d3862499",
   "metadata": {},
   "outputs": [],
   "source": [
    "#Setting the timeline for amount donated in the last four years\n",
    "end_target =  datetime.datetime(year= 2015, month = 9, day = 4)\n",
    "start_target =  datetime.datetime(year= 2011, month = 9, day = 4)\n",
    "\n",
    "#Calculating the amount donated in the last two years\n",
    "gifts_4y = gifts_campaign[(gifts_campaign['date'] <= end_target) & (gifts_campaign[\"date\"] >= start_target)]\n",
    "\n",
    "# Group and sum donations by donor\n",
    "gifts_4y_camp = gifts_4y.groupby(\"donorID\")['amount'].agg(['count', 'sum']).reset_index()\n",
    "gifts_4y_camp.columns = [\"donorID\", \"4y_camp_count\", \"4y_camp_sum\"]"
   ]
  },
  {
   "cell_type": "code",
   "execution_count": 526,
   "id": "ddaa384d",
   "metadata": {},
   "outputs": [
    {
     "name": "stdout",
     "output_type": "stream",
     "text": [
      "<class 'pandas.core.frame.DataFrame'>\n",
      "Int64Index: 44686 entries, 0 to 44685\n",
      "Data columns (total 9 columns):\n",
      " #   Column         Non-Null Count  Dtype  \n",
      "---  ------         --------------  -----  \n",
      " 0   donorID        44686 non-null  int64  \n",
      " 1   sum            44686 non-null  float64\n",
      " 2   count          44686 non-null  int64  \n",
      " 3   1y_camp_count  2524 non-null   float64\n",
      " 4   1y_camp_sum    2524 non-null   float64\n",
      " 5   2y_camp_count  9163 non-null   float64\n",
      " 6   2y_camp_sum    9163 non-null   float64\n",
      " 7   4y_camp_count  23280 non-null  float64\n",
      " 8   4y_camp_sum    23280 non-null  float64\n",
      "dtypes: float64(7), int64(2)\n",
      "memory usage: 3.4 MB\n"
     ]
    }
   ],
   "source": [
    "#Merging gifts_4y with basetable_target\n",
    "basetable_target = basetable_target.merge(gifts_4y_camp, left_on = 'donorID', right_on = 'donorID', how='left')\n",
    "basetable_target.info()"
   ]
  },
  {
   "cell_type": "code",
   "execution_count": 527,
   "id": "cf63bff2",
   "metadata": {},
   "outputs": [],
   "source": [
    "#Setting the timeline for amount donated in the last four years\n",
    "end_target =  datetime.datetime(year= 2011, month = 9, day = 4)\n",
    "start_target =  datetime.datetime(year= 2005, month = 9, day = 4)\n",
    "\n",
    "#Calculating the amount donated in the last two years\n",
    "gifts_6y = gifts_campaign[(gifts_campaign['date'] <= end_target) & (gifts_campaign[\"date\"] >= start_target)]\n",
    "\n",
    "# Group and sum donations by donor\n",
    "gifts_6y_camp = gifts_6y.groupby(\"donorID\")['amount'].agg(['count', 'sum']).reset_index()\n",
    "gifts_6y_camp.columns = [\"donorID\", \"6y_camp_count\", \"6y_camp_sum\"]"
   ]
  },
  {
   "cell_type": "code",
   "execution_count": 528,
   "id": "2df05cbd",
   "metadata": {},
   "outputs": [
    {
     "name": "stdout",
     "output_type": "stream",
     "text": [
      "<class 'pandas.core.frame.DataFrame'>\n",
      "Int64Index: 44686 entries, 0 to 44685\n",
      "Data columns (total 11 columns):\n",
      " #   Column         Non-Null Count  Dtype  \n",
      "---  ------         --------------  -----  \n",
      " 0   donorID        44686 non-null  int64  \n",
      " 1   sum            44686 non-null  float64\n",
      " 2   count          44686 non-null  int64  \n",
      " 3   1y_camp_count  2524 non-null   float64\n",
      " 4   1y_camp_sum    2524 non-null   float64\n",
      " 5   2y_camp_count  9163 non-null   float64\n",
      " 6   2y_camp_sum    9163 non-null   float64\n",
      " 7   4y_camp_count  23280 non-null  float64\n",
      " 8   4y_camp_sum    23280 non-null  float64\n",
      " 9   6y_camp_count  26401 non-null  float64\n",
      " 10  6y_camp_sum    26401 non-null  float64\n",
      "dtypes: float64(9), int64(2)\n",
      "memory usage: 4.1 MB\n"
     ]
    }
   ],
   "source": [
    "#Merging gifts_6y to basetable_target\n",
    "basetable_target = basetable_target.merge(gifts_6y_camp, left_on = 'donorID', right_on = 'donorID', how='left')\n",
    "basetable_target.info()"
   ]
  },
  {
   "cell_type": "code",
   "execution_count": 529,
   "id": "d9a13945",
   "metadata": {},
   "outputs": [],
   "source": [
    "#calculating the gift first and last year for donors\n",
    "gift_first_last_year = gifts.groupby('donorID').agg(gift_first_year = ('gift_year',min), gift_last_year = ('gift_year',max)).reset_index()"
   ]
  },
  {
   "cell_type": "code",
   "execution_count": 530,
   "id": "8f4f2ddb",
   "metadata": {},
   "outputs": [
    {
     "name": "stdout",
     "output_type": "stream",
     "text": [
      "<class 'pandas.core.frame.DataFrame'>\n",
      "Int64Index: 44686 entries, 0 to 44685\n",
      "Data columns (total 13 columns):\n",
      " #   Column           Non-Null Count  Dtype  \n",
      "---  ------           --------------  -----  \n",
      " 0   donorID          44686 non-null  int64  \n",
      " 1   sum              44686 non-null  float64\n",
      " 2   count            44686 non-null  int64  \n",
      " 3   1y_camp_count    2524 non-null   float64\n",
      " 4   1y_camp_sum      2524 non-null   float64\n",
      " 5   2y_camp_count    9163 non-null   float64\n",
      " 6   2y_camp_sum      9163 non-null   float64\n",
      " 7   4y_camp_count    23280 non-null  float64\n",
      " 8   4y_camp_sum      23280 non-null  float64\n",
      " 9   6y_camp_count    26401 non-null  float64\n",
      " 10  6y_camp_sum      26401 non-null  float64\n",
      " 11  gift_first_year  44686 non-null  int64  \n",
      " 12  gift_last_year   44686 non-null  int64  \n",
      "dtypes: float64(9), int64(4)\n",
      "memory usage: 4.8 MB\n"
     ]
    }
   ],
   "source": [
    "#Calculating the last and first period of donations by donors\n",
    "gift_first_last_year['gift_first_year'] = 2018 - gift_first_last_year['gift_first_year']\n",
    "gift_first_last_year['gift_last_year'] = gift_first_last_year['gift_last_year']\n",
    "basetable_target =  basetable_target.merge(gift_first_last_year, left_on = 'donorID', right_on = 'donorID', how='left')\n",
    "basetable_target.info()"
   ]
  },
  {
   "cell_type": "code",
   "execution_count": 531,
   "id": "fc5dddf5",
   "metadata": {},
   "outputs": [
    {
     "name": "stdout",
     "output_type": "stream",
     "text": [
      "<class 'pandas.core.frame.DataFrame'>\n",
      "Int64Index: 44686 entries, 0 to 44685\n",
      "Data columns (total 20 columns):\n",
      " #   Column                 Non-Null Count  Dtype  \n",
      "---  ------                 --------------  -----  \n",
      " 0   donorID                44686 non-null  int64  \n",
      " 1   sum                    44686 non-null  float64\n",
      " 2   count                  44686 non-null  int64  \n",
      " 3   1y_camp_count          2524 non-null   float64\n",
      " 4   1y_camp_sum            2524 non-null   float64\n",
      " 5   2y_camp_count          9163 non-null   float64\n",
      " 6   2y_camp_sum            9163 non-null   float64\n",
      " 7   4y_camp_count          23280 non-null  float64\n",
      " 8   4y_camp_sum            23280 non-null  float64\n",
      " 9   6y_camp_count          26401 non-null  float64\n",
      " 10  6y_camp_sum            26401 non-null  float64\n",
      " 11  gift_first_year        44686 non-null  int64  \n",
      " 12  gift_last_year         44686 non-null  int64  \n",
      " 13  total_camp_count       44686 non-null  int64  \n",
      " 14  total_camp_amt         44686 non-null  float64\n",
      " 15  total_camp_min_amt     44686 non-null  float64\n",
      " 16  total_camp_max_amt     44686 non-null  float64\n",
      " 17  total_amt_greater_30   44686 non-null  int32  \n",
      " 18  total_amt_greater_60   44686 non-null  int32  \n",
      " 19  total_amt_greater_100  44686 non-null  int32  \n",
      "dtypes: float64(12), int32(3), int64(5)\n",
      "memory usage: 6.6 MB\n"
     ]
    }
   ],
   "source": [
    " gifts_total = gifts_campaign.groupby('donorID') \\\n",
    "                        .agg(total_camp_count = ('campaignID','count'), total_camp_amt = ('amount','sum'), \\\n",
    "                            total_camp_min_amt = ('amount','min'), total_camp_max_amt = ('amount','max')).reset_index()\n",
    "gifts_total['total_amt_greater_30'] = np.where(gifts_total['total_camp_max_amt'] > 35, 1,0)\n",
    "gifts_total['total_amt_greater_60'] = np.where(gifts_total['total_camp_max_amt'] > 60, 1,0)\n",
    "gifts_total['total_amt_greater_100'] = np.where(gifts_total['total_camp_max_amt'] > 100, 1,0)\n",
    "basetable_target =  basetable_target.merge(gifts_total, left_on = 'donorID', right_on = 'donorID', how='left')\n",
    "\n",
    "basetable_target.info()"
   ]
  },
  {
   "cell_type": "code",
   "execution_count": 532,
   "id": "24923d67",
   "metadata": {},
   "outputs": [
    {
     "data": {
      "text/html": [
       "<div>\n",
       "<style scoped>\n",
       "    .dataframe tbody tr th:only-of-type {\n",
       "        vertical-align: middle;\n",
       "    }\n",
       "\n",
       "    .dataframe tbody tr th {\n",
       "        vertical-align: top;\n",
       "    }\n",
       "\n",
       "    .dataframe thead th {\n",
       "        text-align: right;\n",
       "    }\n",
       "</style>\n",
       "<table border=\"1\" class=\"dataframe\">\n",
       "  <thead>\n",
       "    <tr style=\"text-align: right;\">\n",
       "      <th></th>\n",
       "      <th>donorID</th>\n",
       "      <th>sum</th>\n",
       "      <th>count</th>\n",
       "      <th>1y_camp_count</th>\n",
       "      <th>1y_camp_sum</th>\n",
       "      <th>2y_camp_count</th>\n",
       "      <th>2y_camp_sum</th>\n",
       "      <th>4y_camp_count</th>\n",
       "      <th>4y_camp_sum</th>\n",
       "      <th>6y_camp_count</th>\n",
       "      <th>6y_camp_sum</th>\n",
       "      <th>gift_first_year</th>\n",
       "      <th>gift_last_year</th>\n",
       "      <th>total_camp_count</th>\n",
       "      <th>total_camp_amt</th>\n",
       "      <th>total_camp_min_amt</th>\n",
       "      <th>total_camp_max_amt</th>\n",
       "      <th>total_amt_greater_30</th>\n",
       "      <th>total_amt_greater_60</th>\n",
       "      <th>total_amt_greater_100</th>\n",
       "    </tr>\n",
       "  </thead>\n",
       "  <tbody>\n",
       "    <tr>\n",
       "      <th>44681</th>\n",
       "      <td>144687</td>\n",
       "      <td>10.00</td>\n",
       "      <td>1</td>\n",
       "      <td>NaN</td>\n",
       "      <td>NaN</td>\n",
       "      <td>1.0</td>\n",
       "      <td>10.0</td>\n",
       "      <td>NaN</td>\n",
       "      <td>NaN</td>\n",
       "      <td>NaN</td>\n",
       "      <td>NaN</td>\n",
       "      <td>3</td>\n",
       "      <td>2015</td>\n",
       "      <td>1</td>\n",
       "      <td>10.00</td>\n",
       "      <td>10.00</td>\n",
       "      <td>10.0</td>\n",
       "      <td>0</td>\n",
       "      <td>0</td>\n",
       "      <td>0</td>\n",
       "    </tr>\n",
       "    <tr>\n",
       "      <th>44682</th>\n",
       "      <td>144688</td>\n",
       "      <td>48.56</td>\n",
       "      <td>7</td>\n",
       "      <td>NaN</td>\n",
       "      <td>NaN</td>\n",
       "      <td>1.0</td>\n",
       "      <td>15.0</td>\n",
       "      <td>NaN</td>\n",
       "      <td>NaN</td>\n",
       "      <td>6.0</td>\n",
       "      <td>33.56</td>\n",
       "      <td>10</td>\n",
       "      <td>2017</td>\n",
       "      <td>7</td>\n",
       "      <td>48.56</td>\n",
       "      <td>2.48</td>\n",
       "      <td>15.0</td>\n",
       "      <td>0</td>\n",
       "      <td>0</td>\n",
       "      <td>0</td>\n",
       "    </tr>\n",
       "    <tr>\n",
       "      <th>44683</th>\n",
       "      <td>144689</td>\n",
       "      <td>124.79</td>\n",
       "      <td>2</td>\n",
       "      <td>1.0</td>\n",
       "      <td>100.0</td>\n",
       "      <td>NaN</td>\n",
       "      <td>NaN</td>\n",
       "      <td>NaN</td>\n",
       "      <td>NaN</td>\n",
       "      <td>NaN</td>\n",
       "      <td>NaN</td>\n",
       "      <td>13</td>\n",
       "      <td>2019</td>\n",
       "      <td>2</td>\n",
       "      <td>124.79</td>\n",
       "      <td>24.79</td>\n",
       "      <td>100.0</td>\n",
       "      <td>1</td>\n",
       "      <td>1</td>\n",
       "      <td>0</td>\n",
       "    </tr>\n",
       "    <tr>\n",
       "      <th>44684</th>\n",
       "      <td>144690</td>\n",
       "      <td>40.00</td>\n",
       "      <td>1</td>\n",
       "      <td>NaN</td>\n",
       "      <td>NaN</td>\n",
       "      <td>NaN</td>\n",
       "      <td>NaN</td>\n",
       "      <td>1.0</td>\n",
       "      <td>40.0</td>\n",
       "      <td>NaN</td>\n",
       "      <td>NaN</td>\n",
       "      <td>4</td>\n",
       "      <td>2014</td>\n",
       "      <td>1</td>\n",
       "      <td>40.00</td>\n",
       "      <td>40.00</td>\n",
       "      <td>40.0</td>\n",
       "      <td>1</td>\n",
       "      <td>0</td>\n",
       "      <td>0</td>\n",
       "    </tr>\n",
       "    <tr>\n",
       "      <th>44685</th>\n",
       "      <td>144691</td>\n",
       "      <td>39.00</td>\n",
       "      <td>1</td>\n",
       "      <td>NaN</td>\n",
       "      <td>NaN</td>\n",
       "      <td>1.0</td>\n",
       "      <td>39.0</td>\n",
       "      <td>NaN</td>\n",
       "      <td>NaN</td>\n",
       "      <td>NaN</td>\n",
       "      <td>NaN</td>\n",
       "      <td>3</td>\n",
       "      <td>2015</td>\n",
       "      <td>1</td>\n",
       "      <td>39.00</td>\n",
       "      <td>39.00</td>\n",
       "      <td>39.0</td>\n",
       "      <td>1</td>\n",
       "      <td>0</td>\n",
       "      <td>0</td>\n",
       "    </tr>\n",
       "  </tbody>\n",
       "</table>\n",
       "</div>"
      ],
      "text/plain": [
       "       donorID     sum  count  1y_camp_count  1y_camp_sum  2y_camp_count  \\\n",
       "44681   144687   10.00      1            NaN          NaN            1.0   \n",
       "44682   144688   48.56      7            NaN          NaN            1.0   \n",
       "44683   144689  124.79      2            1.0        100.0            NaN   \n",
       "44684   144690   40.00      1            NaN          NaN            NaN   \n",
       "44685   144691   39.00      1            NaN          NaN            1.0   \n",
       "\n",
       "       2y_camp_sum  4y_camp_count  4y_camp_sum  6y_camp_count  6y_camp_sum  \\\n",
       "44681         10.0            NaN          NaN            NaN          NaN   \n",
       "44682         15.0            NaN          NaN            6.0        33.56   \n",
       "44683          NaN            NaN          NaN            NaN          NaN   \n",
       "44684          NaN            1.0         40.0            NaN          NaN   \n",
       "44685         39.0            NaN          NaN            NaN          NaN   \n",
       "\n",
       "       gift_first_year  gift_last_year  total_camp_count  total_camp_amt  \\\n",
       "44681                3            2015                 1           10.00   \n",
       "44682               10            2017                 7           48.56   \n",
       "44683               13            2019                 2          124.79   \n",
       "44684                4            2014                 1           40.00   \n",
       "44685                3            2015                 1           39.00   \n",
       "\n",
       "       total_camp_min_amt  total_camp_max_amt  total_amt_greater_30  \\\n",
       "44681               10.00                10.0                     0   \n",
       "44682                2.48                15.0                     0   \n",
       "44683               24.79               100.0                     1   \n",
       "44684               40.00                40.0                     1   \n",
       "44685               39.00                39.0                     1   \n",
       "\n",
       "       total_amt_greater_60  total_amt_greater_100  \n",
       "44681                     0                      0  \n",
       "44682                     0                      0  \n",
       "44683                     1                      0  \n",
       "44684                     0                      0  \n",
       "44685                     0                      0  "
      ]
     },
     "execution_count": 532,
     "metadata": {},
     "output_type": "execute_result"
    }
   ],
   "source": [
    "basetable_target.tail()"
   ]
  },
  {
   "cell_type": "code",
   "execution_count": 533,
   "id": "d36553f6",
   "metadata": {},
   "outputs": [
    {
     "name": "stdout",
     "output_type": "stream",
     "text": [
      "<class 'pandas.core.frame.DataFrame'>\n",
      "Int64Index: 44686 entries, 0 to 44685\n",
      "Data columns (total 40 columns):\n",
      " #   Column                 Non-Null Count  Dtype  \n",
      "---  ------                 --------------  -----  \n",
      " 0   donorID                44686 non-null  int64  \n",
      " 1   sum                    44686 non-null  float64\n",
      " 2   count                  44686 non-null  int64  \n",
      " 3   1y_camp_count          2524 non-null   float64\n",
      " 4   1y_camp_sum            2524 non-null   float64\n",
      " 5   2y_camp_count          9163 non-null   float64\n",
      " 6   2y_camp_sum            9163 non-null   float64\n",
      " 7   4y_camp_count          23280 non-null  float64\n",
      " 8   4y_camp_sum            23280 non-null  float64\n",
      " 9   6y_camp_count          26401 non-null  float64\n",
      " 10  6y_camp_sum            26401 non-null  float64\n",
      " 11  gift_first_year        44686 non-null  int64  \n",
      " 12  gift_last_year         44686 non-null  int64  \n",
      " 13  total_camp_count       44686 non-null  int64  \n",
      " 14  total_camp_amt         44686 non-null  float64\n",
      " 15  total_camp_min_amt     44686 non-null  float64\n",
      " 16  total_camp_max_amt     44686 non-null  float64\n",
      " 17  total_amt_greater_30   44686 non-null  int32  \n",
      " 18  total_amt_greater_60   44686 non-null  int32  \n",
      " 19  total_amt_greater_100  44686 non-null  int32  \n",
      " 20  zipcode                44684 non-null  float64\n",
      " 21  region                 44684 non-null  object \n",
      " 22  age                    44684 non-null  float64\n",
      " 23  Gender_M               44684 non-null  float64\n",
      " 24  Gender_F               44684 non-null  float64\n",
      " 25  Gender_Missing         44684 non-null  float64\n",
      " 26  EN                     44684 non-null  float64\n",
      " 27  FR                     44684 non-null  float64\n",
      " 28  NL                     44684 non-null  float64\n",
      " 29  Flemish Brabant        44684 non-null  float64\n",
      " 30  Antwerp                44684 non-null  float64\n",
      " 31  Brussels               44684 non-null  float64\n",
      " 32  Walloon Brabant        44684 non-null  float64\n",
      " 33  West Flanders          44684 non-null  float64\n",
      " 34  East Flanders          44684 non-null  float64\n",
      " 35  Liege                  44684 non-null  float64\n",
      " 36  Luxembourg             44684 non-null  float64\n",
      " 37  Namur                  44684 non-null  float64\n",
      " 38  Hainaut                44684 non-null  float64\n",
      " 39  Limburg                44684 non-null  float64\n",
      "dtypes: float64(31), int32(3), int64(5), object(1)\n",
      "memory usage: 13.5+ MB\n"
     ]
    }
   ],
   "source": [
    "#Merging donors with basetable_target\n",
    "basetable_target = basetable_target.merge(donors, left_on = 'donorID', right_on = 'donorID', how='left')\n",
    "basetable_target.info()"
   ]
  },
  {
   "cell_type": "markdown",
   "id": "61632168",
   "metadata": {},
   "source": [
    "CAMPAIGN 6169 DATA ANALYSIS"
   ]
  },
  {
   "cell_type": "code",
   "execution_count": 534,
   "id": "22a02a8c",
   "metadata": {},
   "outputs": [],
   "source": [
    "#reading in the data and merging it with basetable\n",
    "selected_donors  = pd.read_csv('../dsc_data/selection campaign 6169.csv', sep=',')\n",
    "basetable_target = pd.merge(selected_donors, basetable_target, on = 'donorID', how='left')"
   ]
  },
  {
   "cell_type": "code",
   "execution_count": 535,
   "id": "c6ad24b2",
   "metadata": {},
   "outputs": [
    {
     "name": "stdout",
     "output_type": "stream",
     "text": [
      "<class 'pandas.core.frame.DataFrame'>\n",
      "Int64Index: 34888 entries, 0 to 34887\n",
      "Data columns (total 40 columns):\n",
      " #   Column                 Non-Null Count  Dtype  \n",
      "---  ------                 --------------  -----  \n",
      " 0   donorID                34888 non-null  int64  \n",
      " 1   sum                    34869 non-null  float64\n",
      " 2   count                  34869 non-null  float64\n",
      " 3   1y_camp_count          276 non-null    float64\n",
      " 4   1y_camp_sum            276 non-null    float64\n",
      " 5   2y_camp_count          2212 non-null   float64\n",
      " 6   2y_camp_sum            2212 non-null   float64\n",
      " 7   4y_camp_count          17791 non-null  float64\n",
      " 8   4y_camp_sum            17791 non-null  float64\n",
      " 9   6y_camp_count          22575 non-null  float64\n",
      " 10  6y_camp_sum            22575 non-null  float64\n",
      " 11  gift_first_year        34869 non-null  float64\n",
      " 12  gift_last_year         34869 non-null  float64\n",
      " 13  total_camp_count       34869 non-null  float64\n",
      " 14  total_camp_amt         34869 non-null  float64\n",
      " 15  total_camp_min_amt     34869 non-null  float64\n",
      " 16  total_camp_max_amt     34869 non-null  float64\n",
      " 17  total_amt_greater_30   34869 non-null  float64\n",
      " 18  total_amt_greater_60   34869 non-null  float64\n",
      " 19  total_amt_greater_100  34869 non-null  float64\n",
      " 20  zipcode                34867 non-null  float64\n",
      " 21  region                 34867 non-null  object \n",
      " 22  age                    34867 non-null  float64\n",
      " 23  Gender_M               34867 non-null  float64\n",
      " 24  Gender_F               34867 non-null  float64\n",
      " 25  Gender_Missing         34867 non-null  float64\n",
      " 26  EN                     34867 non-null  float64\n",
      " 27  FR                     34867 non-null  float64\n",
      " 28  NL                     34867 non-null  float64\n",
      " 29  Flemish Brabant        34867 non-null  float64\n",
      " 30  Antwerp                34867 non-null  float64\n",
      " 31  Brussels               34867 non-null  float64\n",
      " 32  Walloon Brabant        34867 non-null  float64\n",
      " 33  West Flanders          34867 non-null  float64\n",
      " 34  East Flanders          34867 non-null  float64\n",
      " 35  Liege                  34867 non-null  float64\n",
      " 36  Luxembourg             34867 non-null  float64\n",
      " 37  Namur                  34867 non-null  float64\n",
      " 38  Hainaut                34867 non-null  float64\n",
      " 39  Limburg                34867 non-null  float64\n",
      "dtypes: float64(38), int64(1), object(1)\n",
      "memory usage: 10.9+ MB\n"
     ]
    }
   ],
   "source": [
    "#info of dataset\n",
    "basetable_target.info()"
   ]
  },
  {
   "cell_type": "code",
   "execution_count": 536,
   "id": "97fac0b9",
   "metadata": {},
   "outputs": [],
   "source": [
    "#replacing missing values by 0\n",
    "basetable_target[\"sum\"] = basetable_target[\"sum\"].replace(np.nan, 0)\n",
    "basetable_target[\"count\"] = basetable_target[\"count\"].replace(np.nan, 0)\n",
    "basetable_target[\"1y_camp_count\"] = basetable_target[\"1y_camp_count\"].replace(np.nan, 0)\n",
    "basetable_target[\"1y_camp_sum\"] = basetable_target[\"1y_camp_sum\"].replace(np.nan, 0)\n",
    "basetable_target[\"2y_camp_count\"] = basetable_target[\"2y_camp_count\"].replace(np.nan, 0)\n",
    "basetable_target[\"2y_camp_sum\"] = basetable_target[\"2y_camp_sum\"].replace(np.nan, 0)\n",
    "basetable_target[\"4y_camp_count\"] = basetable_target[\"4y_camp_count\"].replace(np.nan, 0)\n",
    "basetable_target[\"4y_camp_sum\"] = basetable_target[\"4y_camp_sum\"].replace(np.nan, 0)\n",
    "basetable_target[\"6y_camp_count\"] = basetable_target[\"6y_camp_count\"].replace(np.nan, 0)\n",
    "basetable_target[\"6y_camp_sum\"] = basetable_target[\"6y_camp_sum\"].replace(np.nan, 0)\n",
    "basetable_target[\"gift_first_year\"] = basetable_target[\"gift_first_year\"].replace(np.nan, 0)\n",
    "basetable_target[\"gift_last_year\"] = basetable_target[\"gift_last_year\"].replace(np.nan, 0)\n",
    "basetable_target[\"total_camp_count\"] = basetable_target[\"total_camp_count\"].replace(np.nan, 0)\n",
    "basetable_target[\"total_camp_amt\"] = basetable_target[\"total_camp_amt\"].replace(np.nan, 0)\n",
    "basetable_target[\"total_camp_min_amt\"] = basetable_target[\"total_camp_min_amt\"].replace(np.nan, 0)\n",
    "basetable_target[\"total_camp_max_amt\"] = basetable_target[\"total_camp_max_amt\"].replace(np.nan, 0)\n",
    "basetable_target[\"total_amt_greater_30\"] = basetable_target[\"total_amt_greater_30\"].replace(np.nan, 0)\n",
    "basetable_target[\"total_amt_greater_60\"] = basetable_target[\"total_amt_greater_60\"].replace(np.nan, 0)\n",
    "basetable_target[\"total_amt_greater_100\"] = basetable_target[\"total_amt_greater_100\"].replace(np.nan, 0)"
   ]
  },
  {
   "cell_type": "code",
   "execution_count": 537,
   "id": "239901f7",
   "metadata": {},
   "outputs": [],
   "source": [
    "#filling na values with missing\n",
    "basetable_target['region'] = basetable_target['region'].fillna('missing')"
   ]
  },
  {
   "cell_type": "code",
   "execution_count": 538,
   "id": "b2982acc",
   "metadata": {},
   "outputs": [
    {
     "data": {
      "text/plain": [
       "array(['Flanders', 'Brussels', 'Wallonia', 'missing'], dtype=object)"
      ]
     },
     "execution_count": 538,
     "metadata": {},
     "output_type": "execute_result"
    }
   ],
   "source": [
    "#checking for unique variables\n",
    "basetable_target['region'].unique()"
   ]
  },
  {
   "cell_type": "code",
   "execution_count": 539,
   "id": "c64e62c7",
   "metadata": {},
   "outputs": [
    {
     "data": {
      "text/html": [
       "<div>\n",
       "<style scoped>\n",
       "    .dataframe tbody tr th:only-of-type {\n",
       "        vertical-align: middle;\n",
       "    }\n",
       "\n",
       "    .dataframe tbody tr th {\n",
       "        vertical-align: top;\n",
       "    }\n",
       "\n",
       "    .dataframe thead th {\n",
       "        text-align: right;\n",
       "    }\n",
       "</style>\n",
       "<table border=\"1\" class=\"dataframe\">\n",
       "  <thead>\n",
       "    <tr style=\"text-align: right;\">\n",
       "      <th></th>\n",
       "      <th>donorID</th>\n",
       "      <th>sum</th>\n",
       "      <th>count</th>\n",
       "      <th>1y_camp_count</th>\n",
       "      <th>1y_camp_sum</th>\n",
       "      <th>2y_camp_count</th>\n",
       "      <th>2y_camp_sum</th>\n",
       "      <th>4y_camp_count</th>\n",
       "      <th>4y_camp_sum</th>\n",
       "      <th>6y_camp_count</th>\n",
       "      <th>...</th>\n",
       "      <th>Brussels</th>\n",
       "      <th>Walloon Brabant</th>\n",
       "      <th>West Flanders</th>\n",
       "      <th>East Flanders</th>\n",
       "      <th>Liege</th>\n",
       "      <th>Luxembourg</th>\n",
       "      <th>Namur</th>\n",
       "      <th>Hainaut</th>\n",
       "      <th>Limburg</th>\n",
       "      <th>has_contributed</th>\n",
       "    </tr>\n",
       "  </thead>\n",
       "  <tbody>\n",
       "    <tr>\n",
       "      <th>0</th>\n",
       "      <td>100001</td>\n",
       "      <td>178.49</td>\n",
       "      <td>12.0</td>\n",
       "      <td>0.0</td>\n",
       "      <td>0.0</td>\n",
       "      <td>0.0</td>\n",
       "      <td>0.0</td>\n",
       "      <td>1.0</td>\n",
       "      <td>10.0</td>\n",
       "      <td>10.0</td>\n",
       "      <td>...</td>\n",
       "      <td>0.0</td>\n",
       "      <td>1.0</td>\n",
       "      <td>0.0</td>\n",
       "      <td>0.0</td>\n",
       "      <td>0.0</td>\n",
       "      <td>0.0</td>\n",
       "      <td>0.0</td>\n",
       "      <td>0.0</td>\n",
       "      <td>0.0</td>\n",
       "      <td>0</td>\n",
       "    </tr>\n",
       "    <tr>\n",
       "      <th>1</th>\n",
       "      <td>100002</td>\n",
       "      <td>20.00</td>\n",
       "      <td>1.0</td>\n",
       "      <td>0.0</td>\n",
       "      <td>0.0</td>\n",
       "      <td>0.0</td>\n",
       "      <td>0.0</td>\n",
       "      <td>1.0</td>\n",
       "      <td>20.0</td>\n",
       "      <td>0.0</td>\n",
       "      <td>...</td>\n",
       "      <td>0.0</td>\n",
       "      <td>0.0</td>\n",
       "      <td>0.0</td>\n",
       "      <td>0.0</td>\n",
       "      <td>0.0</td>\n",
       "      <td>0.0</td>\n",
       "      <td>0.0</td>\n",
       "      <td>0.0</td>\n",
       "      <td>0.0</td>\n",
       "      <td>0</td>\n",
       "    </tr>\n",
       "    <tr>\n",
       "      <th>2</th>\n",
       "      <td>100004</td>\n",
       "      <td>716.22</td>\n",
       "      <td>26.0</td>\n",
       "      <td>0.0</td>\n",
       "      <td>0.0</td>\n",
       "      <td>0.0</td>\n",
       "      <td>0.0</td>\n",
       "      <td>0.0</td>\n",
       "      <td>0.0</td>\n",
       "      <td>24.0</td>\n",
       "      <td>...</td>\n",
       "      <td>0.0</td>\n",
       "      <td>0.0</td>\n",
       "      <td>0.0</td>\n",
       "      <td>0.0</td>\n",
       "      <td>0.0</td>\n",
       "      <td>0.0</td>\n",
       "      <td>0.0</td>\n",
       "      <td>0.0</td>\n",
       "      <td>0.0</td>\n",
       "      <td>0</td>\n",
       "    </tr>\n",
       "    <tr>\n",
       "      <th>3</th>\n",
       "      <td>100008</td>\n",
       "      <td>124.37</td>\n",
       "      <td>3.0</td>\n",
       "      <td>0.0</td>\n",
       "      <td>0.0</td>\n",
       "      <td>0.0</td>\n",
       "      <td>0.0</td>\n",
       "      <td>1.0</td>\n",
       "      <td>50.0</td>\n",
       "      <td>2.0</td>\n",
       "      <td>...</td>\n",
       "      <td>0.0</td>\n",
       "      <td>1.0</td>\n",
       "      <td>0.0</td>\n",
       "      <td>0.0</td>\n",
       "      <td>0.0</td>\n",
       "      <td>0.0</td>\n",
       "      <td>0.0</td>\n",
       "      <td>0.0</td>\n",
       "      <td>0.0</td>\n",
       "      <td>0</td>\n",
       "    </tr>\n",
       "  </tbody>\n",
       "</table>\n",
       "<p>4 rows × 41 columns</p>\n",
       "</div>"
      ],
      "text/plain": [
       "   donorID     sum  count  1y_camp_count  1y_camp_sum  2y_camp_count  \\\n",
       "0   100001  178.49   12.0            0.0          0.0            0.0   \n",
       "1   100002   20.00    1.0            0.0          0.0            0.0   \n",
       "2   100004  716.22   26.0            0.0          0.0            0.0   \n",
       "3   100008  124.37    3.0            0.0          0.0            0.0   \n",
       "\n",
       "   2y_camp_sum  4y_camp_count  4y_camp_sum  6y_camp_count  ...  Brussels  \\\n",
       "0          0.0            1.0         10.0           10.0  ...       0.0   \n",
       "1          0.0            1.0         20.0            0.0  ...       0.0   \n",
       "2          0.0            0.0          0.0           24.0  ...       0.0   \n",
       "3          0.0            1.0         50.0            2.0  ...       0.0   \n",
       "\n",
       "   Walloon Brabant  West Flanders  East Flanders  Liege  Luxembourg  Namur  \\\n",
       "0              1.0            0.0            0.0    0.0         0.0    0.0   \n",
       "1              0.0            0.0            0.0    0.0         0.0    0.0   \n",
       "2              0.0            0.0            0.0    0.0         0.0    0.0   \n",
       "3              1.0            0.0            0.0    0.0         0.0    0.0   \n",
       "\n",
       "   Hainaut  Limburg  has_contributed  \n",
       "0      0.0      0.0                0  \n",
       "1      0.0      0.0                0  \n",
       "2      0.0      0.0                0  \n",
       "3      0.0      0.0                0  \n",
       "\n",
       "[4 rows x 41 columns]"
      ]
     },
     "execution_count": 539,
     "metadata": {},
     "output_type": "execute_result"
    }
   ],
   "source": [
    "#deriviing has_contributed variable and add has_contributed to the basetable\n",
    "has_contributed = list(gifts_target[\"donorID\"][gifts_target[\"amount\"] > 30])\n",
    "\n",
    "basetable_target[\"has_contributed\"] = pd.Series([1 if donorID in has_contributed else 0 for donorID in basetable_target[\"donorID\"]])\n",
    "basetable_target.head(4)"
   ]
  },
  {
   "cell_type": "code",
   "execution_count": 540,
   "id": "734353fa",
   "metadata": {},
   "outputs": [],
   "source": [
    "#writing out the data into a csv\n",
    "basetable_target.to_csv('../dsc_data/basetable_targetdata.csv')"
   ]
  },
  {
   "cell_type": "markdown",
   "id": "821fe798",
   "metadata": {},
   "source": [
    "CAMPAIGN 7244 ANALYSIS"
   ]
  },
  {
   "cell_type": "code",
   "execution_count": 541,
   "id": "142348f5",
   "metadata": {},
   "outputs": [
    {
     "data": {
      "text/plain": [
       "25645"
      ]
     },
     "execution_count": 541,
     "metadata": {},
     "output_type": "execute_result"
    }
   ],
   "source": [
    "#Reading in the file\n",
    "select_campaign = pd.read_csv('../dsc_data/selection campaign 7244.csv')\n",
    "select_campaign.head()\n",
    "len(select_campaign)"
   ]
  },
  {
   "cell_type": "code",
   "execution_count": 542,
   "id": "4a13f5c9",
   "metadata": {},
   "outputs": [
    {
     "data": {
      "text/plain": [
       "214231"
      ]
     },
     "execution_count": 542,
     "metadata": {},
     "output_type": "execute_result"
    }
   ],
   "source": [
    "#calculating number of donors as at the end date\n",
    "end_date = datetime.datetime(year=2019, month=6, day=18)\n",
    "\n",
    "gifts_camp = gifts[(gifts[\"date\"] < end_date)]\n",
    "\n",
    "len(gifts_camp)"
   ]
  },
  {
   "cell_type": "code",
   "execution_count": 543,
   "id": "ddfd845d",
   "metadata": {},
   "outputs": [
    {
     "data": {
      "text/plain": [
       "361"
      ]
     },
     "execution_count": 543,
     "metadata": {},
     "output_type": "execute_result"
    }
   ],
   "source": [
    "#selecting donors with campaignID 7244\n",
    "gifts_campaign44 = gifts[gifts[\"campaignID\"] == 7244]\n",
    "len(gifts_campaign44)"
   ]
  },
  {
   "cell_type": "code",
   "execution_count": 544,
   "id": "cd18e3d3",
   "metadata": {},
   "outputs": [
    {
     "data": {
      "text/html": [
       "<div>\n",
       "<style scoped>\n",
       "    .dataframe tbody tr th:only-of-type {\n",
       "        vertical-align: middle;\n",
       "    }\n",
       "\n",
       "    .dataframe tbody tr th {\n",
       "        vertical-align: top;\n",
       "    }\n",
       "\n",
       "    .dataframe thead th {\n",
       "        text-align: right;\n",
       "    }\n",
       "</style>\n",
       "<table border=\"1\" class=\"dataframe\">\n",
       "  <thead>\n",
       "    <tr style=\"text-align: right;\">\n",
       "      <th></th>\n",
       "      <th>donorID</th>\n",
       "      <th>sum</th>\n",
       "      <th>count</th>\n",
       "    </tr>\n",
       "  </thead>\n",
       "  <tbody>\n",
       "    <tr>\n",
       "      <th>0</th>\n",
       "      <td>100001</td>\n",
       "      <td>178.49</td>\n",
       "      <td>12</td>\n",
       "    </tr>\n",
       "    <tr>\n",
       "      <th>1</th>\n",
       "      <td>100002</td>\n",
       "      <td>20.00</td>\n",
       "      <td>1</td>\n",
       "    </tr>\n",
       "    <tr>\n",
       "      <th>2</th>\n",
       "      <td>100003</td>\n",
       "      <td>18.00</td>\n",
       "      <td>5</td>\n",
       "    </tr>\n",
       "    <tr>\n",
       "      <th>3</th>\n",
       "      <td>100004</td>\n",
       "      <td>716.22</td>\n",
       "      <td>26</td>\n",
       "    </tr>\n",
       "    <tr>\n",
       "      <th>4</th>\n",
       "      <td>100005</td>\n",
       "      <td>14.96</td>\n",
       "      <td>4</td>\n",
       "    </tr>\n",
       "  </tbody>\n",
       "</table>\n",
       "</div>"
      ],
      "text/plain": [
       "   donorID     sum  count\n",
       "0   100001  178.49     12\n",
       "1   100002   20.00      1\n",
       "2   100003   18.00      5\n",
       "3   100004  716.22     26\n",
       "4   100005   14.96      4"
      ]
     },
     "execution_count": 544,
     "metadata": {},
     "output_type": "execute_result"
    }
   ],
   "source": [
    "#creating aggregate function for the train data\n",
    "basetable_trait = gifts_campaign.groupby([\"donorID\"])[\"amount\"].agg(['sum', 'count']).reset_index()\n",
    "basetable_trait.head()"
   ]
  },
  {
   "cell_type": "code",
   "execution_count": 545,
   "id": "9b8b6c07",
   "metadata": {},
   "outputs": [
    {
     "data": {
      "text/html": [
       "<div>\n",
       "<style scoped>\n",
       "    .dataframe tbody tr th:only-of-type {\n",
       "        vertical-align: middle;\n",
       "    }\n",
       "\n",
       "    .dataframe tbody tr th {\n",
       "        vertical-align: top;\n",
       "    }\n",
       "\n",
       "    .dataframe thead th {\n",
       "        text-align: right;\n",
       "    }\n",
       "</style>\n",
       "<table border=\"1\" class=\"dataframe\">\n",
       "  <thead>\n",
       "    <tr style=\"text-align: right;\">\n",
       "      <th></th>\n",
       "      <th>donorID</th>\n",
       "      <th>amount</th>\n",
       "    </tr>\n",
       "  </thead>\n",
       "  <tbody>\n",
       "    <tr>\n",
       "      <th>0</th>\n",
       "      <td>100724</td>\n",
       "      <td>40.0</td>\n",
       "    </tr>\n",
       "    <tr>\n",
       "      <th>1</th>\n",
       "      <td>100896</td>\n",
       "      <td>10.0</td>\n",
       "    </tr>\n",
       "    <tr>\n",
       "      <th>2</th>\n",
       "      <td>100964</td>\n",
       "      <td>100.0</td>\n",
       "    </tr>\n",
       "    <tr>\n",
       "      <th>3</th>\n",
       "      <td>101066</td>\n",
       "      <td>60.0</td>\n",
       "    </tr>\n",
       "    <tr>\n",
       "      <th>4</th>\n",
       "      <td>101069</td>\n",
       "      <td>80.0</td>\n",
       "    </tr>\n",
       "  </tbody>\n",
       "</table>\n",
       "</div>"
      ],
      "text/plain": [
       "   donorID  amount\n",
       "0   100724    40.0\n",
       "1   100896    10.0\n",
       "2   100964   100.0\n",
       "3   101066    60.0\n",
       "4   101069    80.0"
      ]
     },
     "execution_count": 545,
     "metadata": {},
     "output_type": "execute_result"
    }
   ],
   "source": [
    "#grouping by the donorId\n",
    "gifts_test = gifts_campaign44.groupby([\"donorID\"])[\"amount\"].sum().reset_index()\n",
    "gifts_test.columns = [\"donorID\", \"amount\"]\n",
    "gifts_test.head()"
   ]
  },
  {
   "cell_type": "code",
   "execution_count": 546,
   "id": "a3a73772",
   "metadata": {},
   "outputs": [],
   "source": [
    "#Setting the timeline for amount donated in the last one year\n",
    "end_date = datetime.datetime(year = 2019,  month = 6, day = 18)\n",
    "start_date =  datetime.datetime(year= 2018, month = 6, day = 18)\n",
    "\n",
    "#Calculating the amount donated in the last one year\n",
    "gifts_1y = gifts_camp[(gifts_camp['date'] <= end_date) & (gifts_camp[\"date\"] >= start_date)] \n",
    "\n",
    "# Group and sum donations by donor\n",
    "gifts_1y_camp = gifts_1y.groupby(\"donorID\")['amount'].agg(['count', 'sum']).reset_index()\n",
    "gifts_1y_camp.columns = [\"donorID\", \"1y_camp_count\", \"1y_camp_sum\"]"
   ]
  },
  {
   "cell_type": "code",
   "execution_count": 547,
   "id": "7653e0b2",
   "metadata": {},
   "outputs": [
    {
     "name": "stdout",
     "output_type": "stream",
     "text": [
      "<class 'pandas.core.frame.DataFrame'>\n",
      "Int64Index: 44686 entries, 0 to 44685\n",
      "Data columns (total 5 columns):\n",
      " #   Column         Non-Null Count  Dtype  \n",
      "---  ------         --------------  -----  \n",
      " 0   donorID        44686 non-null  int64  \n",
      " 1   sum            44686 non-null  float64\n",
      " 2   count          44686 non-null  int64  \n",
      " 3   1y_camp_count  4318 non-null   float64\n",
      " 4   1y_camp_sum    4318 non-null   float64\n",
      "dtypes: float64(3), int64(2)\n",
      "memory usage: 2.0 MB\n"
     ]
    }
   ],
   "source": [
    "#Merging gifts_1y to basetable_trait\n",
    "basetable_trait = basetable_trait.merge(gifts_1y_camp, left_on = 'donorID', right_on = 'donorID', how='left')\n",
    "basetable_trait.info()"
   ]
  },
  {
   "cell_type": "code",
   "execution_count": 548,
   "id": "093b6ac4",
   "metadata": {},
   "outputs": [],
   "source": [
    "#Setting the timeline for amount donated in the last two years\n",
    "end_date = datetime.datetime(year = 2018,  month = 6, day = 18)\n",
    "start_date =  datetime.datetime(year= 2016, month = 6, day = 18)\n",
    "\n",
    "#Calculating the amount donated in the last two years\n",
    "gifts_2y = gifts_camp[(gifts_camp['date'] <= end_date) & (gifts_camp[\"date\"] >= start_date)] \n",
    "\n",
    "# Group and sum donations by donor\n",
    "gifts_2y_camp = gifts_2y.groupby(\"donorID\")['amount'].agg(['count', 'sum']).reset_index()\n",
    "gifts_2y_camp.columns = [\"donorID\", \"2y_camp_count\", \"2y_camp_sum\"]"
   ]
  },
  {
   "cell_type": "code",
   "execution_count": 549,
   "id": "401ec016",
   "metadata": {},
   "outputs": [
    {
     "name": "stdout",
     "output_type": "stream",
     "text": [
      "<class 'pandas.core.frame.DataFrame'>\n",
      "Int64Index: 44686 entries, 0 to 44685\n",
      "Data columns (total 7 columns):\n",
      " #   Column         Non-Null Count  Dtype  \n",
      "---  ------         --------------  -----  \n",
      " 0   donorID        44686 non-null  int64  \n",
      " 1   sum            44686 non-null  float64\n",
      " 2   count          44686 non-null  int64  \n",
      " 3   1y_camp_count  4318 non-null   float64\n",
      " 4   1y_camp_sum    4318 non-null   float64\n",
      " 5   2y_camp_count  7691 non-null   float64\n",
      " 6   2y_camp_sum    7691 non-null   float64\n",
      "dtypes: float64(5), int64(2)\n",
      "memory usage: 2.7 MB\n"
     ]
    }
   ],
   "source": [
    "#Merging gifts_2y to basetable_trait\n",
    "basetable_trait = basetable_trait.merge(gifts_2y_camp, left_on = 'donorID', right_on = 'donorID', how='left')\n",
    "basetable_trait.info()"
   ]
  },
  {
   "cell_type": "code",
   "execution_count": 550,
   "id": "1c531cb1",
   "metadata": {},
   "outputs": [],
   "source": [
    "#Setting the timeline for amount donated in the last four years\n",
    "end_date = datetime.datetime(year = 2016,  month = 6, day = 18)\n",
    "start_date =  datetime.datetime(year= 2012, month = 6, day = 18)\n",
    "\n",
    "#Calculating the amount donated in the last four years\n",
    "gifts_4y = gifts_camp[(gifts_camp['date'] <= end_date) & (gifts_camp[\"date\"] >= start_date)] \n",
    "\n",
    "# Group and sum donations by donor\n",
    "gifts_4y_camp = gifts_4y.groupby(\"donorID\")['amount'].agg(['count', 'sum']).reset_index()\n",
    "gifts_4y_camp.columns = [\"donorID\", \"4y_camp_count\", \"4y_camp_sum\"]"
   ]
  },
  {
   "cell_type": "code",
   "execution_count": 551,
   "id": "e5bd35c2",
   "metadata": {},
   "outputs": [
    {
     "name": "stdout",
     "output_type": "stream",
     "text": [
      "<class 'pandas.core.frame.DataFrame'>\n",
      "Int64Index: 44686 entries, 0 to 44685\n",
      "Data columns (total 9 columns):\n",
      " #   Column         Non-Null Count  Dtype  \n",
      "---  ------         --------------  -----  \n",
      " 0   donorID        44686 non-null  int64  \n",
      " 1   sum            44686 non-null  float64\n",
      " 2   count          44686 non-null  int64  \n",
      " 3   1y_camp_count  4318 non-null   float64\n",
      " 4   1y_camp_sum    4318 non-null   float64\n",
      " 5   2y_camp_count  7691 non-null   float64\n",
      " 6   2y_camp_sum    7691 non-null   float64\n",
      " 7   4y_camp_count  20374 non-null  float64\n",
      " 8   4y_camp_sum    20374 non-null  float64\n",
      "dtypes: float64(7), int64(2)\n",
      "memory usage: 3.4 MB\n"
     ]
    }
   ],
   "source": [
    "#Merging gifts_4y to basetable_trait\n",
    "basetable_trait = basetable_trait.merge(gifts_4y_camp, left_on = 'donorID', right_on = 'donorID', how='left')\n",
    "basetable_trait.info()"
   ]
  },
  {
   "cell_type": "code",
   "execution_count": 552,
   "id": "48e929c5",
   "metadata": {},
   "outputs": [],
   "source": [
    "#Setting the timeline for amount donated in the last six years\n",
    "end_date = datetime.datetime(year = 2012,  month = 6, day = 18)\n",
    "start_date =  datetime.datetime(year= 2006, month = 6, day = 18)\n",
    "\n",
    "#Calculating the amount donated in the last six years\n",
    "gifts_6y = gifts_camp[(gifts_camp['date'] <= end_date) & (gifts_camp[\"date\"] >= start_date)] \n",
    "\n",
    "# Group and sum donations by donor\n",
    "gifts_6y_camp = gifts_6y.groupby(\"donorID\")['amount'].agg(['count', 'sum']).reset_index()\n",
    "gifts_6y_camp.columns = [\"donorID\", \"6y_camp_count\", \"6y_camp_sum\"]"
   ]
  },
  {
   "cell_type": "code",
   "execution_count": 553,
   "id": "f62d794f",
   "metadata": {},
   "outputs": [
    {
     "name": "stdout",
     "output_type": "stream",
     "text": [
      "<class 'pandas.core.frame.DataFrame'>\n",
      "Int64Index: 44686 entries, 0 to 44685\n",
      "Data columns (total 11 columns):\n",
      " #   Column         Non-Null Count  Dtype  \n",
      "---  ------         --------------  -----  \n",
      " 0   donorID        44686 non-null  int64  \n",
      " 1   sum            44686 non-null  float64\n",
      " 2   count          44686 non-null  int64  \n",
      " 3   1y_camp_count  4318 non-null   float64\n",
      " 4   1y_camp_sum    4318 non-null   float64\n",
      " 5   2y_camp_count  7691 non-null   float64\n",
      " 6   2y_camp_sum    7691 non-null   float64\n",
      " 7   4y_camp_count  20374 non-null  float64\n",
      " 8   4y_camp_sum    20374 non-null  float64\n",
      " 9   6y_camp_count  29224 non-null  float64\n",
      " 10  6y_camp_sum    29224 non-null  float64\n",
      "dtypes: float64(9), int64(2)\n",
      "memory usage: 4.1 MB\n"
     ]
    }
   ],
   "source": [
    "#Merging gifts_6y to basetable_trait\n",
    "basetable_trait = basetable_trait.merge(gifts_6y_camp, left_on = 'donorID', right_on = 'donorID', how='left')\n",
    "basetable_trait.info()"
   ]
  },
  {
   "cell_type": "code",
   "execution_count": 554,
   "id": "6a724b32",
   "metadata": {},
   "outputs": [],
   "source": [
    "#calculating the gift first and last year for donors\n",
    "gift_first_last_year = gifts.groupby('donorID').agg(gift_first_year = ('gift_year',min), gift_last_year = ('gift_year',max)).reset_index()"
   ]
  },
  {
   "cell_type": "code",
   "execution_count": 555,
   "id": "42684123",
   "metadata": {},
   "outputs": [
    {
     "name": "stdout",
     "output_type": "stream",
     "text": [
      "<class 'pandas.core.frame.DataFrame'>\n",
      "Int64Index: 44686 entries, 0 to 44685\n",
      "Data columns (total 13 columns):\n",
      " #   Column           Non-Null Count  Dtype  \n",
      "---  ------           --------------  -----  \n",
      " 0   donorID          44686 non-null  int64  \n",
      " 1   sum              44686 non-null  float64\n",
      " 2   count            44686 non-null  int64  \n",
      " 3   1y_camp_count    4318 non-null   float64\n",
      " 4   1y_camp_sum      4318 non-null   float64\n",
      " 5   2y_camp_count    7691 non-null   float64\n",
      " 6   2y_camp_sum      7691 non-null   float64\n",
      " 7   4y_camp_count    20374 non-null  float64\n",
      " 8   4y_camp_sum      20374 non-null  float64\n",
      " 9   6y_camp_count    29224 non-null  float64\n",
      " 10  6y_camp_sum      29224 non-null  float64\n",
      " 11  gift_first_year  44686 non-null  int64  \n",
      " 12  gift_last_year   44686 non-null  int64  \n",
      "dtypes: float64(9), int64(4)\n",
      "memory usage: 4.8 MB\n"
     ]
    }
   ],
   "source": [
    "#Calculating the last and first period of donations by donors\n",
    "gift_first_last_year['gift_first_year'] = 2019 - gift_first_last_year['gift_first_year']\n",
    "gift_first_last_year['gift_last_year'] = gift_first_last_year['gift_last_year']\n",
    "basetable_trait =  basetable_trait.merge(gift_first_last_year, left_on = 'donorID', right_on = 'donorID', how='left')\n",
    "basetable_trait.info()"
   ]
  },
  {
   "cell_type": "code",
   "execution_count": 556,
   "id": "cb298cd1",
   "metadata": {},
   "outputs": [
    {
     "name": "stdout",
     "output_type": "stream",
     "text": [
      "<class 'pandas.core.frame.DataFrame'>\n",
      "Int64Index: 44686 entries, 0 to 44685\n",
      "Data columns (total 20 columns):\n",
      " #   Column                 Non-Null Count  Dtype  \n",
      "---  ------                 --------------  -----  \n",
      " 0   donorID                44686 non-null  int64  \n",
      " 1   sum                    44686 non-null  float64\n",
      " 2   count                  44686 non-null  int64  \n",
      " 3   1y_camp_count          4318 non-null   float64\n",
      " 4   1y_camp_sum            4318 non-null   float64\n",
      " 5   2y_camp_count          7691 non-null   float64\n",
      " 6   2y_camp_sum            7691 non-null   float64\n",
      " 7   4y_camp_count          20374 non-null  float64\n",
      " 8   4y_camp_sum            20374 non-null  float64\n",
      " 9   6y_camp_count          29224 non-null  float64\n",
      " 10  6y_camp_sum            29224 non-null  float64\n",
      " 11  gift_first_year        44686 non-null  int64  \n",
      " 12  gift_last_year         44686 non-null  int64  \n",
      " 13  total_camp_count       44686 non-null  int64  \n",
      " 14  total_camp_amt         44686 non-null  float64\n",
      " 15  total_camp_min_amt     44686 non-null  float64\n",
      " 16  total_camp_max_amt     44686 non-null  float64\n",
      " 17  total_amt_greater_30   44686 non-null  int32  \n",
      " 18  total_amt_greater_60   44686 non-null  int32  \n",
      " 19  total_amt_greater_100  44686 non-null  int32  \n",
      "dtypes: float64(12), int32(3), int64(5)\n",
      "memory usage: 6.6 MB\n"
     ]
    }
   ],
   "source": [
    "#creating new variables\n",
    "gifts_total = gifts_campaign.groupby('donorID') \\\n",
    "                        .agg(total_camp_count = ('campaignID','count'), total_camp_amt = ('amount','sum'), \\\n",
    "                            total_camp_min_amt = ('amount','min'), total_camp_max_amt = ('amount','max')).reset_index()\n",
    "gifts_total['total_amt_greater_30'] = np.where(gifts_total['total_camp_max_amt'] > 35, 1,0)\n",
    "gifts_total['total_amt_greater_60'] = np.where(gifts_total['total_camp_max_amt'] > 60, 1,0)\n",
    "gifts_total['total_amt_greater_100'] = np.where(gifts_total['total_camp_max_amt'] > 100, 1,0)\n",
    "basetable_trait =  basetable_trait.merge(gifts_total, left_on = 'donorID', right_on = 'donorID', how='left')\n",
    "\n",
    "basetable_trait.info()"
   ]
  },
  {
   "cell_type": "code",
   "execution_count": 557,
   "id": "b1ecd8c4",
   "metadata": {},
   "outputs": [
    {
     "name": "stdout",
     "output_type": "stream",
     "text": [
      "<class 'pandas.core.frame.DataFrame'>\n",
      "Int64Index: 44686 entries, 0 to 44685\n",
      "Data columns (total 40 columns):\n",
      " #   Column                 Non-Null Count  Dtype  \n",
      "---  ------                 --------------  -----  \n",
      " 0   donorID                44686 non-null  int64  \n",
      " 1   sum                    44686 non-null  float64\n",
      " 2   count                  44686 non-null  int64  \n",
      " 3   1y_camp_count          4318 non-null   float64\n",
      " 4   1y_camp_sum            4318 non-null   float64\n",
      " 5   2y_camp_count          7691 non-null   float64\n",
      " 6   2y_camp_sum            7691 non-null   float64\n",
      " 7   4y_camp_count          20374 non-null  float64\n",
      " 8   4y_camp_sum            20374 non-null  float64\n",
      " 9   6y_camp_count          29224 non-null  float64\n",
      " 10  6y_camp_sum            29224 non-null  float64\n",
      " 11  gift_first_year        44686 non-null  int64  \n",
      " 12  gift_last_year         44686 non-null  int64  \n",
      " 13  total_camp_count       44686 non-null  int64  \n",
      " 14  total_camp_amt         44686 non-null  float64\n",
      " 15  total_camp_min_amt     44686 non-null  float64\n",
      " 16  total_camp_max_amt     44686 non-null  float64\n",
      " 17  total_amt_greater_30   44686 non-null  int32  \n",
      " 18  total_amt_greater_60   44686 non-null  int32  \n",
      " 19  total_amt_greater_100  44686 non-null  int32  \n",
      " 20  zipcode                44684 non-null  float64\n",
      " 21  region                 44684 non-null  object \n",
      " 22  age                    44684 non-null  float64\n",
      " 23  Gender_M               44684 non-null  float64\n",
      " 24  Gender_F               44684 non-null  float64\n",
      " 25  Gender_Missing         44684 non-null  float64\n",
      " 26  EN                     44684 non-null  float64\n",
      " 27  FR                     44684 non-null  float64\n",
      " 28  NL                     44684 non-null  float64\n",
      " 29  Flemish Brabant        44684 non-null  float64\n",
      " 30  Antwerp                44684 non-null  float64\n",
      " 31  Brussels               44684 non-null  float64\n",
      " 32  Walloon Brabant        44684 non-null  float64\n",
      " 33  West Flanders          44684 non-null  float64\n",
      " 34  East Flanders          44684 non-null  float64\n",
      " 35  Liege                  44684 non-null  float64\n",
      " 36  Luxembourg             44684 non-null  float64\n",
      " 37  Namur                  44684 non-null  float64\n",
      " 38  Hainaut                44684 non-null  float64\n",
      " 39  Limburg                44684 non-null  float64\n",
      "dtypes: float64(31), int32(3), int64(5), object(1)\n",
      "memory usage: 13.5+ MB\n"
     ]
    }
   ],
   "source": [
    "#Merging donors with basetable_trait\n",
    "basetable_trait = basetable_trait.merge(donors, left_on = 'donorID', right_on = 'donorID', how='left')\n",
    "basetable_trait.info()"
   ]
  },
  {
   "cell_type": "code",
   "execution_count": 558,
   "id": "c0db1214",
   "metadata": {},
   "outputs": [
    {
     "data": {
      "text/html": [
       "<div>\n",
       "<style scoped>\n",
       "    .dataframe tbody tr th:only-of-type {\n",
       "        vertical-align: middle;\n",
       "    }\n",
       "\n",
       "    .dataframe tbody tr th {\n",
       "        vertical-align: top;\n",
       "    }\n",
       "\n",
       "    .dataframe thead th {\n",
       "        text-align: right;\n",
       "    }\n",
       "</style>\n",
       "<table border=\"1\" class=\"dataframe\">\n",
       "  <thead>\n",
       "    <tr style=\"text-align: right;\">\n",
       "      <th></th>\n",
       "      <th>donorID</th>\n",
       "      <th>sum</th>\n",
       "      <th>count</th>\n",
       "      <th>1y_camp_count</th>\n",
       "      <th>1y_camp_sum</th>\n",
       "      <th>2y_camp_count</th>\n",
       "      <th>2y_camp_sum</th>\n",
       "      <th>4y_camp_count</th>\n",
       "      <th>4y_camp_sum</th>\n",
       "      <th>6y_camp_count</th>\n",
       "      <th>...</th>\n",
       "      <th>Antwerp</th>\n",
       "      <th>Brussels</th>\n",
       "      <th>Walloon Brabant</th>\n",
       "      <th>West Flanders</th>\n",
       "      <th>East Flanders</th>\n",
       "      <th>Liege</th>\n",
       "      <th>Luxembourg</th>\n",
       "      <th>Namur</th>\n",
       "      <th>Hainaut</th>\n",
       "      <th>Limburg</th>\n",
       "    </tr>\n",
       "  </thead>\n",
       "  <tbody>\n",
       "    <tr>\n",
       "      <th>0</th>\n",
       "      <td>100001</td>\n",
       "      <td>178.49</td>\n",
       "      <td>12.0</td>\n",
       "      <td>NaN</td>\n",
       "      <td>NaN</td>\n",
       "      <td>NaN</td>\n",
       "      <td>NaN</td>\n",
       "      <td>NaN</td>\n",
       "      <td>NaN</td>\n",
       "      <td>11.0</td>\n",
       "      <td>...</td>\n",
       "      <td>0.0</td>\n",
       "      <td>0.0</td>\n",
       "      <td>1.0</td>\n",
       "      <td>0.0</td>\n",
       "      <td>0.0</td>\n",
       "      <td>0.0</td>\n",
       "      <td>0.0</td>\n",
       "      <td>0.0</td>\n",
       "      <td>0.0</td>\n",
       "      <td>0.0</td>\n",
       "    </tr>\n",
       "    <tr>\n",
       "      <th>1</th>\n",
       "      <td>100002</td>\n",
       "      <td>20.00</td>\n",
       "      <td>1.0</td>\n",
       "      <td>NaN</td>\n",
       "      <td>NaN</td>\n",
       "      <td>NaN</td>\n",
       "      <td>NaN</td>\n",
       "      <td>1.0</td>\n",
       "      <td>20.0</td>\n",
       "      <td>NaN</td>\n",
       "      <td>...</td>\n",
       "      <td>0.0</td>\n",
       "      <td>0.0</td>\n",
       "      <td>0.0</td>\n",
       "      <td>0.0</td>\n",
       "      <td>0.0</td>\n",
       "      <td>0.0</td>\n",
       "      <td>0.0</td>\n",
       "      <td>0.0</td>\n",
       "      <td>0.0</td>\n",
       "      <td>0.0</td>\n",
       "    </tr>\n",
       "  </tbody>\n",
       "</table>\n",
       "<p>2 rows × 40 columns</p>\n",
       "</div>"
      ],
      "text/plain": [
       "   donorID     sum  count  1y_camp_count  1y_camp_sum  2y_camp_count  \\\n",
       "0   100001  178.49   12.0            NaN          NaN            NaN   \n",
       "1   100002   20.00    1.0            NaN          NaN            NaN   \n",
       "\n",
       "   2y_camp_sum  4y_camp_count  4y_camp_sum  6y_camp_count  ...  Antwerp  \\\n",
       "0          NaN            NaN          NaN           11.0  ...      0.0   \n",
       "1          NaN            1.0         20.0            NaN  ...      0.0   \n",
       "\n",
       "   Brussels  Walloon Brabant  West Flanders  East Flanders  Liege  Luxembourg  \\\n",
       "0       0.0              1.0            0.0            0.0    0.0         0.0   \n",
       "1       0.0              0.0            0.0            0.0    0.0         0.0   \n",
       "\n",
       "   Namur  Hainaut  Limburg  \n",
       "0    0.0      0.0      0.0  \n",
       "1    0.0      0.0      0.0  \n",
       "\n",
       "[2 rows x 40 columns]"
      ]
     },
     "execution_count": 558,
     "metadata": {},
     "output_type": "execute_result"
    }
   ],
   "source": [
    "#Merging basetable_trait and select_campaign\n",
    "basetable_trait = pd.merge(select_campaign, basetable_trait, on = \"donorID\", how = \"left\")\n",
    "len(basetable_trait)\n",
    "basetable_trait.head(2)"
   ]
  },
  {
   "cell_type": "code",
   "execution_count": 559,
   "id": "0d6772f2",
   "metadata": {},
   "outputs": [
    {
     "name": "stdout",
     "output_type": "stream",
     "text": [
      "<class 'pandas.core.frame.DataFrame'>\n",
      "Int64Index: 25645 entries, 0 to 25644\n",
      "Data columns (total 40 columns):\n",
      " #   Column                 Non-Null Count  Dtype  \n",
      "---  ------                 --------------  -----  \n",
      " 0   donorID                25645 non-null  int64  \n",
      " 1   sum                    25644 non-null  float64\n",
      " 2   count                  25644 non-null  float64\n",
      " 3   1y_camp_count          212 non-null    float64\n",
      " 4   1y_camp_sum            212 non-null    float64\n",
      " 5   2y_camp_count          1558 non-null   float64\n",
      " 6   2y_camp_sum            1558 non-null   float64\n",
      " 7   4y_camp_count          12683 non-null  float64\n",
      " 8   4y_camp_sum            12683 non-null  float64\n",
      " 9   6y_camp_count          17366 non-null  float64\n",
      " 10  6y_camp_sum            17366 non-null  float64\n",
      " 11  gift_first_year        25644 non-null  float64\n",
      " 12  gift_last_year         25644 non-null  float64\n",
      " 13  total_camp_count       25644 non-null  float64\n",
      " 14  total_camp_amt         25644 non-null  float64\n",
      " 15  total_camp_min_amt     25644 non-null  float64\n",
      " 16  total_camp_max_amt     25644 non-null  float64\n",
      " 17  total_amt_greater_30   25644 non-null  float64\n",
      " 18  total_amt_greater_60   25644 non-null  float64\n",
      " 19  total_amt_greater_100  25644 non-null  float64\n",
      " 20  zipcode                25643 non-null  float64\n",
      " 21  region                 25643 non-null  object \n",
      " 22  age                    25643 non-null  float64\n",
      " 23  Gender_M               25643 non-null  float64\n",
      " 24  Gender_F               25643 non-null  float64\n",
      " 25  Gender_Missing         25643 non-null  float64\n",
      " 26  EN                     25643 non-null  float64\n",
      " 27  FR                     25643 non-null  float64\n",
      " 28  NL                     25643 non-null  float64\n",
      " 29  Flemish Brabant        25643 non-null  float64\n",
      " 30  Antwerp                25643 non-null  float64\n",
      " 31  Brussels               25643 non-null  float64\n",
      " 32  Walloon Brabant        25643 non-null  float64\n",
      " 33  West Flanders          25643 non-null  float64\n",
      " 34  East Flanders          25643 non-null  float64\n",
      " 35  Liege                  25643 non-null  float64\n",
      " 36  Luxembourg             25643 non-null  float64\n",
      " 37  Namur                  25643 non-null  float64\n",
      " 38  Hainaut                25643 non-null  float64\n",
      " 39  Limburg                25643 non-null  float64\n",
      "dtypes: float64(38), int64(1), object(1)\n",
      "memory usage: 8.0+ MB\n"
     ]
    }
   ],
   "source": [
    "#checking the data\n",
    "basetable_trait.info()"
   ]
  },
  {
   "cell_type": "code",
   "execution_count": 560,
   "id": "729e550d",
   "metadata": {},
   "outputs": [],
   "source": [
    "#replacing missing values by 0\n",
    "basetable_trait[\"sum\"] = basetable_trait[\"sum\"].replace(np.nan, 0)\n",
    "basetable_trait[\"count\"] = basetable_trait[\"count\"].replace(np.nan, 0)\n",
    "basetable_trait[\"1y_camp_count\"] = basetable_trait[\"1y_camp_count\"].replace(np.nan, 0)\n",
    "basetable_trait[\"1y_camp_sum\"] = basetable_trait[\"1y_camp_sum\"].replace(np.nan, 0)\n",
    "basetable_trait[\"2y_camp_count\"] = basetable_trait[\"2y_camp_count\"].replace(np.nan, 0)\n",
    "basetable_trait[\"2y_camp_sum\"] = basetable_trait[\"2y_camp_sum\"].replace(np.nan, 0)\n",
    "basetable_trait[\"4y_camp_count\"] = basetable_trait[\"4y_camp_count\"].replace(np.nan, 0)\n",
    "basetable_trait[\"4y_camp_sum\"] = basetable_trait[\"4y_camp_sum\"].replace(np.nan, 0)\n",
    "basetable_trait[\"6y_camp_count\"] = basetable_trait[\"6y_camp_count\"].replace(np.nan, 0)\n",
    "basetable_trait[\"6y_camp_sum\"] = basetable_trait[\"6y_camp_sum\"].replace(np.nan, 0)\n",
    "basetable_trait[\"gift_first_year\"] = basetable_trait[\"gift_first_year\"].replace(np.nan, 0)\n",
    "basetable_trait[\"gift_last_year\"] = basetable_trait[\"gift_last_year\"].replace(np.nan, 0)\n",
    "basetable_trait[\"total_camp_count\"] = basetable_trait[\"total_camp_count\"].replace(np.nan, 0)\n",
    "basetable_trait[\"total_camp_amt\"] = basetable_trait[\"total_camp_amt\"].replace(np.nan, 0)\n",
    "basetable_trait[\"total_camp_min_amt\"] = basetable_trait[\"total_camp_min_amt\"].replace(np.nan, 0)\n",
    "basetable_trait[\"total_camp_max_amt\"] = basetable_trait[\"total_camp_max_amt\"].replace(np.nan, 0)\n",
    "basetable_trait[\"total_amt_greater_30\"] = basetable_trait[\"total_amt_greater_30\"].replace(np.nan, 0)\n",
    "basetable_trait[\"total_amt_greater_60\"] = basetable_trait[\"total_amt_greater_60\"].replace(np.nan, 0)\n",
    "basetable_trait[\"total_amt_greater_100\"] = basetable_trait[\"total_amt_greater_100\"].replace(np.nan, 0)"
   ]
  },
  {
   "cell_type": "code",
   "execution_count": 561,
   "id": "3c187681",
   "metadata": {},
   "outputs": [],
   "source": [
    "#filling nas with  missing \n",
    "basetable_trait['region'] = basetable_trait['region'].fillna('missing')"
   ]
  },
  {
   "cell_type": "code",
   "execution_count": 562,
   "id": "af5bf6f8",
   "metadata": {},
   "outputs": [
    {
     "data": {
      "text/plain": [
       "array(['Flanders', 'Brussels', 'Wallonia', 'missing'], dtype=object)"
      ]
     },
     "execution_count": 562,
     "metadata": {},
     "output_type": "execute_result"
    }
   ],
   "source": [
    "#checking for unique values in column\n",
    "basetable_trait['region'].unique()"
   ]
  },
  {
   "cell_type": "code",
   "execution_count": 563,
   "id": "116f5a0f",
   "metadata": {},
   "outputs": [
    {
     "data": {
      "text/html": [
       "<div>\n",
       "<style scoped>\n",
       "    .dataframe tbody tr th:only-of-type {\n",
       "        vertical-align: middle;\n",
       "    }\n",
       "\n",
       "    .dataframe tbody tr th {\n",
       "        vertical-align: top;\n",
       "    }\n",
       "\n",
       "    .dataframe thead th {\n",
       "        text-align: right;\n",
       "    }\n",
       "</style>\n",
       "<table border=\"1\" class=\"dataframe\">\n",
       "  <thead>\n",
       "    <tr style=\"text-align: right;\">\n",
       "      <th></th>\n",
       "      <th>donorID</th>\n",
       "      <th>sum</th>\n",
       "      <th>count</th>\n",
       "      <th>1y_camp_count</th>\n",
       "      <th>1y_camp_sum</th>\n",
       "      <th>2y_camp_count</th>\n",
       "      <th>2y_camp_sum</th>\n",
       "      <th>4y_camp_count</th>\n",
       "      <th>4y_camp_sum</th>\n",
       "      <th>6y_camp_count</th>\n",
       "      <th>...</th>\n",
       "      <th>Brussels</th>\n",
       "      <th>Walloon Brabant</th>\n",
       "      <th>West Flanders</th>\n",
       "      <th>East Flanders</th>\n",
       "      <th>Liege</th>\n",
       "      <th>Luxembourg</th>\n",
       "      <th>Namur</th>\n",
       "      <th>Hainaut</th>\n",
       "      <th>Limburg</th>\n",
       "      <th>has_contributed</th>\n",
       "    </tr>\n",
       "  </thead>\n",
       "  <tbody>\n",
       "    <tr>\n",
       "      <th>0</th>\n",
       "      <td>100001</td>\n",
       "      <td>178.49</td>\n",
       "      <td>12.0</td>\n",
       "      <td>0.0</td>\n",
       "      <td>0.0</td>\n",
       "      <td>0.0</td>\n",
       "      <td>0.0</td>\n",
       "      <td>0.0</td>\n",
       "      <td>0.0</td>\n",
       "      <td>11.0</td>\n",
       "      <td>...</td>\n",
       "      <td>0.0</td>\n",
       "      <td>1.0</td>\n",
       "      <td>0.0</td>\n",
       "      <td>0.0</td>\n",
       "      <td>0.0</td>\n",
       "      <td>0.0</td>\n",
       "      <td>0.0</td>\n",
       "      <td>0.0</td>\n",
       "      <td>0.0</td>\n",
       "      <td>0</td>\n",
       "    </tr>\n",
       "    <tr>\n",
       "      <th>1</th>\n",
       "      <td>100002</td>\n",
       "      <td>20.00</td>\n",
       "      <td>1.0</td>\n",
       "      <td>0.0</td>\n",
       "      <td>0.0</td>\n",
       "      <td>0.0</td>\n",
       "      <td>0.0</td>\n",
       "      <td>1.0</td>\n",
       "      <td>20.0</td>\n",
       "      <td>0.0</td>\n",
       "      <td>...</td>\n",
       "      <td>0.0</td>\n",
       "      <td>0.0</td>\n",
       "      <td>0.0</td>\n",
       "      <td>0.0</td>\n",
       "      <td>0.0</td>\n",
       "      <td>0.0</td>\n",
       "      <td>0.0</td>\n",
       "      <td>0.0</td>\n",
       "      <td>0.0</td>\n",
       "      <td>0</td>\n",
       "    </tr>\n",
       "    <tr>\n",
       "      <th>2</th>\n",
       "      <td>100008</td>\n",
       "      <td>124.37</td>\n",
       "      <td>3.0</td>\n",
       "      <td>0.0</td>\n",
       "      <td>0.0</td>\n",
       "      <td>0.0</td>\n",
       "      <td>0.0</td>\n",
       "      <td>0.0</td>\n",
       "      <td>0.0</td>\n",
       "      <td>3.0</td>\n",
       "      <td>...</td>\n",
       "      <td>0.0</td>\n",
       "      <td>1.0</td>\n",
       "      <td>0.0</td>\n",
       "      <td>0.0</td>\n",
       "      <td>0.0</td>\n",
       "      <td>0.0</td>\n",
       "      <td>0.0</td>\n",
       "      <td>0.0</td>\n",
       "      <td>0.0</td>\n",
       "      <td>0</td>\n",
       "    </tr>\n",
       "    <tr>\n",
       "      <th>3</th>\n",
       "      <td>100009</td>\n",
       "      <td>326.78</td>\n",
       "      <td>19.0</td>\n",
       "      <td>0.0</td>\n",
       "      <td>0.0</td>\n",
       "      <td>0.0</td>\n",
       "      <td>0.0</td>\n",
       "      <td>0.0</td>\n",
       "      <td>0.0</td>\n",
       "      <td>18.0</td>\n",
       "      <td>...</td>\n",
       "      <td>0.0</td>\n",
       "      <td>0.0</td>\n",
       "      <td>0.0</td>\n",
       "      <td>0.0</td>\n",
       "      <td>0.0</td>\n",
       "      <td>0.0</td>\n",
       "      <td>0.0</td>\n",
       "      <td>0.0</td>\n",
       "      <td>0.0</td>\n",
       "      <td>0</td>\n",
       "    </tr>\n",
       "    <tr>\n",
       "      <th>4</th>\n",
       "      <td>100010</td>\n",
       "      <td>40.00</td>\n",
       "      <td>1.0</td>\n",
       "      <td>0.0</td>\n",
       "      <td>0.0</td>\n",
       "      <td>0.0</td>\n",
       "      <td>0.0</td>\n",
       "      <td>1.0</td>\n",
       "      <td>40.0</td>\n",
       "      <td>0.0</td>\n",
       "      <td>...</td>\n",
       "      <td>0.0</td>\n",
       "      <td>0.0</td>\n",
       "      <td>0.0</td>\n",
       "      <td>0.0</td>\n",
       "      <td>0.0</td>\n",
       "      <td>0.0</td>\n",
       "      <td>0.0</td>\n",
       "      <td>0.0</td>\n",
       "      <td>0.0</td>\n",
       "      <td>0</td>\n",
       "    </tr>\n",
       "  </tbody>\n",
       "</table>\n",
       "<p>5 rows × 41 columns</p>\n",
       "</div>"
      ],
      "text/plain": [
       "   donorID     sum  count  1y_camp_count  1y_camp_sum  2y_camp_count  \\\n",
       "0   100001  178.49   12.0            0.0          0.0            0.0   \n",
       "1   100002   20.00    1.0            0.0          0.0            0.0   \n",
       "2   100008  124.37    3.0            0.0          0.0            0.0   \n",
       "3   100009  326.78   19.0            0.0          0.0            0.0   \n",
       "4   100010   40.00    1.0            0.0          0.0            0.0   \n",
       "\n",
       "   2y_camp_sum  4y_camp_count  4y_camp_sum  6y_camp_count  ...  Brussels  \\\n",
       "0          0.0            0.0          0.0           11.0  ...       0.0   \n",
       "1          0.0            1.0         20.0            0.0  ...       0.0   \n",
       "2          0.0            0.0          0.0            3.0  ...       0.0   \n",
       "3          0.0            0.0          0.0           18.0  ...       0.0   \n",
       "4          0.0            1.0         40.0            0.0  ...       0.0   \n",
       "\n",
       "   Walloon Brabant  West Flanders  East Flanders  Liege  Luxembourg  Namur  \\\n",
       "0              1.0            0.0            0.0    0.0         0.0    0.0   \n",
       "1              0.0            0.0            0.0    0.0         0.0    0.0   \n",
       "2              1.0            0.0            0.0    0.0         0.0    0.0   \n",
       "3              0.0            0.0            0.0    0.0         0.0    0.0   \n",
       "4              0.0            0.0            0.0    0.0         0.0    0.0   \n",
       "\n",
       "   Hainaut  Limburg  has_contributed  \n",
       "0      0.0      0.0                0  \n",
       "1      0.0      0.0                0  \n",
       "2      0.0      0.0                0  \n",
       "3      0.0      0.0                0  \n",
       "4      0.0      0.0                0  \n",
       "\n",
       "[5 rows x 41 columns]"
      ]
     },
     "execution_count": 563,
     "metadata": {},
     "output_type": "execute_result"
    }
   ],
   "source": [
    "#deriviing has_contributed variable and add has_contributed to the basetable\n",
    "has_contributed = list(gifts_test[\"donorID\"][gifts_test[\"amount\"] > 30])\n",
    "\n",
    "basetable_trait[\"has_contributed\"] = pd.Series([1 if donorID in has_contributed else 0 for donorID in basetable_trait[\"donorID\"]])\n",
    "basetable_trait.head()"
   ]
  },
  {
   "cell_type": "code",
   "execution_count": 564,
   "id": "5f0afb99",
   "metadata": {},
   "outputs": [],
   "source": [
    "#writing out the data into a csv file\n",
    "basetable_trait.to_csv('../dsc_data/basetable_testdata.csv')"
   ]
  },
  {
   "cell_type": "markdown",
   "id": "be8dc16c",
   "metadata": {},
   "source": [
    "## Reading in our Processed Datasets"
   ]
  },
  {
   "cell_type": "code",
   "execution_count": 565,
   "id": "9844e230",
   "metadata": {},
   "outputs": [],
   "source": [
    "#Reading in our processed data\n",
    "basetable_target = pd.read_csv('../dsc_data/basetable_targetdata.csv', sep=',')\n",
    "basetable_trait = pd.read_csv('../dsc_data/basetable_testdata.csv', sep=',')"
   ]
  },
  {
   "cell_type": "code",
   "execution_count": 566,
   "id": "942c6da6",
   "metadata": {},
   "outputs": [
    {
     "name": "stdout",
     "output_type": "stream",
     "text": [
      "<class 'pandas.core.frame.DataFrame'>\n",
      "RangeIndex: 34888 entries, 0 to 34887\n",
      "Data columns (total 42 columns):\n",
      " #   Column                 Non-Null Count  Dtype  \n",
      "---  ------                 --------------  -----  \n",
      " 0   Unnamed: 0             34888 non-null  int64  \n",
      " 1   donorID                34888 non-null  int64  \n",
      " 2   sum                    34888 non-null  float64\n",
      " 3   count                  34888 non-null  float64\n",
      " 4   1y_camp_count          34888 non-null  float64\n",
      " 5   1y_camp_sum            34888 non-null  float64\n",
      " 6   2y_camp_count          34888 non-null  float64\n",
      " 7   2y_camp_sum            34888 non-null  float64\n",
      " 8   4y_camp_count          34888 non-null  float64\n",
      " 9   4y_camp_sum            34888 non-null  float64\n",
      " 10  6y_camp_count          34888 non-null  float64\n",
      " 11  6y_camp_sum            34888 non-null  float64\n",
      " 12  gift_first_year        34888 non-null  float64\n",
      " 13  gift_last_year         34888 non-null  float64\n",
      " 14  total_camp_count       34888 non-null  float64\n",
      " 15  total_camp_amt         34888 non-null  float64\n",
      " 16  total_camp_min_amt     34888 non-null  float64\n",
      " 17  total_camp_max_amt     34888 non-null  float64\n",
      " 18  total_amt_greater_30   34888 non-null  float64\n",
      " 19  total_amt_greater_60   34888 non-null  float64\n",
      " 20  total_amt_greater_100  34888 non-null  float64\n",
      " 21  zipcode                34867 non-null  float64\n",
      " 22  region                 34888 non-null  object \n",
      " 23  age                    34867 non-null  float64\n",
      " 24  Gender_M               34867 non-null  float64\n",
      " 25  Gender_F               34867 non-null  float64\n",
      " 26  Gender_Missing         34867 non-null  float64\n",
      " 27  EN                     34867 non-null  float64\n",
      " 28  FR                     34867 non-null  float64\n",
      " 29  NL                     34867 non-null  float64\n",
      " 30  Flemish Brabant        34867 non-null  float64\n",
      " 31  Antwerp                34867 non-null  float64\n",
      " 32  Brussels               34867 non-null  float64\n",
      " 33  Walloon Brabant        34867 non-null  float64\n",
      " 34  West Flanders          34867 non-null  float64\n",
      " 35  East Flanders          34867 non-null  float64\n",
      " 36  Liege                  34867 non-null  float64\n",
      " 37  Luxembourg             34867 non-null  float64\n",
      " 38  Namur                  34867 non-null  float64\n",
      " 39  Hainaut                34867 non-null  float64\n",
      " 40  Limburg                34867 non-null  float64\n",
      " 41  has_contributed        34888 non-null  int64  \n",
      "dtypes: float64(38), int64(3), object(1)\n",
      "memory usage: 11.2+ MB\n"
     ]
    }
   ],
   "source": [
    "#checking the data\n",
    "basetable_target.info()"
   ]
  },
  {
   "cell_type": "code",
   "execution_count": 567,
   "id": "0f7700ba",
   "metadata": {},
   "outputs": [
    {
     "name": "stdout",
     "output_type": "stream",
     "text": [
      "<class 'pandas.core.frame.DataFrame'>\n",
      "RangeIndex: 25645 entries, 0 to 25644\n",
      "Data columns (total 42 columns):\n",
      " #   Column                 Non-Null Count  Dtype  \n",
      "---  ------                 --------------  -----  \n",
      " 0   Unnamed: 0             25645 non-null  int64  \n",
      " 1   donorID                25645 non-null  int64  \n",
      " 2   sum                    25645 non-null  float64\n",
      " 3   count                  25645 non-null  float64\n",
      " 4   1y_camp_count          25645 non-null  float64\n",
      " 5   1y_camp_sum            25645 non-null  float64\n",
      " 6   2y_camp_count          25645 non-null  float64\n",
      " 7   2y_camp_sum            25645 non-null  float64\n",
      " 8   4y_camp_count          25645 non-null  float64\n",
      " 9   4y_camp_sum            25645 non-null  float64\n",
      " 10  6y_camp_count          25645 non-null  float64\n",
      " 11  6y_camp_sum            25645 non-null  float64\n",
      " 12  gift_first_year        25645 non-null  float64\n",
      " 13  gift_last_year         25645 non-null  float64\n",
      " 14  total_camp_count       25645 non-null  float64\n",
      " 15  total_camp_amt         25645 non-null  float64\n",
      " 16  total_camp_min_amt     25645 non-null  float64\n",
      " 17  total_camp_max_amt     25645 non-null  float64\n",
      " 18  total_amt_greater_30   25645 non-null  float64\n",
      " 19  total_amt_greater_60   25645 non-null  float64\n",
      " 20  total_amt_greater_100  25645 non-null  float64\n",
      " 21  zipcode                25643 non-null  float64\n",
      " 22  region                 25645 non-null  object \n",
      " 23  age                    25643 non-null  float64\n",
      " 24  Gender_M               25643 non-null  float64\n",
      " 25  Gender_F               25643 non-null  float64\n",
      " 26  Gender_Missing         25643 non-null  float64\n",
      " 27  EN                     25643 non-null  float64\n",
      " 28  FR                     25643 non-null  float64\n",
      " 29  NL                     25643 non-null  float64\n",
      " 30  Flemish Brabant        25643 non-null  float64\n",
      " 31  Antwerp                25643 non-null  float64\n",
      " 32  Brussels               25643 non-null  float64\n",
      " 33  Walloon Brabant        25643 non-null  float64\n",
      " 34  West Flanders          25643 non-null  float64\n",
      " 35  East Flanders          25643 non-null  float64\n",
      " 36  Liege                  25643 non-null  float64\n",
      " 37  Luxembourg             25643 non-null  float64\n",
      " 38  Namur                  25643 non-null  float64\n",
      " 39  Hainaut                25643 non-null  float64\n",
      " 40  Limburg                25643 non-null  float64\n",
      " 41  has_contributed        25645 non-null  int64  \n",
      "dtypes: float64(38), int64(3), object(1)\n",
      "memory usage: 8.2+ MB\n"
     ]
    }
   ],
   "source": [
    "#checking the data\n",
    "basetable_trait.info()"
   ]
  },
  {
   "cell_type": "markdown",
   "id": "5443d343",
   "metadata": {},
   "source": [
    "## FEATURE SELECTION"
   ]
  },
  {
   "cell_type": "code",
   "execution_count": 568,
   "id": "60f5914f",
   "metadata": {},
   "outputs": [],
   "source": [
    "#Library for modelling\n",
    "import sys\n",
    "from pandas                 import DataFrame\n",
    "from pandas                 import read_csv\n",
    "from numpy                  import array\n",
    "from numpy                  import random\n",
    "from sklearn.linear_model   import LogisticRegression\n",
    "from sklearn.tree           import DecisionTreeClassifier\n",
    "from sklearn.ensemble       import RandomForestClassifier\n",
    "from sklearn.ensemble       import GradientBoostingClassifier\n",
    "from sklearn.svm            import SVC\n",
    "from sklearn.neural_network import MLPClassifier\n",
    "from sklearn.neighbors      import KNeighborsClassifier\n",
    "from sklearn.metrics        import accuracy_score\n",
    "from sklearn.metrics        import auc\n",
    "from sklearn.metrics        import roc_auc_score\n",
    "from matplotlib             import pyplot\n",
    "from scipy.stats            import pearsonr\n",
    "from sklearn import preprocessing \n",
    "import matplotlib.pyplot as plt\n",
    "from sklearn import datasets, metrics, model_selection, svm\n",
    "from sklearn.model_selection import train_test_split\n",
    "from sklearn.metrics import confusion_matrix"
   ]
  },
  {
   "cell_type": "code",
   "execution_count": 569,
   "id": "2bbf39e4",
   "metadata": {},
   "outputs": [],
   "source": [
    "#Preprocessing before modelling\n",
    "le = preprocessing.LabelEncoder()\n",
    "basetable_target['region']  = le.fit_transform(basetable_target['region'])\n",
    "basetable_target = basetable_target.fillna(0)\n",
    "y = basetable_target['has_contributed']\n",
    "basetable_target.drop('donorID', axis=1, inplace = True)\n",
    "basetable_target.drop('Unnamed: 0', axis=1, inplace = True)\n",
    "X = basetable_target.drop('has_contributed', axis=1)"
   ]
  },
  {
   "cell_type": "code",
   "execution_count": 570,
   "id": "4900119a",
   "metadata": {},
   "outputs": [
    {
     "name": "stdout",
     "output_type": "stream",
     "text": [
      "<class 'pandas.core.frame.DataFrame'>\n",
      "RangeIndex: 34888 entries, 0 to 34887\n",
      "Data columns (total 39 columns):\n",
      " #   Column                 Non-Null Count  Dtype  \n",
      "---  ------                 --------------  -----  \n",
      " 0   sum                    34888 non-null  float64\n",
      " 1   count                  34888 non-null  float64\n",
      " 2   1y_camp_count          34888 non-null  float64\n",
      " 3   1y_camp_sum            34888 non-null  float64\n",
      " 4   2y_camp_count          34888 non-null  float64\n",
      " 5   2y_camp_sum            34888 non-null  float64\n",
      " 6   4y_camp_count          34888 non-null  float64\n",
      " 7   4y_camp_sum            34888 non-null  float64\n",
      " 8   6y_camp_count          34888 non-null  float64\n",
      " 9   6y_camp_sum            34888 non-null  float64\n",
      " 10  gift_first_year        34888 non-null  float64\n",
      " 11  gift_last_year         34888 non-null  float64\n",
      " 12  total_camp_count       34888 non-null  float64\n",
      " 13  total_camp_amt         34888 non-null  float64\n",
      " 14  total_camp_min_amt     34888 non-null  float64\n",
      " 15  total_camp_max_amt     34888 non-null  float64\n",
      " 16  total_amt_greater_30   34888 non-null  float64\n",
      " 17  total_amt_greater_60   34888 non-null  float64\n",
      " 18  total_amt_greater_100  34888 non-null  float64\n",
      " 19  zipcode                34888 non-null  float64\n",
      " 20  region                 34888 non-null  int32  \n",
      " 21  age                    34888 non-null  float64\n",
      " 22  Gender_M               34888 non-null  float64\n",
      " 23  Gender_F               34888 non-null  float64\n",
      " 24  Gender_Missing         34888 non-null  float64\n",
      " 25  EN                     34888 non-null  float64\n",
      " 26  FR                     34888 non-null  float64\n",
      " 27  NL                     34888 non-null  float64\n",
      " 28  Flemish Brabant        34888 non-null  float64\n",
      " 29  Antwerp                34888 non-null  float64\n",
      " 30  Brussels               34888 non-null  float64\n",
      " 31  Walloon Brabant        34888 non-null  float64\n",
      " 32  West Flanders          34888 non-null  float64\n",
      " 33  East Flanders          34888 non-null  float64\n",
      " 34  Liege                  34888 non-null  float64\n",
      " 35  Luxembourg             34888 non-null  float64\n",
      " 36  Namur                  34888 non-null  float64\n",
      " 37  Hainaut                34888 non-null  float64\n",
      " 38  Limburg                34888 non-null  float64\n",
      "dtypes: float64(38), int32(1)\n",
      "memory usage: 10.2 MB\n"
     ]
    }
   ],
   "source": [
    "#checking the data\n",
    "X.info()"
   ]
  },
  {
   "cell_type": "code",
   "execution_count": 571,
   "id": "82e6a2e2",
   "metadata": {},
   "outputs": [],
   "source": [
    "#correlation \n",
    "X.corr().to_csv(\"cor.sv\")"
   ]
  },
  {
   "cell_type": "code",
   "execution_count": 572,
   "id": "b4179a5c",
   "metadata": {},
   "outputs": [
    {
     "data": {
      "text/plain": [
       "pandas.core.series.Series"
      ]
     },
     "execution_count": 572,
     "metadata": {},
     "output_type": "execute_result"
    }
   ],
   "source": [
    "#data type of value\n",
    "type(y)"
   ]
  },
  {
   "cell_type": "code",
   "execution_count": 573,
   "id": "bb1fc999",
   "metadata": {},
   "outputs": [],
   "source": [
    "# Instanciate the models we want to try and create a models dictionary\n",
    "tree         = DecisionTreeClassifier()\n",
    "logistic     = LogisticRegression(solver = \"lbfgs\")\n",
    "randomForest = RandomForestClassifier(n_estimators = 25, n_jobs=-1)\n",
    "boostedTree  = GradientBoostingClassifier()\n",
    "svm          = SVC(gamma = \"scale\", probability = True)\n",
    "neuralNet    = MLPClassifier()\n",
    "neighbors    = KNeighborsClassifier()\n",
    "\n",
    "models = {\"tree\"         :tree,\n",
    "         \"logistic\"     :logistic,\n",
    "          \"randomForest\" :randomForest,\n",
    "         \"boostedTree\"  :boostedTree,\n",
    "          \"svm\"          :svm,\n",
    "          \"neuralNet\"    :neuralNet,\n",
    "#           \"neighbors\"    :neighbors\n",
    "         }"
   ]
  },
  {
   "cell_type": "code",
   "execution_count": 574,
   "id": "500bb55a",
   "metadata": {},
   "outputs": [],
   "source": [
    "#splitting data into train and test\n",
    "X_train, X_test, y_train, y_test = train_test_split(X, y, test_size=0.33, random_state=42)"
   ]
  },
  {
   "cell_type": "code",
   "execution_count": 575,
   "id": "56a7cb4d",
   "metadata": {},
   "outputs": [
    {
     "data": {
      "text/html": [
       "<div>\n",
       "<style scoped>\n",
       "    .dataframe tbody tr th:only-of-type {\n",
       "        vertical-align: middle;\n",
       "    }\n",
       "\n",
       "    .dataframe tbody tr th {\n",
       "        vertical-align: top;\n",
       "    }\n",
       "\n",
       "    .dataframe thead th {\n",
       "        text-align: right;\n",
       "    }\n",
       "</style>\n",
       "<table border=\"1\" class=\"dataframe\">\n",
       "  <thead>\n",
       "    <tr style=\"text-align: right;\">\n",
       "      <th></th>\n",
       "      <th>sum</th>\n",
       "      <th>count</th>\n",
       "      <th>1y_camp_count</th>\n",
       "      <th>1y_camp_sum</th>\n",
       "      <th>2y_camp_count</th>\n",
       "      <th>2y_camp_sum</th>\n",
       "      <th>4y_camp_count</th>\n",
       "      <th>4y_camp_sum</th>\n",
       "      <th>6y_camp_count</th>\n",
       "      <th>6y_camp_sum</th>\n",
       "      <th>...</th>\n",
       "      <th>Antwerp</th>\n",
       "      <th>Brussels</th>\n",
       "      <th>Walloon Brabant</th>\n",
       "      <th>West Flanders</th>\n",
       "      <th>East Flanders</th>\n",
       "      <th>Liege</th>\n",
       "      <th>Luxembourg</th>\n",
       "      <th>Namur</th>\n",
       "      <th>Hainaut</th>\n",
       "      <th>Limburg</th>\n",
       "    </tr>\n",
       "  </thead>\n",
       "  <tbody>\n",
       "    <tr>\n",
       "      <th>5337</th>\n",
       "      <td>239.57</td>\n",
       "      <td>10.0</td>\n",
       "      <td>0.0</td>\n",
       "      <td>0.0</td>\n",
       "      <td>0.0</td>\n",
       "      <td>0.0</td>\n",
       "      <td>3.0</td>\n",
       "      <td>110.0</td>\n",
       "      <td>7.0</td>\n",
       "      <td>129.57</td>\n",
       "      <td>...</td>\n",
       "      <td>0.0</td>\n",
       "      <td>1.0</td>\n",
       "      <td>0.0</td>\n",
       "      <td>0.0</td>\n",
       "      <td>0.0</td>\n",
       "      <td>0.0</td>\n",
       "      <td>0.0</td>\n",
       "      <td>0.0</td>\n",
       "      <td>0.0</td>\n",
       "      <td>0.0</td>\n",
       "    </tr>\n",
       "    <tr>\n",
       "      <th>9809</th>\n",
       "      <td>80.00</td>\n",
       "      <td>4.0</td>\n",
       "      <td>0.0</td>\n",
       "      <td>0.0</td>\n",
       "      <td>0.0</td>\n",
       "      <td>0.0</td>\n",
       "      <td>4.0</td>\n",
       "      <td>80.0</td>\n",
       "      <td>0.0</td>\n",
       "      <td>0.00</td>\n",
       "      <td>...</td>\n",
       "      <td>0.0</td>\n",
       "      <td>1.0</td>\n",
       "      <td>0.0</td>\n",
       "      <td>0.0</td>\n",
       "      <td>0.0</td>\n",
       "      <td>0.0</td>\n",
       "      <td>0.0</td>\n",
       "      <td>0.0</td>\n",
       "      <td>0.0</td>\n",
       "      <td>0.0</td>\n",
       "    </tr>\n",
       "    <tr>\n",
       "      <th>24075</th>\n",
       "      <td>50.00</td>\n",
       "      <td>1.0</td>\n",
       "      <td>0.0</td>\n",
       "      <td>0.0</td>\n",
       "      <td>0.0</td>\n",
       "      <td>0.0</td>\n",
       "      <td>1.0</td>\n",
       "      <td>50.0</td>\n",
       "      <td>0.0</td>\n",
       "      <td>0.00</td>\n",
       "      <td>...</td>\n",
       "      <td>0.0</td>\n",
       "      <td>0.0</td>\n",
       "      <td>1.0</td>\n",
       "      <td>0.0</td>\n",
       "      <td>0.0</td>\n",
       "      <td>0.0</td>\n",
       "      <td>0.0</td>\n",
       "      <td>0.0</td>\n",
       "      <td>0.0</td>\n",
       "      <td>0.0</td>\n",
       "    </tr>\n",
       "    <tr>\n",
       "      <th>19057</th>\n",
       "      <td>25.00</td>\n",
       "      <td>1.0</td>\n",
       "      <td>0.0</td>\n",
       "      <td>0.0</td>\n",
       "      <td>0.0</td>\n",
       "      <td>0.0</td>\n",
       "      <td>0.0</td>\n",
       "      <td>0.0</td>\n",
       "      <td>1.0</td>\n",
       "      <td>25.00</td>\n",
       "      <td>...</td>\n",
       "      <td>0.0</td>\n",
       "      <td>0.0</td>\n",
       "      <td>0.0</td>\n",
       "      <td>0.0</td>\n",
       "      <td>0.0</td>\n",
       "      <td>0.0</td>\n",
       "      <td>0.0</td>\n",
       "      <td>0.0</td>\n",
       "      <td>0.0</td>\n",
       "      <td>0.0</td>\n",
       "    </tr>\n",
       "    <tr>\n",
       "      <th>24991</th>\n",
       "      <td>40.00</td>\n",
       "      <td>4.0</td>\n",
       "      <td>0.0</td>\n",
       "      <td>0.0</td>\n",
       "      <td>0.0</td>\n",
       "      <td>0.0</td>\n",
       "      <td>2.0</td>\n",
       "      <td>15.0</td>\n",
       "      <td>2.0</td>\n",
       "      <td>25.00</td>\n",
       "      <td>...</td>\n",
       "      <td>0.0</td>\n",
       "      <td>0.0</td>\n",
       "      <td>0.0</td>\n",
       "      <td>0.0</td>\n",
       "      <td>0.0</td>\n",
       "      <td>0.0</td>\n",
       "      <td>0.0</td>\n",
       "      <td>0.0</td>\n",
       "      <td>0.0</td>\n",
       "      <td>0.0</td>\n",
       "    </tr>\n",
       "    <tr>\n",
       "      <th>...</th>\n",
       "      <td>...</td>\n",
       "      <td>...</td>\n",
       "      <td>...</td>\n",
       "      <td>...</td>\n",
       "      <td>...</td>\n",
       "      <td>...</td>\n",
       "      <td>...</td>\n",
       "      <td>...</td>\n",
       "      <td>...</td>\n",
       "      <td>...</td>\n",
       "      <td>...</td>\n",
       "      <td>...</td>\n",
       "      <td>...</td>\n",
       "      <td>...</td>\n",
       "      <td>...</td>\n",
       "      <td>...</td>\n",
       "      <td>...</td>\n",
       "      <td>...</td>\n",
       "      <td>...</td>\n",
       "      <td>...</td>\n",
       "      <td>...</td>\n",
       "    </tr>\n",
       "    <tr>\n",
       "      <th>31948</th>\n",
       "      <td>39.00</td>\n",
       "      <td>1.0</td>\n",
       "      <td>0.0</td>\n",
       "      <td>0.0</td>\n",
       "      <td>0.0</td>\n",
       "      <td>0.0</td>\n",
       "      <td>1.0</td>\n",
       "      <td>39.0</td>\n",
       "      <td>0.0</td>\n",
       "      <td>0.00</td>\n",
       "      <td>...</td>\n",
       "      <td>0.0</td>\n",
       "      <td>0.0</td>\n",
       "      <td>1.0</td>\n",
       "      <td>0.0</td>\n",
       "      <td>0.0</td>\n",
       "      <td>0.0</td>\n",
       "      <td>0.0</td>\n",
       "      <td>0.0</td>\n",
       "      <td>0.0</td>\n",
       "      <td>0.0</td>\n",
       "    </tr>\n",
       "    <tr>\n",
       "      <th>9418</th>\n",
       "      <td>280.00</td>\n",
       "      <td>5.0</td>\n",
       "      <td>0.0</td>\n",
       "      <td>0.0</td>\n",
       "      <td>0.0</td>\n",
       "      <td>0.0</td>\n",
       "      <td>3.0</td>\n",
       "      <td>180.0</td>\n",
       "      <td>2.0</td>\n",
       "      <td>100.00</td>\n",
       "      <td>...</td>\n",
       "      <td>0.0</td>\n",
       "      <td>1.0</td>\n",
       "      <td>0.0</td>\n",
       "      <td>0.0</td>\n",
       "      <td>0.0</td>\n",
       "      <td>0.0</td>\n",
       "      <td>0.0</td>\n",
       "      <td>0.0</td>\n",
       "      <td>0.0</td>\n",
       "      <td>0.0</td>\n",
       "    </tr>\n",
       "    <tr>\n",
       "      <th>18885</th>\n",
       "      <td>97.50</td>\n",
       "      <td>7.0</td>\n",
       "      <td>0.0</td>\n",
       "      <td>0.0</td>\n",
       "      <td>0.0</td>\n",
       "      <td>0.0</td>\n",
       "      <td>2.0</td>\n",
       "      <td>22.5</td>\n",
       "      <td>5.0</td>\n",
       "      <td>75.00</td>\n",
       "      <td>...</td>\n",
       "      <td>0.0</td>\n",
       "      <td>1.0</td>\n",
       "      <td>0.0</td>\n",
       "      <td>0.0</td>\n",
       "      <td>0.0</td>\n",
       "      <td>0.0</td>\n",
       "      <td>0.0</td>\n",
       "      <td>0.0</td>\n",
       "      <td>0.0</td>\n",
       "      <td>0.0</td>\n",
       "    </tr>\n",
       "    <tr>\n",
       "      <th>5290</th>\n",
       "      <td>8.68</td>\n",
       "      <td>2.0</td>\n",
       "      <td>0.0</td>\n",
       "      <td>0.0</td>\n",
       "      <td>0.0</td>\n",
       "      <td>0.0</td>\n",
       "      <td>0.0</td>\n",
       "      <td>0.0</td>\n",
       "      <td>1.0</td>\n",
       "      <td>2.48</td>\n",
       "      <td>...</td>\n",
       "      <td>0.0</td>\n",
       "      <td>1.0</td>\n",
       "      <td>0.0</td>\n",
       "      <td>0.0</td>\n",
       "      <td>0.0</td>\n",
       "      <td>0.0</td>\n",
       "      <td>0.0</td>\n",
       "      <td>0.0</td>\n",
       "      <td>0.0</td>\n",
       "      <td>0.0</td>\n",
       "    </tr>\n",
       "    <tr>\n",
       "      <th>28335</th>\n",
       "      <td>5.00</td>\n",
       "      <td>1.0</td>\n",
       "      <td>0.0</td>\n",
       "      <td>0.0</td>\n",
       "      <td>0.0</td>\n",
       "      <td>0.0</td>\n",
       "      <td>1.0</td>\n",
       "      <td>5.0</td>\n",
       "      <td>0.0</td>\n",
       "      <td>0.00</td>\n",
       "      <td>...</td>\n",
       "      <td>0.0</td>\n",
       "      <td>0.0</td>\n",
       "      <td>0.0</td>\n",
       "      <td>0.0</td>\n",
       "      <td>0.0</td>\n",
       "      <td>0.0</td>\n",
       "      <td>0.0</td>\n",
       "      <td>0.0</td>\n",
       "      <td>0.0</td>\n",
       "      <td>1.0</td>\n",
       "    </tr>\n",
       "  </tbody>\n",
       "</table>\n",
       "<p>11514 rows × 39 columns</p>\n",
       "</div>"
      ],
      "text/plain": [
       "          sum  count  1y_camp_count  1y_camp_sum  2y_camp_count  2y_camp_sum  \\\n",
       "5337   239.57   10.0            0.0          0.0            0.0          0.0   \n",
       "9809    80.00    4.0            0.0          0.0            0.0          0.0   \n",
       "24075   50.00    1.0            0.0          0.0            0.0          0.0   \n",
       "19057   25.00    1.0            0.0          0.0            0.0          0.0   \n",
       "24991   40.00    4.0            0.0          0.0            0.0          0.0   \n",
       "...       ...    ...            ...          ...            ...          ...   \n",
       "31948   39.00    1.0            0.0          0.0            0.0          0.0   \n",
       "9418   280.00    5.0            0.0          0.0            0.0          0.0   \n",
       "18885   97.50    7.0            0.0          0.0            0.0          0.0   \n",
       "5290     8.68    2.0            0.0          0.0            0.0          0.0   \n",
       "28335    5.00    1.0            0.0          0.0            0.0          0.0   \n",
       "\n",
       "       4y_camp_count  4y_camp_sum  6y_camp_count  6y_camp_sum  ...  Antwerp  \\\n",
       "5337             3.0        110.0            7.0       129.57  ...      0.0   \n",
       "9809             4.0         80.0            0.0         0.00  ...      0.0   \n",
       "24075            1.0         50.0            0.0         0.00  ...      0.0   \n",
       "19057            0.0          0.0            1.0        25.00  ...      0.0   \n",
       "24991            2.0         15.0            2.0        25.00  ...      0.0   \n",
       "...              ...          ...            ...          ...  ...      ...   \n",
       "31948            1.0         39.0            0.0         0.00  ...      0.0   \n",
       "9418             3.0        180.0            2.0       100.00  ...      0.0   \n",
       "18885            2.0         22.5            5.0        75.00  ...      0.0   \n",
       "5290             0.0          0.0            1.0         2.48  ...      0.0   \n",
       "28335            1.0          5.0            0.0         0.00  ...      0.0   \n",
       "\n",
       "       Brussels  Walloon Brabant  West Flanders  East Flanders  Liege  \\\n",
       "5337        1.0              0.0            0.0            0.0    0.0   \n",
       "9809        1.0              0.0            0.0            0.0    0.0   \n",
       "24075       0.0              1.0            0.0            0.0    0.0   \n",
       "19057       0.0              0.0            0.0            0.0    0.0   \n",
       "24991       0.0              0.0            0.0            0.0    0.0   \n",
       "...         ...              ...            ...            ...    ...   \n",
       "31948       0.0              1.0            0.0            0.0    0.0   \n",
       "9418        1.0              0.0            0.0            0.0    0.0   \n",
       "18885       1.0              0.0            0.0            0.0    0.0   \n",
       "5290        1.0              0.0            0.0            0.0    0.0   \n",
       "28335       0.0              0.0            0.0            0.0    0.0   \n",
       "\n",
       "       Luxembourg  Namur  Hainaut  Limburg  \n",
       "5337          0.0    0.0      0.0      0.0  \n",
       "9809          0.0    0.0      0.0      0.0  \n",
       "24075         0.0    0.0      0.0      0.0  \n",
       "19057         0.0    0.0      0.0      0.0  \n",
       "24991         0.0    0.0      0.0      0.0  \n",
       "...           ...    ...      ...      ...  \n",
       "31948         0.0    0.0      0.0      0.0  \n",
       "9418          0.0    0.0      0.0      0.0  \n",
       "18885         0.0    0.0      0.0      0.0  \n",
       "5290          0.0    0.0      0.0      0.0  \n",
       "28335         0.0    0.0      0.0      1.0  \n",
       "\n",
       "[11514 rows x 39 columns]"
      ]
     },
     "execution_count": 575,
     "metadata": {},
     "output_type": "execute_result"
    }
   ],
   "source": [
    "#printing out the test data\n",
    "X_test"
   ]
  },
  {
   "cell_type": "code",
   "execution_count": 576,
   "id": "47de1d1d",
   "metadata": {},
   "outputs": [
    {
     "name": "stdout",
     "output_type": "stream",
     "text": [
      "tree has been trained successfully\n",
      "logistic has been trained successfully\n",
      "randomForest has been trained successfully\n",
      "boostedTree has been trained successfully\n",
      "svm has been trained successfully\n",
      "neuralNet has been trained successfully\n"
     ]
    }
   ],
   "source": [
    "for model in models:\n",
    "    models[model].fit(X_train,y_train)\n",
    "    print(f\"{model} has been trained successfully\")\n",
    "    \n",
    "performances_train = {}\n",
    "performances_test = {}\n",
    "\n",
    "for model in models:\n",
    "    predictions   = models[model].predict(X_train)\n",
    "    probabilities = DataFrame(models[model].predict_proba(X_train))[1]\n",
    "    accuracy      = accuracy_score(y_train,predictions)\n",
    "    auc           = roc_auc_score(array(y_train),array(probabilities))\n",
    "\n",
    "    performances_train[model] = {\"Accuracy\":accuracy,\"AUC\":auc}\n",
    "\n",
    "for model in models:\n",
    "    predictions   = models[model].predict(X_test)\n",
    "    probabilities = DataFrame(models[model].predict_proba(X_test))[1]\n",
    "    accuracy      = accuracy_score(y_test,predictions)\n",
    "    auc           = roc_auc_score(array(y_test),array(probabilities))\n",
    "\n",
    "    performances_test[model] = {\"Accuracy\":accuracy,\"AUC\":auc}"
   ]
  },
  {
   "cell_type": "code",
   "execution_count": 577,
   "id": "5c6b4b91",
   "metadata": {},
   "outputs": [
    {
     "data": {
      "text/html": [
       "<div>\n",
       "<style scoped>\n",
       "    .dataframe tbody tr th:only-of-type {\n",
       "        vertical-align: middle;\n",
       "    }\n",
       "\n",
       "    .dataframe tbody tr th {\n",
       "        vertical-align: top;\n",
       "    }\n",
       "\n",
       "    .dataframe thead th {\n",
       "        text-align: right;\n",
       "    }\n",
       "</style>\n",
       "<table border=\"1\" class=\"dataframe\">\n",
       "  <thead>\n",
       "    <tr style=\"text-align: right;\">\n",
       "      <th></th>\n",
       "      <th>tree</th>\n",
       "      <th>logistic</th>\n",
       "      <th>randomForest</th>\n",
       "      <th>boostedTree</th>\n",
       "      <th>svm</th>\n",
       "      <th>neuralNet</th>\n",
       "    </tr>\n",
       "  </thead>\n",
       "  <tbody>\n",
       "    <tr>\n",
       "      <th>Accuracy</th>\n",
       "      <td>0.999829</td>\n",
       "      <td>0.978480</td>\n",
       "      <td>0.999658</td>\n",
       "      <td>0.992813</td>\n",
       "      <td>0.978566</td>\n",
       "      <td>0.978566</td>\n",
       "    </tr>\n",
       "    <tr>\n",
       "      <th>AUC</th>\n",
       "      <td>0.999999</td>\n",
       "      <td>0.684899</td>\n",
       "      <td>0.999998</td>\n",
       "      <td>0.997683</td>\n",
       "      <td>0.508700</td>\n",
       "      <td>0.526565</td>\n",
       "    </tr>\n",
       "  </tbody>\n",
       "</table>\n",
       "</div>"
      ],
      "text/plain": [
       "              tree  logistic  randomForest  boostedTree       svm  neuralNet\n",
       "Accuracy  0.999829  0.978480      0.999658     0.992813  0.978566   0.978566\n",
       "AUC       0.999999  0.684899      0.999998     0.997683  0.508700   0.526565"
      ]
     },
     "execution_count": 577,
     "metadata": {},
     "output_type": "execute_result"
    }
   ],
   "source": [
    "#Printing performance accuracy\n",
    "DataFrame(performances_train)"
   ]
  },
  {
   "cell_type": "code",
   "execution_count": 578,
   "id": "80c67a36",
   "metadata": {},
   "outputs": [
    {
     "data": {
      "text/html": [
       "<div>\n",
       "<style scoped>\n",
       "    .dataframe tbody tr th:only-of-type {\n",
       "        vertical-align: middle;\n",
       "    }\n",
       "\n",
       "    .dataframe tbody tr th {\n",
       "        vertical-align: top;\n",
       "    }\n",
       "\n",
       "    .dataframe thead th {\n",
       "        text-align: right;\n",
       "    }\n",
       "</style>\n",
       "<table border=\"1\" class=\"dataframe\">\n",
       "  <thead>\n",
       "    <tr style=\"text-align: right;\">\n",
       "      <th></th>\n",
       "      <th>tree</th>\n",
       "      <th>logistic</th>\n",
       "      <th>randomForest</th>\n",
       "      <th>boostedTree</th>\n",
       "      <th>svm</th>\n",
       "      <th>neuralNet</th>\n",
       "    </tr>\n",
       "  </thead>\n",
       "  <tbody>\n",
       "    <tr>\n",
       "      <th>Accuracy</th>\n",
       "      <td>0.988188</td>\n",
       "      <td>0.979069</td>\n",
       "      <td>0.989578</td>\n",
       "      <td>0.991228</td>\n",
       "      <td>0.979243</td>\n",
       "      <td>0.979243</td>\n",
       "    </tr>\n",
       "    <tr>\n",
       "      <th>AUC</th>\n",
       "      <td>0.844469</td>\n",
       "      <td>0.667120</td>\n",
       "      <td>0.989525</td>\n",
       "      <td>0.996907</td>\n",
       "      <td>0.532574</td>\n",
       "      <td>0.532087</td>\n",
       "    </tr>\n",
       "  </tbody>\n",
       "</table>\n",
       "</div>"
      ],
      "text/plain": [
       "              tree  logistic  randomForest  boostedTree       svm  neuralNet\n",
       "Accuracy  0.988188  0.979069      0.989578     0.991228  0.979243   0.979243\n",
       "AUC       0.844469  0.667120      0.989525     0.996907  0.532574   0.532087"
      ]
     },
     "execution_count": 578,
     "metadata": {},
     "output_type": "execute_result"
    }
   ],
   "source": [
    "#printing out performance accuracy\n",
    "DataFrame(performances_test)"
   ]
  },
  {
   "cell_type": "code",
   "execution_count": 579,
   "id": "e93ee4b3",
   "metadata": {},
   "outputs": [],
   "source": [
    "#preprocessing step before feauture selection\n",
    "le = preprocessing.LabelEncoder()\n",
    "basetable_trait['region']  = le.fit_transform(basetable_trait['region'])\n",
    "basetable_trait = basetable_trait.fillna(0)\n",
    "y_7244 = basetable_trait['has_contributed']\n",
    "basetable_trait.drop('donorID', axis=1, inplace = True)\n",
    "basetable_trait.drop('Unnamed: 0', axis=1, inplace = True)\n",
    "X_7244 = basetable_trait.drop('has_contributed', axis=1)"
   ]
  },
  {
   "cell_type": "code",
   "execution_count": 580,
   "id": "685f3e7a",
   "metadata": {},
   "outputs": [],
   "source": [
    "#choosing model\n",
    "y_pred_7244 = models['logistic'].predict(X_7244)"
   ]
  },
  {
   "cell_type": "code",
   "execution_count": 581,
   "id": "cd3125a1",
   "metadata": {},
   "outputs": [
    {
     "data": {
      "text/plain": [
       "array([0, 0, 0, ..., 0, 0, 0], dtype=int64)"
      ]
     },
     "execution_count": 581,
     "metadata": {},
     "output_type": "execute_result"
    }
   ],
   "source": [
    "y_pred_7244"
   ]
  },
  {
   "cell_type": "code",
   "execution_count": 582,
   "id": "37868f9b",
   "metadata": {},
   "outputs": [
    {
     "data": {
      "text/plain": [
       "0.5408823208251671"
      ]
     },
     "execution_count": 582,
     "metadata": {},
     "output_type": "execute_result"
    }
   ],
   "source": [
    "#printing roc\n",
    "roc_auc_score(y_7244,models['logistic'].predict_proba(X_7244)[:, 1])"
   ]
  },
  {
   "cell_type": "code",
   "execution_count": 583,
   "id": "392588cf",
   "metadata": {},
   "outputs": [
    {
     "data": {
      "text/plain": [
       "array([[25433,     1],\n",
       "       [  211,     0]], dtype=int64)"
      ]
     },
     "execution_count": 583,
     "metadata": {},
     "output_type": "execute_result"
    }
   ],
   "source": [
    "#confusion matrix\n",
    "confusion_matrix(y_7244, y_pred_7244)"
   ]
  },
  {
   "cell_type": "code",
   "execution_count": 584,
   "id": "d93a908a",
   "metadata": {},
   "outputs": [
    {
     "name": "stdout",
     "output_type": "stream",
     "text": [
      "sum - p-vlue = 0.8873006320819409 - selected : 0\n",
      "count - p-vlue = 0.3197696396771802 - selected : 0\n",
      "1y_camp_count - p-vlue = 0.9828024173208608 - selected : 0\n",
      "1y_camp_sum - p-vlue = 0.3327974832983973 - selected : 0\n",
      "2y_camp_count - p-vlue = 0.46463961184706914 - selected : 0\n",
      "2y_camp_sum - p-vlue = 0.0033251477229374925 - selected : 0\n",
      "4y_camp_count - p-vlue = 0.011350960212660846 - selected : 0\n",
      "4y_camp_sum - p-vlue = 1.462610041587624e-14 - selected : 1\n",
      "6y_camp_count - p-vlue = 0.810341873251736 - selected : 0\n",
      "6y_camp_sum - p-vlue = 0.8616765684038361 - selected : 0\n",
      "gift_first_year - p-vlue = 0.4050753720244711 - selected : 0\n",
      "gift_last_year - p-vlue = 5.457136260079574e-07 - selected : 1\n",
      "total_camp_count - p-vlue = 0.3197696396771802 - selected : 0\n",
      "total_camp_amt - p-vlue = 0.8873006320819409 - selected : 0\n",
      "total_camp_min_amt - p-vlue = 0.8956617335072161 - selected : 0\n",
      "total_camp_max_amt - p-vlue = 0.8479728345544097 - selected : 0\n",
      "total_amt_greater_30 - p-vlue = 6.181872503945524e-141 - selected : 1\n",
      "total_amt_greater_60 - p-vlue = 1.4270186667148116e-29 - selected : 1\n",
      "total_amt_greater_100 - p-vlue = 0.5778969826563234 - selected : 0\n",
      "zipcode - p-vlue = 0.5742788027571929 - selected : 0\n",
      "region - p-vlue = 0.3630590773524068 - selected : 0\n",
      "age - p-vlue = 7.365518638753781e-67 - selected : 1\n",
      "Gender_M - p-vlue = 2.489751766191903e-76 - selected : 1\n",
      "Gender_F - p-vlue = 4.543549391701946e-80 - selected : 1\n",
      "Gender_Missing - p-vlue = 0.5102142196574342 - selected : 0\n",
      "EN - p-vlue = 0.7987426055981885 - selected : 0\n",
      "FR - p-vlue = 0.004431019514057509 - selected : 0\n",
      "NL - p-vlue = 0.04804063377111622 - selected : 0\n",
      "Flemish Brabant - p-vlue = 0.9943499818008708 - selected : 0\n",
      "Antwerp - p-vlue = 0.1094431185480325 - selected : 0\n",
      "Brussels - p-vlue = 0.8117938983059163 - selected : 0\n",
      "Walloon Brabant - p-vlue = 0.2890895008027344 - selected : 0\n",
      "West Flanders - p-vlue = 0.04479896222433608 - selected : 0\n",
      "East Flanders - p-vlue = 0.9888273714594966 - selected : 0\n",
      "Liege - p-vlue = 0.17799401344195856 - selected : 0\n",
      "Luxembourg - p-vlue = 0.9336970044691232 - selected : 0\n",
      "Namur - p-vlue = 0.3927880958318937 - selected : 0\n",
      "Hainaut - p-vlue = 0.04072050016238224 - selected : 0\n",
      "Limburg - p-vlue = 0.24323790583459023 - selected : 0\n"
     ]
    }
   ],
   "source": [
    "#Feature selection using Pearson \n",
    "selectedFeatures_pearson = []\n",
    "target = \"has_contributed\"\n",
    "\n",
    "for column in X.columns:\n",
    "    if column not in (\"donorID\",\"has_contributed\"):\n",
    "        (pearson,pvalue) = pearsonr(X[column],y)\n",
    "        print(f\"{column} - p-vlue = {pvalue} - selected : {1 if pvalue < 0.001 else 0}\")\n",
    "        if pvalue < 0.001:\n",
    "            selectedFeatures_pearson.append(column)"
   ]
  },
  {
   "cell_type": "code",
   "execution_count": 585,
   "id": "54950852",
   "metadata": {},
   "outputs": [
    {
     "data": {
      "text/plain": [
       "['4y_camp_sum',\n",
       " 'gift_last_year',\n",
       " 'total_amt_greater_30',\n",
       " 'total_amt_greater_60',\n",
       " 'age',\n",
       " 'Gender_M',\n",
       " 'Gender_F']"
      ]
     },
     "execution_count": 585,
     "metadata": {},
     "output_type": "execute_result"
    }
   ],
   "source": [
    "#printing out selected features\n",
    "selectedFeatures_pearson"
   ]
  },
  {
   "cell_type": "code",
   "execution_count": 586,
   "id": "324d119a",
   "metadata": {},
   "outputs": [],
   "source": [
    "#splitting into test and train\n",
    "X_train, X_test, y_train, y_test = train_test_split(X[selectedFeatures_pearson], y, test_size=0.33, random_state=42)"
   ]
  },
  {
   "cell_type": "code",
   "execution_count": 587,
   "id": "f841dc07",
   "metadata": {},
   "outputs": [],
   "source": [
    "# Instanciate the models we want to try and create a models dictionary\n",
    "tree         = DecisionTreeClassifier()\n",
    "logistic     = LogisticRegression(solver = \"lbfgs\")\n",
    "randomForest = RandomForestClassifier(n_estimators = 25, n_jobs=-1)\n",
    "boostedTree  = GradientBoostingClassifier()\n",
    "svm          = SVC(gamma = \"scale\", probability = True)\n",
    "neuralNet    = MLPClassifier()\n",
    "neighbors    = KNeighborsClassifier()\n",
    "\n",
    "models = {\"tree\"         :tree,\n",
    "         \"logistic\"     :logistic,\n",
    "          \"randomForest\" :randomForest,\n",
    "         \"boostedTree\"  :boostedTree,\n",
    "          \"svm\"          :svm,\n",
    "          \"neuralNet\"    :neuralNet,\n",
    "#           \"neighbors\"    :neighbors\n",
    "         }"
   ]
  },
  {
   "cell_type": "code",
   "execution_count": 588,
   "id": "df51bc8d",
   "metadata": {},
   "outputs": [
    {
     "name": "stdout",
     "output_type": "stream",
     "text": [
      "tree has been trained successfully\n",
      "logistic has been trained successfully\n",
      "randomForest has been trained successfully\n",
      "boostedTree has been trained successfully\n",
      "svm has been trained successfully\n",
      "neuralNet has been trained successfully\n"
     ]
    }
   ],
   "source": [
    "#running models in loop\n",
    "for model in models:\n",
    "    models[model].fit(X_train,y_train)\n",
    "    print(f\"{model} has been trained successfully\")\n",
    "    \n",
    "performances_train = {}\n",
    "performances_test = {}\n",
    "\n",
    "for model in models:\n",
    "    predictions   = models[model].predict(X_train)\n",
    "    probabilities = DataFrame(models[model].predict_proba(X_train))[1]\n",
    "    accuracy      = accuracy_score(y_train,predictions)\n",
    "    auc           = roc_auc_score(array(y_train),array(probabilities))\n",
    "\n",
    "    performances_train[model] = {\"Accuracy\":accuracy,\"AUC\":auc}\n",
    "\n",
    "for model in models:\n",
    "    predictions   = models[model].predict(X_test)\n",
    "    probabilities = DataFrame(models[model].predict_proba(X_test))[1]\n",
    "    accuracy      = accuracy_score(y_test,predictions)\n",
    "    auc           = roc_auc_score(array(y_test),array(probabilities))\n",
    "\n",
    "    performances_test[model] = {\"Accuracy\":accuracy,\"AUC\":auc}"
   ]
  },
  {
   "cell_type": "code",
   "execution_count": 589,
   "id": "4bafa5f3",
   "metadata": {},
   "outputs": [
    {
     "data": {
      "text/html": [
       "<div>\n",
       "<style scoped>\n",
       "    .dataframe tbody tr th:only-of-type {\n",
       "        vertical-align: middle;\n",
       "    }\n",
       "\n",
       "    .dataframe tbody tr th {\n",
       "        vertical-align: top;\n",
       "    }\n",
       "\n",
       "    .dataframe thead th {\n",
       "        text-align: right;\n",
       "    }\n",
       "</style>\n",
       "<table border=\"1\" class=\"dataframe\">\n",
       "  <thead>\n",
       "    <tr style=\"text-align: right;\">\n",
       "      <th></th>\n",
       "      <th>tree</th>\n",
       "      <th>logistic</th>\n",
       "      <th>randomForest</th>\n",
       "      <th>boostedTree</th>\n",
       "      <th>svm</th>\n",
       "      <th>neuralNet</th>\n",
       "    </tr>\n",
       "  </thead>\n",
       "  <tbody>\n",
       "    <tr>\n",
       "      <th>Accuracy</th>\n",
       "      <td>0.996920</td>\n",
       "      <td>0.978566</td>\n",
       "      <td>0.996535</td>\n",
       "      <td>0.986352</td>\n",
       "      <td>0.978566</td>\n",
       "      <td>0.978566</td>\n",
       "    </tr>\n",
       "    <tr>\n",
       "      <th>AUC</th>\n",
       "      <td>0.999714</td>\n",
       "      <td>0.820735</td>\n",
       "      <td>0.999428</td>\n",
       "      <td>0.992769</td>\n",
       "      <td>0.772980</td>\n",
       "      <td>0.809100</td>\n",
       "    </tr>\n",
       "  </tbody>\n",
       "</table>\n",
       "</div>"
      ],
      "text/plain": [
       "              tree  logistic  randomForest  boostedTree       svm  neuralNet\n",
       "Accuracy  0.996920  0.978566      0.996535     0.986352  0.978566   0.978566\n",
       "AUC       0.999714  0.820735      0.999428     0.992769  0.772980   0.809100"
      ]
     },
     "execution_count": 589,
     "metadata": {},
     "output_type": "execute_result"
    }
   ],
   "source": [
    "#printing performance accuracy\n",
    "DataFrame(performances_train)"
   ]
  },
  {
   "cell_type": "code",
   "execution_count": 590,
   "id": "4268dbb0",
   "metadata": {},
   "outputs": [
    {
     "data": {
      "text/html": [
       "<div>\n",
       "<style scoped>\n",
       "    .dataframe tbody tr th:only-of-type {\n",
       "        vertical-align: middle;\n",
       "    }\n",
       "\n",
       "    .dataframe tbody tr th {\n",
       "        vertical-align: top;\n",
       "    }\n",
       "\n",
       "    .dataframe thead th {\n",
       "        text-align: right;\n",
       "    }\n",
       "</style>\n",
       "<table border=\"1\" class=\"dataframe\">\n",
       "  <thead>\n",
       "    <tr style=\"text-align: right;\">\n",
       "      <th></th>\n",
       "      <th>tree</th>\n",
       "      <th>logistic</th>\n",
       "      <th>randomForest</th>\n",
       "      <th>boostedTree</th>\n",
       "      <th>svm</th>\n",
       "      <th>neuralNet</th>\n",
       "    </tr>\n",
       "  </thead>\n",
       "  <tbody>\n",
       "    <tr>\n",
       "      <th>Accuracy</th>\n",
       "      <td>0.979503</td>\n",
       "      <td>0.979243</td>\n",
       "      <td>0.981848</td>\n",
       "      <td>0.98567</td>\n",
       "      <td>0.979243</td>\n",
       "      <td>0.979243</td>\n",
       "    </tr>\n",
       "    <tr>\n",
       "      <th>AUC</th>\n",
       "      <td>0.775836</td>\n",
       "      <td>0.828251</td>\n",
       "      <td>0.956333</td>\n",
       "      <td>0.99178</td>\n",
       "      <td>0.783808</td>\n",
       "      <td>0.804618</td>\n",
       "    </tr>\n",
       "  </tbody>\n",
       "</table>\n",
       "</div>"
      ],
      "text/plain": [
       "              tree  logistic  randomForest  boostedTree       svm  neuralNet\n",
       "Accuracy  0.979503  0.979243      0.981848      0.98567  0.979243   0.979243\n",
       "AUC       0.775836  0.828251      0.956333      0.99178  0.783808   0.804618"
      ]
     },
     "execution_count": 590,
     "metadata": {},
     "output_type": "execute_result"
    }
   ],
   "source": [
    "#printing performance accuracy\n",
    "DataFrame(performances_test)"
   ]
  },
  {
   "cell_type": "code",
   "execution_count": 591,
   "id": "e4eecd0a",
   "metadata": {},
   "outputs": [],
   "source": [
    "y_pred_7244_selected_features = models['logistic'].predict_proba(X_7244[selectedFeatures_pearson])"
   ]
  },
  {
   "cell_type": "code",
   "execution_count": 592,
   "id": "9f9cda81",
   "metadata": {},
   "outputs": [
    {
     "data": {
      "text/plain": [
       "25645.0"
      ]
     },
     "execution_count": 592,
     "metadata": {},
     "output_type": "execute_result"
    }
   ],
   "source": [
    "y_pred_7244_selected_features.sum()"
   ]
  },
  {
   "cell_type": "code",
   "execution_count": 593,
   "id": "7b2319a6",
   "metadata": {},
   "outputs": [],
   "source": [
    "pred = np.where(pd.DataFrame(y_pred_7244_selected_features)[1]>.3, 1, 0)"
   ]
  },
  {
   "cell_type": "code",
   "execution_count": 594,
   "id": "9169cc63",
   "metadata": {},
   "outputs": [
    {
     "data": {
      "text/plain": [
       "array([[25410,    24],\n",
       "       [  210,     1]], dtype=int64)"
      ]
     },
     "execution_count": 594,
     "metadata": {},
     "output_type": "execute_result"
    }
   ],
   "source": [
    "confusion_matrix(y_7244, pred)"
   ]
  },
  {
   "cell_type": "code",
   "execution_count": 595,
   "id": "f831194a",
   "metadata": {},
   "outputs": [
    {
     "data": {
      "text/plain": [
       "<sklearn.metrics._plot.roc_curve.RocCurveDisplay at 0x202bdef7eb0>"
      ]
     },
     "execution_count": 595,
     "metadata": {},
     "output_type": "execute_result"
    },
    {
     "data": {
      "image/png": "[encoded data removed]",
      "text/plain": [
       "<Figure size 432x288 with 1 Axes>"
      ]
     },
     "metadata": {
      "needs_background": "light"
     },
     "output_type": "display_data"
    }
   ],
   "source": [
    "from sklearn import metrics\n",
    "metrics.plot_roc_curve(logistic, X_test, y_test) "
   ]
  },
  {
   "cell_type": "code",
   "execution_count": 596,
   "id": "eecb36b5",
   "metadata": {},
   "outputs": [],
   "source": [
    "#pip install kds"
   ]
  },
  {
   "cell_type": "code",
   "execution_count": 597,
   "id": "4c79d459",
   "metadata": {},
   "outputs": [
    {
     "name": "stdout",
     "output_type": "stream",
     "text": [
      "LABELS INFO:\n",
      "\n",
      " prob_min         : Minimum probability in a particular decile\n",
      " prob_max         : Minimum probability in a particular decile\n",
      " prob_avg         : Average probability in a particular decile\n",
      " cnt_events       : Count of events in a particular decile\n",
      " cnt_resp         : Count of responders in a particular decile\n",
      " cnt_non_resp     : Count of non-responders in a particular decile\n",
      " cnt_resp_rndm    : Count of responders if events assigned randomly in a particular decile\n",
      " cnt_resp_wiz     : Count of best possible responders in a particular decile\n",
      " resp_rate        : Response Rate in a particular decile [(cnt_resp/cnt_cust)*100]\n",
      " cum_events       : Cumulative sum of events decile-wise \n",
      " cum_resp         : Cumulative sum of responders decile-wise \n",
      " cum_resp_wiz     : Cumulative sum of best possible responders decile-wise \n",
      " cum_non_resp     : Cumulative sum of non-responders decile-wise \n",
      " cum_events_pct   : Cumulative sum of percentages of events decile-wise \n",
      " cum_resp_pct     : Cumulative sum of percentages of responders decile-wise \n",
      " cum_resp_pct_wiz : Cumulative sum of percentages of best possible responders decile-wise \n",
      " cum_non_resp_pct : Cumulative sum of percentages of non-responders decile-wise \n",
      " KS               : KS Statistic decile-wise \n",
      " lift             : Cumuative Lift Value decile-wise\n"
     ]
    }
   ],
   "source": [
    "#using model for prediction\n",
    "import kds\n",
    "\n",
    "y_prob = logistic.predict_proba(X_7244[selectedFeatures_pearson])\n",
    "\n",
    "metrics = kds.metrics.decile_table(y_7244, y_prob[:,1])\n",
    "\n",
    "metrics.to_csv(r'./metrics1.csv')"
   ]
  },
  {
   "cell_type": "code",
   "execution_count": 598,
   "id": "1dace80d",
   "metadata": {},
   "outputs": [],
   "source": [
    "#libraries\n",
    "import matplotlib.pyplot as plt\n",
    "import scikitplot as skplt"
   ]
  },
  {
   "cell_type": "code",
   "execution_count": 599,
   "id": "76df48d5",
   "metadata": {},
   "outputs": [
    {
     "data": {
      "image/png": "[encoded data removed]",
      "text/plain": [
       "<Figure size 432x288 with 1 Axes>"
      ]
     },
     "metadata": {
      "needs_background": "light"
     },
     "output_type": "display_data"
    }
   ],
   "source": [
    "#plotting cumulative gain\n",
    "skplt.metrics.plot_cumulative_gain(y_7244, y_prob)\n",
    "plt.show()"
   ]
  },
  {
   "cell_type": "code",
   "execution_count": 600,
   "id": "32be6002",
   "metadata": {},
   "outputs": [
    {
     "data": {
      "text/plain": [
       "<sklearn.metrics._plot.roc_curve.RocCurveDisplay at 0x202bad42a60>"
      ]
     },
     "execution_count": 600,
     "metadata": {},
     "output_type": "execute_result"
    },
    {
     "data": {
      "image/png": "[encoded data removed]",
      "text/plain": [
       "<Figure size 432x288 with 1 Axes>"
      ]
     },
     "metadata": {
      "needs_background": "light"
     },
     "output_type": "display_data"
    }
   ],
   "source": [
    "#plotting roc\n",
    "from sklearn import metrics\n",
    "metrics.plot_roc_curve(logistic, X_test, y_test)"
   ]
  },
  {
   "cell_type": "code",
   "execution_count": 601,
   "id": "e08980f6",
   "metadata": {},
   "outputs": [
    {
     "data": {
      "text/plain": [
       "<sklearn.metrics._plot.roc_curve.RocCurveDisplay at 0x202bad18670>"
      ]
     },
     "execution_count": 601,
     "metadata": {},
     "output_type": "execute_result"
    },
    {
     "data": {
      "image/png": "[encoded data removed]",
      "text/plain": [
       "<Figure size 432x288 with 1 Axes>"
      ]
     },
     "metadata": {
      "needs_background": "light"
     },
     "output_type": "display_data"
    }
   ],
   "source": [
    "metrics.plot_roc_curve(logistic, X_7244[selectedFeatures_pearson], y_7244)"
   ]
  },
  {
   "cell_type": "code",
   "execution_count": 602,
   "id": "d8b11278",
   "metadata": {},
   "outputs": [],
   "source": [
    "lifts     = {}\n",
    "responses = {}\n",
    "gains     = {}\n",
    "data      = DataFrame(y_7244).copy() \n",
    "\n",
    "for (index,model) in enumerate(models):\n",
    "    data[f\"proba {model}\"] = DataFrame(models[model].predict_proba(X_7244[selectedFeatures_pearson]))[1]\n",
    "    lifts[model] = lift(dataSet = data, actuals = \"has_contributed\", probability = \"proba \"+str(model))\n",
    "    responses[model] = cumulativeResponse(dataSet = data, actuals = \"has_contributed\", probability = \"proba \"+str(model))\n",
    "    gains[model] = cumulativeGains(dataSet = data, actuals = \"has_contributed\", probability = \"proba \"+str(model))"
   ]
  },
  {
   "cell_type": "code",
   "execution_count": 603,
   "id": "6395c86b",
   "metadata": {},
   "outputs": [
    {
     "data": {
      "text/plain": [
       "Text(0.5, 1.0, 'Lift')"
      ]
     },
     "execution_count": 603,
     "metadata": {},
     "output_type": "execute_result"
    },
    {
     "data": {
      "image/png": "[encoded data removed]",
      "text/plain": [
       "<Figure size 432x288 with 1 Axes>"
      ]
     },
     "metadata": {
      "needs_background": "light"
     },
     "output_type": "display_data"
    }
   ],
   "source": [
    "# Plotting the lift and quantile\n",
    "pyplot.plot(lifts[model][\"Quantile\"], lifts[model][\"Lift\"])\n",
    "pyplot.gca().invert_xaxis()\n",
    "pyplot.xlabel(\"Quantile\")\n",
    "pyplot.ylabel(\"lift\")\n",
    "pyplot.title(\"Lift\")"
   ]
  },
  {
   "cell_type": "code",
   "execution_count": 604,
   "id": "7261de1e",
   "metadata": {},
   "outputs": [
    {
     "data": {
      "text/plain": [
       "<Figure size 1440x2160 with 0 Axes>"
      ]
     },
     "execution_count": 604,
     "metadata": {},
     "output_type": "execute_result"
    },
    {
     "data": {
      "image/png": "[encoded data removed]",
      "text/plain": [
       "<Figure size 432x288 with 1 Axes>"
      ]
     },
     "metadata": {
      "needs_background": "light"
     },
     "output_type": "display_data"
    },
    {
     "data": {
      "text/plain": [
       "<Figure size 1440x2160 with 0 Axes>"
      ]
     },
     "metadata": {},
     "output_type": "display_data"
    }
   ],
   "source": [
    "for model in models:\n",
    "    plt.plot(lifts[model][\"Quantile\"], lifts[model][\"Lift\"])\n",
    "    plt.gca().invert_xaxis()\n",
    "    plt.xlabel(\"Quantile\")\n",
    "    plt.ylabel(\"lift\")\n",
    "    plt.title(\"Lift\")\n",
    "    plt.legend(lifts[model])\n",
    "    plt.legend(lifts.keys())\n",
    "plt.figure(figsize=(20,30))"
   ]
  },
  {
   "cell_type": "markdown",
   "id": "ae404e4b",
   "metadata": {},
   "source": [
    "# NEW CAMPAIGN"
   ]
  },
  {
   "cell_type": "code",
   "execution_count": 605,
   "id": "d04eff4b",
   "metadata": {},
   "outputs": [
    {
     "data": {
      "text/html": [
       "<div>\n",
       "<style scoped>\n",
       "    .dataframe tbody tr th:only-of-type {\n",
       "        vertical-align: middle;\n",
       "    }\n",
       "\n",
       "    .dataframe tbody tr th {\n",
       "        vertical-align: top;\n",
       "    }\n",
       "\n",
       "    .dataframe thead th {\n",
       "        text-align: right;\n",
       "    }\n",
       "</style>\n",
       "<table border=\"1\" class=\"dataframe\">\n",
       "  <thead>\n",
       "    <tr style=\"text-align: right;\">\n",
       "      <th></th>\n",
       "      <th>donorID</th>\n",
       "    </tr>\n",
       "  </thead>\n",
       "  <tbody>\n",
       "    <tr>\n",
       "      <th>0</th>\n",
       "      <td>134242</td>\n",
       "    </tr>\n",
       "    <tr>\n",
       "      <th>1</th>\n",
       "      <td>126503</td>\n",
       "    </tr>\n",
       "    <tr>\n",
       "      <th>2</th>\n",
       "      <td>104392</td>\n",
       "    </tr>\n",
       "    <tr>\n",
       "      <th>3</th>\n",
       "      <td>105905</td>\n",
       "    </tr>\n",
       "    <tr>\n",
       "      <th>4</th>\n",
       "      <td>120506</td>\n",
       "    </tr>\n",
       "  </tbody>\n",
       "</table>\n",
       "</div>"
      ],
      "text/plain": [
       "   donorID\n",
       "0   134242\n",
       "1   126503\n",
       "2   104392\n",
       "3   105905\n",
       "4   120506"
      ]
     },
     "execution_count": 605,
     "metadata": {},
     "output_type": "execute_result"
    }
   ],
   "source": [
    "#reading in the data\n",
    "selection  = pd.read_csv('../dsc_data/new_campaign_selection.csv', sep=',')\n",
    "selection.head()"
   ]
  },
  {
   "cell_type": "code",
   "execution_count": 606,
   "id": "c2b50f52",
   "metadata": {},
   "outputs": [
    {
     "data": {
      "text/plain": [
       "26522"
      ]
     },
     "execution_count": 606,
     "metadata": {},
     "output_type": "execute_result"
    }
   ],
   "source": [
    "len(selection)"
   ]
  },
  {
   "cell_type": "code",
   "execution_count": 607,
   "id": "d76013ac",
   "metadata": {},
   "outputs": [
    {
     "data": {
      "text/plain": [
       "216594"
      ]
     },
     "execution_count": 607,
     "metadata": {},
     "output_type": "execute_result"
    }
   ],
   "source": [
    "#selecting the date : 15th December 2020\n",
    "start = datetime.datetime(year=2020, month=12, day=15)\n",
    "\n",
    "gifts_new = gifts[(gifts[\"date\"] < start)]\n",
    "\n",
    "len(gifts_new)"
   ]
  },
  {
   "cell_type": "code",
   "execution_count": 608,
   "id": "53463c96",
   "metadata": {},
   "outputs": [
    {
     "data": {
      "text/html": [
       "<div>\n",
       "<style scoped>\n",
       "    .dataframe tbody tr th:only-of-type {\n",
       "        vertical-align: middle;\n",
       "    }\n",
       "\n",
       "    .dataframe tbody tr th {\n",
       "        vertical-align: top;\n",
       "    }\n",
       "\n",
       "    .dataframe thead th {\n",
       "        text-align: right;\n",
       "    }\n",
       "</style>\n",
       "<table border=\"1\" class=\"dataframe\">\n",
       "  <thead>\n",
       "    <tr style=\"text-align: right;\">\n",
       "      <th></th>\n",
       "      <th>donorID</th>\n",
       "      <th>sum</th>\n",
       "      <th>count</th>\n",
       "    </tr>\n",
       "  </thead>\n",
       "  <tbody>\n",
       "    <tr>\n",
       "      <th>0</th>\n",
       "      <td>100001</td>\n",
       "      <td>178.49</td>\n",
       "      <td>12</td>\n",
       "    </tr>\n",
       "    <tr>\n",
       "      <th>1</th>\n",
       "      <td>100002</td>\n",
       "      <td>20.00</td>\n",
       "      <td>1</td>\n",
       "    </tr>\n",
       "    <tr>\n",
       "      <th>2</th>\n",
       "      <td>100003</td>\n",
       "      <td>46.00</td>\n",
       "      <td>12</td>\n",
       "    </tr>\n",
       "    <tr>\n",
       "      <th>3</th>\n",
       "      <td>100004</td>\n",
       "      <td>716.22</td>\n",
       "      <td>26</td>\n",
       "    </tr>\n",
       "    <tr>\n",
       "      <th>4</th>\n",
       "      <td>100005</td>\n",
       "      <td>24.96</td>\n",
       "      <td>5</td>\n",
       "    </tr>\n",
       "  </tbody>\n",
       "</table>\n",
       "</div>"
      ],
      "text/plain": [
       "   donorID     sum  count\n",
       "0   100001  178.49     12\n",
       "1   100002   20.00      1\n",
       "2   100003   46.00     12\n",
       "3   100004  716.22     26\n",
       "4   100005   24.96      5"
      ]
     },
     "execution_count": 608,
     "metadata": {},
     "output_type": "execute_result"
    }
   ],
   "source": [
    "basetable_final = gifts_new.groupby([\"donorID\"])[\"amount\"].agg(['sum', 'count']).reset_index()\n",
    "basetable_final.head()"
   ]
  },
  {
   "cell_type": "code",
   "execution_count": 609,
   "id": "24da560b",
   "metadata": {},
   "outputs": [],
   "source": [
    "#Setting the timeline for amount donated in the last one year\n",
    "end_target =  datetime.datetime(year= 2020, month = 12, day = 15)\n",
    "start_target =  datetime.datetime(year= 2019, month = 12, day = 15)\n",
    "\n",
    "#Calculating the amount donated in the last two years\n",
    "gifts_1y = gifts_new[(gifts_new['date'] <= end_target) & (gifts_new[\"date\"] >= start_target)]\n",
    "\n",
    "# Group and sum donations by donor\n",
    "gifts_1y_camp = gifts_1y.groupby(\"donorID\")['amount'].agg(['count', 'sum']).reset_index()\n",
    "gifts_1y_camp.columns = [\"donorID\", \"1y_camp_count\", \"1y_camp_sum\"]"
   ]
  },
  {
   "cell_type": "code",
   "execution_count": 610,
   "id": "1fd19e6f",
   "metadata": {},
   "outputs": [
    {
     "name": "stdout",
     "output_type": "stream",
     "text": [
      "<class 'pandas.core.frame.DataFrame'>\n",
      "Int64Index: 44700 entries, 0 to 44699\n",
      "Data columns (total 5 columns):\n",
      " #   Column         Non-Null Count  Dtype  \n",
      "---  ------         --------------  -----  \n",
      " 0   donorID        44700 non-null  int64  \n",
      " 1   sum            44700 non-null  float64\n",
      " 2   count          44700 non-null  int64  \n",
      " 3   1y_camp_count  126 non-null    float64\n",
      " 4   1y_camp_sum    126 non-null    float64\n",
      "dtypes: float64(3), int64(2)\n",
      "memory usage: 2.0 MB\n"
     ]
    }
   ],
   "source": [
    "#Merging gifts_1y to basetable_final\n",
    "basetable_final = basetable_final.merge(gifts_1y_camp, left_on = 'donorID', right_on = 'donorID', how='left')\n",
    "basetable_final.info()"
   ]
  },
  {
   "cell_type": "code",
   "execution_count": 611,
   "id": "7ba97e75",
   "metadata": {},
   "outputs": [],
   "source": [
    "#Setting the timeline for amount donated in the last two years\n",
    "end_target =  datetime.datetime(year= 2019, month = 12, day = 15)\n",
    "start_target =  datetime.datetime(year= 2017, month = 12, day = 15)\n",
    "\n",
    "#Calculating the amount donated in the last two years\n",
    "gifts_2y = gifts_new[(gifts_new['date'] <= end_target) & (gifts_new[\"date\"] >= start_target)]\n",
    "\n",
    "# Group and sum donations by donor\n",
    "gifts_2y_camp = gifts_2y.groupby(\"donorID\")['amount'].agg(['count', 'sum']).reset_index()\n",
    "gifts_2y_camp.columns = [\"donorID\", \"2y_camp_count\", \"2y_camp_sum\"]"
   ]
  },
  {
   "cell_type": "code",
   "execution_count": 612,
   "id": "e9493042",
   "metadata": {},
   "outputs": [
    {
     "name": "stdout",
     "output_type": "stream",
     "text": [
      "<class 'pandas.core.frame.DataFrame'>\n",
      "Int64Index: 44700 entries, 0 to 44699\n",
      "Data columns (total 7 columns):\n",
      " #   Column         Non-Null Count  Dtype  \n",
      "---  ------         --------------  -----  \n",
      " 0   donorID        44700 non-null  int64  \n",
      " 1   sum            44700 non-null  float64\n",
      " 2   count          44700 non-null  int64  \n",
      " 3   1y_camp_count  126 non-null    float64\n",
      " 4   1y_camp_sum    126 non-null    float64\n",
      " 5   2y_camp_count  5580 non-null   float64\n",
      " 6   2y_camp_sum    5580 non-null   float64\n",
      "dtypes: float64(5), int64(2)\n",
      "memory usage: 2.7 MB\n"
     ]
    }
   ],
   "source": [
    "#Merging gifts_2y to basetable_final\n",
    "basetable_final = basetable_final.merge(gifts_2y_camp, left_on = 'donorID', right_on = 'donorID', how='left')\n",
    "basetable_final.info()"
   ]
  },
  {
   "cell_type": "code",
   "execution_count": 613,
   "id": "8c350c6c",
   "metadata": {},
   "outputs": [],
   "source": [
    "#Setting the timeline for amount donated in the last four years\n",
    "end_target =  datetime.datetime(year= 2017, month = 12, day = 15)\n",
    "start_target =  datetime.datetime(year= 2013, month = 12, day = 15)\n",
    "\n",
    "#Calculating the amount donated in the last four years\n",
    "gifts_4y = gifts_new[(gifts_new['date'] <= end_target) & (gifts_new[\"date\"] >= start_target)]\n",
    "\n",
    "# Group and sum donations by donor\n",
    "gifts_4y_camp = gifts_4y.groupby(\"donorID\")['amount'].agg(['count', 'sum']).reset_index()\n",
    "gifts_4y_camp.columns = [\"donorID\", \"4y_camp_count\", \"4y_camp_sum\"]"
   ]
  },
  {
   "cell_type": "code",
   "execution_count": 614,
   "id": "ae0df2f0",
   "metadata": {},
   "outputs": [
    {
     "name": "stdout",
     "output_type": "stream",
     "text": [
      "<class 'pandas.core.frame.DataFrame'>\n",
      "Int64Index: 44700 entries, 0 to 44699\n",
      "Data columns (total 9 columns):\n",
      " #   Column         Non-Null Count  Dtype  \n",
      "---  ------         --------------  -----  \n",
      " 0   donorID        44700 non-null  int64  \n",
      " 1   sum            44700 non-null  float64\n",
      " 2   count          44700 non-null  int64  \n",
      " 3   1y_camp_count  126 non-null    float64\n",
      " 4   1y_camp_sum    126 non-null    float64\n",
      " 5   2y_camp_count  5580 non-null   float64\n",
      " 6   2y_camp_sum    5580 non-null   float64\n",
      " 7   4y_camp_count  18483 non-null  float64\n",
      " 8   4y_camp_sum    18483 non-null  float64\n",
      "dtypes: float64(7), int64(2)\n",
      "memory usage: 3.4 MB\n"
     ]
    }
   ],
   "source": [
    "#Merging gifts_4y to basetable_final\n",
    "basetable_final = basetable_final.merge(gifts_4y_camp, left_on = 'donorID', right_on = 'donorID', how='left')\n",
    "basetable_final.info()"
   ]
  },
  {
   "cell_type": "code",
   "execution_count": 615,
   "id": "a1502669",
   "metadata": {},
   "outputs": [],
   "source": [
    "#Setting the timeline for amount donated in the last six years\n",
    "end_target =  datetime.datetime(year= 2013, month = 12, day = 15)\n",
    "start_target =  datetime.datetime(year= 2007, month = 12, day = 15)\n",
    "\n",
    "#Calculating the amount donated in the last six years\n",
    "gifts_6y = gifts_new[(gifts_new['date'] <= end_target) & (gifts_new[\"date\"] >= start_target)]\n",
    "\n",
    "# Group and sum donations by donor\n",
    "gifts_6y_camp = gifts_6y.groupby(\"donorID\")['amount'].agg(['count', 'sum']).reset_index()\n",
    "gifts_6y_camp.columns = [\"donorID\", \"6y_camp_count\", \"6y_camp_sum\"]"
   ]
  },
  {
   "cell_type": "code",
   "execution_count": 616,
   "id": "97c4f8bb",
   "metadata": {},
   "outputs": [
    {
     "name": "stdout",
     "output_type": "stream",
     "text": [
      "<class 'pandas.core.frame.DataFrame'>\n",
      "Int64Index: 44700 entries, 0 to 44699\n",
      "Data columns (total 11 columns):\n",
      " #   Column         Non-Null Count  Dtype  \n",
      "---  ------         --------------  -----  \n",
      " 0   donorID        44700 non-null  int64  \n",
      " 1   sum            44700 non-null  float64\n",
      " 2   count          44700 non-null  int64  \n",
      " 3   1y_camp_count  126 non-null    float64\n",
      " 4   1y_camp_sum    126 non-null    float64\n",
      " 5   2y_camp_count  5580 non-null   float64\n",
      " 6   2y_camp_sum    5580 non-null   float64\n",
      " 7   4y_camp_count  18483 non-null  float64\n",
      " 8   4y_camp_sum    18483 non-null  float64\n",
      " 9   6y_camp_count  30536 non-null  float64\n",
      " 10  6y_camp_sum    30536 non-null  float64\n",
      "dtypes: float64(9), int64(2)\n",
      "memory usage: 4.1 MB\n"
     ]
    }
   ],
   "source": [
    "#Merging gifts_6y to basetable_final\n",
    "basetable_final = basetable_final.merge(gifts_6y_camp, left_on = 'donorID', right_on = 'donorID', how='left')\n",
    "basetable_final.info()"
   ]
  },
  {
   "cell_type": "code",
   "execution_count": 617,
   "id": "73cf4dcf",
   "metadata": {},
   "outputs": [],
   "source": [
    "#calculating the gift first and last year for donors\n",
    "gift_first_last_year = gifts.groupby('donorID').agg(gift_first_year = ('gift_year',min), gift_last_year = ('gift_year',max)).reset_index()"
   ]
  },
  {
   "cell_type": "code",
   "execution_count": 618,
   "id": "0977482f",
   "metadata": {},
   "outputs": [
    {
     "name": "stdout",
     "output_type": "stream",
     "text": [
      "<class 'pandas.core.frame.DataFrame'>\n",
      "Int64Index: 44700 entries, 0 to 44699\n",
      "Data columns (total 13 columns):\n",
      " #   Column           Non-Null Count  Dtype  \n",
      "---  ------           --------------  -----  \n",
      " 0   donorID          44700 non-null  int64  \n",
      " 1   sum              44700 non-null  float64\n",
      " 2   count            44700 non-null  int64  \n",
      " 3   1y_camp_count    126 non-null    float64\n",
      " 4   1y_camp_sum      126 non-null    float64\n",
      " 5   2y_camp_count    5580 non-null   float64\n",
      " 6   2y_camp_sum      5580 non-null   float64\n",
      " 7   4y_camp_count    18483 non-null  float64\n",
      " 8   4y_camp_sum      18483 non-null  float64\n",
      " 9   6y_camp_count    30536 non-null  float64\n",
      " 10  6y_camp_sum      30536 non-null  float64\n",
      " 11  gift_first_year  44700 non-null  int64  \n",
      " 12  gift_last_year   44700 non-null  int64  \n",
      "dtypes: float64(9), int64(4)\n",
      "memory usage: 4.8 MB\n"
     ]
    }
   ],
   "source": [
    "#Calculating the last and first period of donations by donors\n",
    "gift_first_last_year['gift_first_year'] = 2020 - gift_first_last_year['gift_first_year']\n",
    "gift_first_last_year['gift_last_year'] = gift_first_last_year['gift_last_year']\n",
    "basetable_final =  basetable_final.merge(gift_first_last_year, left_on = 'donorID', right_on = 'donorID', how='left')\n",
    "basetable_final.info()"
   ]
  },
  {
   "cell_type": "code",
   "execution_count": 619,
   "id": "2d49669e",
   "metadata": {},
   "outputs": [
    {
     "name": "stdout",
     "output_type": "stream",
     "text": [
      "<class 'pandas.core.frame.DataFrame'>\n",
      "Int64Index: 44700 entries, 0 to 44699\n",
      "Data columns (total 20 columns):\n",
      " #   Column                 Non-Null Count  Dtype  \n",
      "---  ------                 --------------  -----  \n",
      " 0   donorID                44700 non-null  int64  \n",
      " 1   sum                    44700 non-null  float64\n",
      " 2   count                  44700 non-null  int64  \n",
      " 3   1y_camp_count          126 non-null    float64\n",
      " 4   1y_camp_sum            126 non-null    float64\n",
      " 5   2y_camp_count          5580 non-null   float64\n",
      " 6   2y_camp_sum            5580 non-null   float64\n",
      " 7   4y_camp_count          18483 non-null  float64\n",
      " 8   4y_camp_sum            18483 non-null  float64\n",
      " 9   6y_camp_count          30536 non-null  float64\n",
      " 10  6y_camp_sum            30536 non-null  float64\n",
      " 11  gift_first_year        44700 non-null  int64  \n",
      " 12  gift_last_year         44700 non-null  int64  \n",
      " 13  total_camp_count       44686 non-null  float64\n",
      " 14  total_camp_amt         44686 non-null  float64\n",
      " 15  total_camp_min_amt     44686 non-null  float64\n",
      " 16  total_camp_max_amt     44686 non-null  float64\n",
      " 17  total_amt_greater_30   44686 non-null  float64\n",
      " 18  total_amt_greater_60   44686 non-null  float64\n",
      " 19  total_amt_greater_100  44686 non-null  float64\n",
      "dtypes: float64(16), int64(4)\n",
      "memory usage: 7.2 MB\n"
     ]
    }
   ],
   "source": [
    "#creating new variables\n",
    "gifts_total = gifts_campaign.groupby('donorID') \\\n",
    "                        .agg(total_camp_count = ('campaignID','count'), total_camp_amt = ('amount','sum'), \\\n",
    "                            total_camp_min_amt = ('amount','min'), total_camp_max_amt = ('amount','max')).reset_index()\n",
    "gifts_total['total_amt_greater_30'] = np.where(gifts_total['total_camp_max_amt'] > 35, 1,0)\n",
    "gifts_total['total_amt_greater_60'] = np.where(gifts_total['total_camp_max_amt'] > 60, 1,0)\n",
    "gifts_total['total_amt_greater_100'] = np.where(gifts_total['total_camp_max_amt'] > 100, 1,0)\n",
    "basetable_final =  basetable_final.merge(gifts_total, left_on = 'donorID', right_on = 'donorID', how='left')\n",
    "\n",
    "basetable_final.info()"
   ]
  },
  {
   "cell_type": "code",
   "execution_count": 620,
   "id": "87ffedf8",
   "metadata": {},
   "outputs": [
    {
     "name": "stdout",
     "output_type": "stream",
     "text": [
      "<class 'pandas.core.frame.DataFrame'>\n",
      "Int64Index: 44700 entries, 0 to 44699\n",
      "Data columns (total 40 columns):\n",
      " #   Column                 Non-Null Count  Dtype  \n",
      "---  ------                 --------------  -----  \n",
      " 0   donorID                44700 non-null  int64  \n",
      " 1   sum                    44700 non-null  float64\n",
      " 2   count                  44700 non-null  int64  \n",
      " 3   1y_camp_count          126 non-null    float64\n",
      " 4   1y_camp_sum            126 non-null    float64\n",
      " 5   2y_camp_count          5580 non-null   float64\n",
      " 6   2y_camp_sum            5580 non-null   float64\n",
      " 7   4y_camp_count          18483 non-null  float64\n",
      " 8   4y_camp_sum            18483 non-null  float64\n",
      " 9   6y_camp_count          30536 non-null  float64\n",
      " 10  6y_camp_sum            30536 non-null  float64\n",
      " 11  gift_first_year        44700 non-null  int64  \n",
      " 12  gift_last_year         44700 non-null  int64  \n",
      " 13  total_camp_count       44686 non-null  float64\n",
      " 14  total_camp_amt         44686 non-null  float64\n",
      " 15  total_camp_min_amt     44686 non-null  float64\n",
      " 16  total_camp_max_amt     44686 non-null  float64\n",
      " 17  total_amt_greater_30   44686 non-null  float64\n",
      " 18  total_amt_greater_60   44686 non-null  float64\n",
      " 19  total_amt_greater_100  44686 non-null  float64\n",
      " 20  zipcode                44684 non-null  float64\n",
      " 21  region                 44684 non-null  object \n",
      " 22  age                    44684 non-null  float64\n",
      " 23  Gender_M               44684 non-null  float64\n",
      " 24  Gender_F               44684 non-null  float64\n",
      " 25  Gender_Missing         44684 non-null  float64\n",
      " 26  EN                     44684 non-null  float64\n",
      " 27  FR                     44684 non-null  float64\n",
      " 28  NL                     44684 non-null  float64\n",
      " 29  Flemish Brabant        44684 non-null  float64\n",
      " 30  Antwerp                44684 non-null  float64\n",
      " 31  Brussels               44684 non-null  float64\n",
      " 32  Walloon Brabant        44684 non-null  float64\n",
      " 33  West Flanders          44684 non-null  float64\n",
      " 34  East Flanders          44684 non-null  float64\n",
      " 35  Liege                  44684 non-null  float64\n",
      " 36  Luxembourg             44684 non-null  float64\n",
      " 37  Namur                  44684 non-null  float64\n",
      " 38  Hainaut                44684 non-null  float64\n",
      " 39  Limburg                44684 non-null  float64\n",
      "dtypes: float64(35), int64(4), object(1)\n",
      "memory usage: 14.0+ MB\n"
     ]
    }
   ],
   "source": [
    "#Merging donors with basetable_trait\n",
    "basetable_final = basetable_final.merge(donors, left_on = 'donorID', right_on = 'donorID', how='left')\n",
    "basetable_final.info()"
   ]
  },
  {
   "cell_type": "code",
   "execution_count": 621,
   "id": "6fda7d4a",
   "metadata": {},
   "outputs": [
    {
     "data": {
      "text/html": [
       "<div>\n",
       "<style scoped>\n",
       "    .dataframe tbody tr th:only-of-type {\n",
       "        vertical-align: middle;\n",
       "    }\n",
       "\n",
       "    .dataframe tbody tr th {\n",
       "        vertical-align: top;\n",
       "    }\n",
       "\n",
       "    .dataframe thead th {\n",
       "        text-align: right;\n",
       "    }\n",
       "</style>\n",
       "<table border=\"1\" class=\"dataframe\">\n",
       "  <thead>\n",
       "    <tr style=\"text-align: right;\">\n",
       "      <th></th>\n",
       "      <th>donorID</th>\n",
       "      <th>sum</th>\n",
       "      <th>count</th>\n",
       "      <th>1y_camp_count</th>\n",
       "      <th>1y_camp_sum</th>\n",
       "      <th>2y_camp_count</th>\n",
       "      <th>2y_camp_sum</th>\n",
       "      <th>4y_camp_count</th>\n",
       "      <th>4y_camp_sum</th>\n",
       "      <th>6y_camp_count</th>\n",
       "      <th>...</th>\n",
       "      <th>Antwerp</th>\n",
       "      <th>Brussels</th>\n",
       "      <th>Walloon Brabant</th>\n",
       "      <th>West Flanders</th>\n",
       "      <th>East Flanders</th>\n",
       "      <th>Liege</th>\n",
       "      <th>Luxembourg</th>\n",
       "      <th>Namur</th>\n",
       "      <th>Hainaut</th>\n",
       "      <th>Limburg</th>\n",
       "    </tr>\n",
       "  </thead>\n",
       "  <tbody>\n",
       "    <tr>\n",
       "      <th>0</th>\n",
       "      <td>134242</td>\n",
       "      <td>30.0</td>\n",
       "      <td>2.0</td>\n",
       "      <td>NaN</td>\n",
       "      <td>NaN</td>\n",
       "      <td>NaN</td>\n",
       "      <td>NaN</td>\n",
       "      <td>NaN</td>\n",
       "      <td>NaN</td>\n",
       "      <td>2.0</td>\n",
       "      <td>...</td>\n",
       "      <td>0.0</td>\n",
       "      <td>0.0</td>\n",
       "      <td>0.0</td>\n",
       "      <td>0.0</td>\n",
       "      <td>0.0</td>\n",
       "      <td>1.0</td>\n",
       "      <td>0.0</td>\n",
       "      <td>0.0</td>\n",
       "      <td>0.0</td>\n",
       "      <td>0.0</td>\n",
       "    </tr>\n",
       "    <tr>\n",
       "      <th>1</th>\n",
       "      <td>126503</td>\n",
       "      <td>50.0</td>\n",
       "      <td>1.0</td>\n",
       "      <td>NaN</td>\n",
       "      <td>NaN</td>\n",
       "      <td>NaN</td>\n",
       "      <td>NaN</td>\n",
       "      <td>1.0</td>\n",
       "      <td>50.0</td>\n",
       "      <td>NaN</td>\n",
       "      <td>...</td>\n",
       "      <td>0.0</td>\n",
       "      <td>0.0</td>\n",
       "      <td>0.0</td>\n",
       "      <td>0.0</td>\n",
       "      <td>1.0</td>\n",
       "      <td>0.0</td>\n",
       "      <td>0.0</td>\n",
       "      <td>0.0</td>\n",
       "      <td>0.0</td>\n",
       "      <td>0.0</td>\n",
       "    </tr>\n",
       "  </tbody>\n",
       "</table>\n",
       "<p>2 rows × 40 columns</p>\n",
       "</div>"
      ],
      "text/plain": [
       "   donorID   sum  count  1y_camp_count  1y_camp_sum  2y_camp_count  \\\n",
       "0   134242  30.0    2.0            NaN          NaN            NaN   \n",
       "1   126503  50.0    1.0            NaN          NaN            NaN   \n",
       "\n",
       "   2y_camp_sum  4y_camp_count  4y_camp_sum  6y_camp_count  ...  Antwerp  \\\n",
       "0          NaN            NaN          NaN            2.0  ...      0.0   \n",
       "1          NaN            1.0         50.0            NaN  ...      0.0   \n",
       "\n",
       "   Brussels  Walloon Brabant  West Flanders  East Flanders  Liege  Luxembourg  \\\n",
       "0       0.0              0.0            0.0            0.0    1.0         0.0   \n",
       "1       0.0              0.0            0.0            1.0    0.0         0.0   \n",
       "\n",
       "   Namur  Hainaut  Limburg  \n",
       "0    0.0      0.0      0.0  \n",
       "1    0.0      0.0      0.0  \n",
       "\n",
       "[2 rows x 40 columns]"
      ]
     },
     "execution_count": 621,
     "metadata": {},
     "output_type": "execute_result"
    }
   ],
   "source": [
    "#Merging basetable_final and selection\n",
    "basetable_final = pd.merge(selection, basetable_final, on = \"donorID\", how = \"left\")\n",
    "len(basetable_final)\n",
    "basetable_final.head(2)"
   ]
  },
  {
   "cell_type": "code",
   "execution_count": 622,
   "id": "f7d27cd1",
   "metadata": {},
   "outputs": [],
   "source": [
    "#replacing missing values by 0\n",
    "basetable_final[\"sum\"] = basetable_final[\"sum\"].replace(np.nan, 0)\n",
    "basetable_final[\"count\"] = basetable_final[\"count\"].replace(np.nan, 0)\n",
    "basetable_final[\"1y_camp_count\"] = basetable_final[\"1y_camp_count\"].replace(np.nan, 0)\n",
    "basetable_final[\"1y_camp_sum\"] = basetable_final[\"1y_camp_sum\"].replace(np.nan, 0)\n",
    "basetable_final[\"2y_camp_count\"] = basetable_final[\"2y_camp_count\"].replace(np.nan, 0)\n",
    "basetable_final[\"2y_camp_sum\"] = basetable_final[\"2y_camp_sum\"].replace(np.nan, 0)\n",
    "basetable_final[\"4y_camp_count\"] = basetable_final[\"4y_camp_count\"].replace(np.nan, 0)\n",
    "basetable_final[\"4y_camp_sum\"] = basetable_final[\"4y_camp_sum\"].replace(np.nan, 0)\n",
    "basetable_final[\"6y_camp_count\"] = basetable_final[\"6y_camp_count\"].replace(np.nan, 0)\n",
    "basetable_final[\"6y_camp_sum\"] = basetable_final[\"6y_camp_sum\"].replace(np.nan, 0)\n",
    "basetable_final[\"gift_first_year\"] = basetable_final[\"gift_first_year\"].replace(np.nan, 0)\n",
    "basetable_final[\"gift_last_year\"] = basetable_final[\"gift_last_year\"].replace(np.nan, 0)\n",
    "basetable_final[\"total_camp_count\"] = basetable_final[\"total_camp_count\"].replace(np.nan, 0)\n",
    "basetable_final[\"total_camp_amt\"] = basetable_final[\"total_camp_amt\"].replace(np.nan, 0)\n",
    "basetable_final[\"total_camp_min_amt\"] = basetable_final[\"total_camp_min_amt\"].replace(np.nan, 0)\n",
    "basetable_final[\"total_camp_max_amt\"] = basetable_final[\"total_camp_max_amt\"].replace(np.nan, 0)\n",
    "basetable_final[\"total_amt_greater_30\"] = basetable_final[\"total_amt_greater_30\"].replace(np.nan, 0)\n",
    "basetable_final[\"total_amt_greater_60\"] = basetable_final[\"total_amt_greater_60\"].replace(np.nan, 0)\n",
    "basetable_final[\"total_amt_greater_100\"] = basetable_final[\"total_amt_greater_100\"].replace(np.nan, 0)"
   ]
  },
  {
   "cell_type": "code",
   "execution_count": 623,
   "id": "ea7d35d8",
   "metadata": {},
   "outputs": [],
   "source": [
    "#filling nas with  missing \n",
    "basetable_final['region'] = basetable_final['region'].fillna('missing')"
   ]
  },
  {
   "cell_type": "code",
   "execution_count": 624,
   "id": "40d19613",
   "metadata": {},
   "outputs": [
    {
     "data": {
      "text/plain": [
       "array(['Flanders', 'Wallonia', 'Brussels', 'missing'], dtype=object)"
      ]
     },
     "execution_count": 624,
     "metadata": {},
     "output_type": "execute_result"
    }
   ],
   "source": [
    "#checking for unique values in column\n",
    "basetable_final['region'].unique()"
   ]
  },
  {
   "cell_type": "code",
   "execution_count": null,
   "id": "32f6de5d",
   "metadata": {},
   "outputs": [],
   "source": []
  },
  {
   "cell_type": "code",
   "execution_count": 625,
   "id": "0333f34d",
   "metadata": {},
   "outputs": [
    {
     "name": "stdout",
     "output_type": "stream",
     "text": [
      "<class 'pandas.core.frame.DataFrame'>\n",
      "Int64Index: 26522 entries, 0 to 26521\n",
      "Data columns (total 40 columns):\n",
      " #   Column                 Non-Null Count  Dtype  \n",
      "---  ------                 --------------  -----  \n",
      " 0   donorID                26522 non-null  int64  \n",
      " 1   sum                    26522 non-null  float64\n",
      " 2   count                  26522 non-null  float64\n",
      " 3   1y_camp_count          26522 non-null  float64\n",
      " 4   1y_camp_sum            26522 non-null  float64\n",
      " 5   2y_camp_count          26522 non-null  float64\n",
      " 6   2y_camp_sum            26522 non-null  float64\n",
      " 7   4y_camp_count          26522 non-null  float64\n",
      " 8   4y_camp_sum            26522 non-null  float64\n",
      " 9   6y_camp_count          26522 non-null  float64\n",
      " 10  6y_camp_sum            26522 non-null  float64\n",
      " 11  gift_first_year        26522 non-null  float64\n",
      " 12  gift_last_year         26522 non-null  float64\n",
      " 13  total_camp_count       26522 non-null  float64\n",
      " 14  total_camp_amt         26522 non-null  float64\n",
      " 15  total_camp_min_amt     26522 non-null  float64\n",
      " 16  total_camp_max_amt     26522 non-null  float64\n",
      " 17  total_amt_greater_30   26522 non-null  float64\n",
      " 18  total_amt_greater_60   26522 non-null  float64\n",
      " 19  total_amt_greater_100  26522 non-null  float64\n",
      " 20  zipcode                26517 non-null  float64\n",
      " 21  region                 26522 non-null  object \n",
      " 22  age                    26517 non-null  float64\n",
      " 23  Gender_M               26517 non-null  float64\n",
      " 24  Gender_F               26517 non-null  float64\n",
      " 25  Gender_Missing         26517 non-null  float64\n",
      " 26  EN                     26517 non-null  float64\n",
      " 27  FR                     26517 non-null  float64\n",
      " 28  NL                     26517 non-null  float64\n",
      " 29  Flemish Brabant        26517 non-null  float64\n",
      " 30  Antwerp                26517 non-null  float64\n",
      " 31  Brussels               26517 non-null  float64\n",
      " 32  Walloon Brabant        26517 non-null  float64\n",
      " 33  West Flanders          26517 non-null  float64\n",
      " 34  East Flanders          26517 non-null  float64\n",
      " 35  Liege                  26517 non-null  float64\n",
      " 36  Luxembourg             26517 non-null  float64\n",
      " 37  Namur                  26517 non-null  float64\n",
      " 38  Hainaut                26517 non-null  float64\n",
      " 39  Limburg                26517 non-null  float64\n",
      "dtypes: float64(38), int64(1), object(1)\n",
      "memory usage: 8.3+ MB\n"
     ]
    }
   ],
   "source": [
    "basetable_final.info()"
   ]
  },
  {
   "cell_type": "code",
   "execution_count": 626,
   "id": "e0556cf5",
   "metadata": {},
   "outputs": [],
   "source": [
    "#writing out the data into a csv file\n",
    "basetable_final.to_csv('../dsc_data/basetable_finaldata.csv')"
   ]
  },
  {
   "cell_type": "code",
   "execution_count": 627,
   "id": "b30a2c9c",
   "metadata": {},
   "outputs": [
    {
     "data": {
      "text/plain": [
       "['4y_camp_sum',\n",
       " 'gift_last_year',\n",
       " 'total_amt_greater_30',\n",
       " 'total_amt_greater_60',\n",
       " 'age',\n",
       " 'Gender_M',\n",
       " 'Gender_F']"
      ]
     },
     "execution_count": 627,
     "metadata": {},
     "output_type": "execute_result"
    }
   ],
   "source": [
    "#selected features\n",
    "selectedFeatures_pearson"
   ]
  },
  {
   "cell_type": "code",
   "execution_count": 628,
   "id": "d58550de",
   "metadata": {},
   "outputs": [],
   "source": [
    "#Preprocessing before modelling\n",
    "le = preprocessing.LabelEncoder()\n",
    "basetable_final['region']  = le.fit_transform(basetable_final['region'])\n",
    "basetable_final = basetable_final.fillna(0)\n",
    "basetable_final.drop('donorID', axis=1, inplace = True)"
   ]
  },
  {
   "cell_type": "code",
   "execution_count": 629,
   "id": "d05017e1",
   "metadata": {},
   "outputs": [],
   "source": [
    "#applying our logistic regression model on the final basetable\n",
    "y_pred_7362 = models['logistic'].predict_proba(basetable_final[selectedFeatures_pearson])"
   ]
  },
  {
   "cell_type": "code",
   "execution_count": 630,
   "id": "3d3a4420",
   "metadata": {},
   "outputs": [],
   "source": [
    "#applying it on our selected features\n",
    "y_pred_7362_selected_features = models['logistic'].predict_proba(basetable_final[selectedFeatures_pearson])"
   ]
  },
  {
   "cell_type": "code",
   "execution_count": 631,
   "id": "7b9a03e5",
   "metadata": {},
   "outputs": [
    {
     "data": {
      "text/plain": [
       "26522.000000000004"
      ]
     },
     "execution_count": 631,
     "metadata": {},
     "output_type": "execute_result"
    }
   ],
   "source": [
    "#checking the sum of the predicted donors\n",
    "y_pred_7362.sum()"
   ]
  },
  {
   "cell_type": "code",
   "execution_count": 632,
   "id": "544e1b28",
   "metadata": {},
   "outputs": [
    {
     "data": {
      "text/plain": [
       "array([[0.99581145, 0.00418855],\n",
       "       [0.95923171, 0.04076829],\n",
       "       [0.93705005, 0.06294995],\n",
       "       ...,\n",
       "       [0.99261748, 0.00738252],\n",
       "       [0.9972809 , 0.0027191 ],\n",
       "       [0.99650718, 0.00349282]])"
      ]
     },
     "execution_count": 632,
     "metadata": {},
     "output_type": "execute_result"
    }
   ],
   "source": [
    "#checking the predicted values\n",
    "y_pred_7362"
   ]
  },
  {
   "cell_type": "code",
   "execution_count": 633,
   "id": "b205d5da",
   "metadata": {},
   "outputs": [],
   "source": [
    "#setting threshold for predicted value in other to get the predictions\n",
    "pred = np.where(pd.DataFrame(y_pred_7362_selected_features)[1]>.2, 1, 0)"
   ]
  },
  {
   "cell_type": "code",
   "execution_count": 635,
   "id": "4d7ae5cd",
   "metadata": {},
   "outputs": [
    {
     "data": {
      "text/plain": [
       "array([0, 0, 0, ..., 0, 0, 0])"
      ]
     },
     "execution_count": 635,
     "metadata": {},
     "output_type": "execute_result"
    }
   ],
   "source": [
    "#checking the values after threshold has been set\n",
    "pred"
   ]
  },
  {
   "cell_type": "code",
   "execution_count": 636,
   "id": "4e5bbd32",
   "metadata": {},
   "outputs": [],
   "source": [
    "#feeding in predicted values \n",
    "y_pred_7362 = pd.DataFrame(pred)"
   ]
  },
  {
   "cell_type": "code",
   "execution_count": 637,
   "id": "076d6adf",
   "metadata": {},
   "outputs": [
    {
     "data": {
      "text/plain": [
       "array([[26184,     0],\n",
       "       [    0,   338]], dtype=int64)"
      ]
     },
     "execution_count": 637,
     "metadata": {},
     "output_type": "execute_result"
    }
   ],
   "source": [
    "#checking the confusion matrix distribution of predictions\n",
    "confusion_matrix(y_pred_7362, pred)"
   ]
  },
  {
   "cell_type": "code",
   "execution_count": 638,
   "id": "4a35d8f0",
   "metadata": {},
   "outputs": [
    {
     "data": {
      "text/plain": [
       "26522"
      ]
     },
     "execution_count": 638,
     "metadata": {},
     "output_type": "execute_result"
    }
   ],
   "source": [
    "#checking the length of the new predictiona\n",
    "len(y_pred_7362)"
   ]
  },
  {
   "cell_type": "code",
   "execution_count": 639,
   "id": "91b6e05c",
   "metadata": {},
   "outputs": [],
   "source": [
    "#matching and creating the values of prediction in the actual dataset\n",
    "selection['Predictions'] = y_pred_7362"
   ]
  },
  {
   "cell_type": "code",
   "execution_count": 640,
   "id": "3982a215",
   "metadata": {},
   "outputs": [
    {
     "data": {
      "text/html": [
       "<div>\n",
       "<style scoped>\n",
       "    .dataframe tbody tr th:only-of-type {\n",
       "        vertical-align: middle;\n",
       "    }\n",
       "\n",
       "    .dataframe tbody tr th {\n",
       "        vertical-align: top;\n",
       "    }\n",
       "\n",
       "    .dataframe thead th {\n",
       "        text-align: right;\n",
       "    }\n",
       "</style>\n",
       "<table border=\"1\" class=\"dataframe\">\n",
       "  <thead>\n",
       "    <tr style=\"text-align: right;\">\n",
       "      <th></th>\n",
       "      <th>donorID</th>\n",
       "      <th>Predictions</th>\n",
       "    </tr>\n",
       "  </thead>\n",
       "  <tbody>\n",
       "    <tr>\n",
       "      <th>0</th>\n",
       "      <td>134242</td>\n",
       "      <td>0</td>\n",
       "    </tr>\n",
       "    <tr>\n",
       "      <th>1</th>\n",
       "      <td>126503</td>\n",
       "      <td>0</td>\n",
       "    </tr>\n",
       "    <tr>\n",
       "      <th>2</th>\n",
       "      <td>104392</td>\n",
       "      <td>0</td>\n",
       "    </tr>\n",
       "    <tr>\n",
       "      <th>3</th>\n",
       "      <td>105905</td>\n",
       "      <td>0</td>\n",
       "    </tr>\n",
       "    <tr>\n",
       "      <th>4</th>\n",
       "      <td>120506</td>\n",
       "      <td>0</td>\n",
       "    </tr>\n",
       "    <tr>\n",
       "      <th>...</th>\n",
       "      <td>...</td>\n",
       "      <td>...</td>\n",
       "    </tr>\n",
       "    <tr>\n",
       "      <th>26517</th>\n",
       "      <td>114719</td>\n",
       "      <td>0</td>\n",
       "    </tr>\n",
       "    <tr>\n",
       "      <th>26518</th>\n",
       "      <td>134824</td>\n",
       "      <td>0</td>\n",
       "    </tr>\n",
       "    <tr>\n",
       "      <th>26519</th>\n",
       "      <td>143259</td>\n",
       "      <td>0</td>\n",
       "    </tr>\n",
       "    <tr>\n",
       "      <th>26520</th>\n",
       "      <td>123936</td>\n",
       "      <td>0</td>\n",
       "    </tr>\n",
       "    <tr>\n",
       "      <th>26521</th>\n",
       "      <td>128576</td>\n",
       "      <td>0</td>\n",
       "    </tr>\n",
       "  </tbody>\n",
       "</table>\n",
       "<p>26522 rows × 2 columns</p>\n",
       "</div>"
      ],
      "text/plain": [
       "       donorID  Predictions\n",
       "0       134242            0\n",
       "1       126503            0\n",
       "2       104392            0\n",
       "3       105905            0\n",
       "4       120506            0\n",
       "...        ...          ...\n",
       "26517   114719            0\n",
       "26518   134824            0\n",
       "26519   143259            0\n",
       "26520   123936            0\n",
       "26521   128576            0\n",
       "\n",
       "[26522 rows x 2 columns]"
      ]
     },
     "execution_count": 640,
     "metadata": {},
     "output_type": "execute_result"
    }
   ],
   "source": [
    "selection"
   ]
  },
  {
   "cell_type": "code",
   "execution_count": 641,
   "id": "5a769243",
   "metadata": {},
   "outputs": [],
   "source": [
    "selection[\"predictions\"] = y_pred_7362"
   ]
  },
  {
   "cell_type": "code",
   "execution_count": 642,
   "id": "5540e20d",
   "metadata": {},
   "outputs": [
    {
     "data": {
      "text/plain": [
       "predictions\n",
       "0    26184\n",
       "1      338\n",
       "Name: donorID, dtype: int64"
      ]
     },
     "execution_count": 642,
     "metadata": {},
     "output_type": "execute_result"
    }
   ],
   "source": [
    "selection.groupby(\"predictions\")[\"donorID\"].count()"
   ]
  },
  {
   "cell_type": "code",
   "execution_count": 643,
   "id": "2971fe1d",
   "metadata": {},
   "outputs": [],
   "source": [
    "selection.to_csv(r'./selection_7362.csv')"
   ]
  }
 ],
 "metadata": {
  "kernelspec": {
   "display_name": "Python 3 (ipykernel)",
   "language": "python",
   "name": "python3"
  },
  "language_info": {
   "codemirror_mode": {
    "name": "ipython",
    "version": 3
   },
   "file_extension": ".py",
   "mimetype": "text/x-python",
   "name": "python",
   "nbconvert_exporter": "python",
   "pygments_lexer": "ipython3",
   "version": "3.9.7"
  },
  "toc": {
   "base_numbering": 1,
   "nav_menu": {},
   "number_sections": true,
   "sideBar": true,
   "skip_h1_title": false,
   "title_cell": "Table of Contents",
   "title_sidebar": "Contents",
   "toc_cell": false,
   "toc_position": {},
   "toc_section_display": true,
   "toc_window_display": false
  }
 },
 "nbformat": 4,
 "nbformat_minor": 5
}
